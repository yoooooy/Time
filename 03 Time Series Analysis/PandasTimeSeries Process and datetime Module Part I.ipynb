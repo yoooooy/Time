{
 "cells": [
  {
   "cell_type": "markdown",
   "id": "d6352875",
   "metadata": {},
   "source": [
    "时间序列数据是一种重要的结构化数据形式。在多个时间点观察或测量到的任何事物都可以形成一段时间序列。根据时间序列的适用场景可以分为以下几种：\n",
    "- 时间戳(timestamp): 特定的时刻。\n",
    "- 固定日期(period): 如2021年全年。\n",
    "- 时间间隔(interval): 由起始时间和结束时间戳表示。\n",
    "- 实验或过程时间: 每个时间都是相对于特定起始时间的一个度量。"
   ]
  },
  {
   "cell_type": "code",
   "execution_count": 11,
   "id": "7ed5774b",
   "metadata": {},
   "outputs": [],
   "source": [
    "import pandas as pd\n",
    "import numpy as np"
   ]
  },
  {
   "cell_type": "markdown",
   "id": "8ee4e206",
   "metadata": {},
   "source": [
    "# 1. 日期和时间数据类型\n",
    "Python标准库中最常使用的数据类型为 `datetime.datetime`。主要的模块为：`datetime`, `time`, `calendar`。"
   ]
  },
  {
   "cell_type": "markdown",
   "id": "1231698b",
   "metadata": {},
   "source": [
    "## 1.1 Datetime Format\n",
    "- %Y: 4位数的年\n",
    "- %y: 2位数的年\n",
    "- %m: 2位数的月 [01,12]\n",
    "- %d: 2位数的日 [01,31]\n",
    "- %H: 24小时制 时 [00,23] \n",
    "- %I: 12小时制 时 [01,12]\n",
    "- %M: 2位数的 分 [00,59]\n",
    "- %S: 秒 [00,61] (60和61用于闰秒)\n",
    "\n",
    "---\n",
    "- %w: 用整数表示的星期几 [0(星期天),6]\n",
    "- %U: 每年的第几周 [0, 53]。星期天被认为是每周的第一天，每年第一个星期天之前的那几天被认为是第0周。\n",
    "- %W: 每年的第几周 [0, 53]。星期一被认为是每周的第一天，每年第一个星期天之前的那几天被认为是第0周。\n",
    "\n",
    "---\n",
    "- %F: %Y-%m-%d的简写形式，例如2021-5-23\n",
    "- %D: %m/%d/%y的简写形式，例如23/05/21\n",
    "\n",
    "---\n",
    "限于当前环境的日期格式\n",
    "\n",
    "- %a: 星期几的简写\n",
    "- %A: 星期几的全称\n",
    "- %b: 月份的简写\n",
    "- %B: 月份的全称\n",
    "- %c: 完整的日期和时间\n",
    "- %p: 不同环境的AM和PM\n",
    "- %x: 适用于当前环境的日期格式\n",
    "- %X: 适用于当前环境的时间格式"
   ]
  },
  {
   "cell_type": "markdown",
   "id": "66aafa94",
   "metadata": {},
   "source": [
    "## 1.2 datetime.datetime"
   ]
  },
  {
   "cell_type": "code",
   "execution_count": 12,
   "id": "9dcb4505",
   "metadata": {},
   "outputs": [],
   "source": [
    "from datetime import datetime"
   ]
  },
  {
   "cell_type": "code",
   "execution_count": 14,
   "id": "02037963",
   "metadata": {},
   "outputs": [
    {
     "data": {
      "text/plain": [
       "datetime.datetime(2021, 6, 1, 19, 22, 46, 84249)"
      ]
     },
     "execution_count": 14,
     "metadata": {},
     "output_type": "execute_result"
    }
   ],
   "source": [
    "now = datetime.now()\n",
    "now"
   ]
  },
  {
   "cell_type": "code",
   "execution_count": 15,
   "id": "dabba367",
   "metadata": {},
   "outputs": [
    {
     "data": {
      "text/plain": [
       "(2021, 6, 1)"
      ]
     },
     "execution_count": 15,
     "metadata": {},
     "output_type": "execute_result"
    }
   ],
   "source": [
    "# 1.访问其属性\n",
    "now.year, now.month, now.day"
   ]
  },
  {
   "cell_type": "code",
   "execution_count": 18,
   "id": "c2595a0f",
   "metadata": {},
   "outputs": [
    {
     "data": {
      "text/plain": [
       "(19, 22, 46)"
      ]
     },
     "execution_count": 18,
     "metadata": {},
     "output_type": "execute_result"
    }
   ],
   "source": [
    "now.hour, now.minute, now.second"
   ]
  },
  {
   "cell_type": "markdown",
   "id": "4fe4f47d",
   "metadata": {},
   "source": [
    "## 1.3 datetime.timedelta "
   ]
  },
  {
   "cell_type": "code",
   "execution_count": 21,
   "id": "206cad36",
   "metadata": {},
   "outputs": [
    {
     "data": {
      "text/plain": [
       "datetime.timedelta(days=498, seconds=69766, microseconds=84249)"
      ]
     },
     "execution_count": 21,
     "metadata": {},
     "output_type": "execute_result"
    }
   ],
   "source": [
    "# 2.datetime对象的运算\n",
    "start = datetime(2020, 1, 20)\n",
    "diff = now - start\n",
    "diff"
   ]
  },
  {
   "cell_type": "code",
   "execution_count": 22,
   "id": "1cd167f1",
   "metadata": {},
   "outputs": [
    {
     "data": {
      "text/plain": [
       "498"
      ]
     },
     "execution_count": 22,
     "metadata": {},
     "output_type": "execute_result"
    }
   ],
   "source": [
    "diff.days"
   ]
  },
  {
   "cell_type": "code",
   "execution_count": 23,
   "id": "0d46d8ab",
   "metadata": {},
   "outputs": [
    {
     "data": {
      "text/plain": [
       "69766"
      ]
     },
     "execution_count": 23,
     "metadata": {},
     "output_type": "execute_result"
    }
   ],
   "source": [
    "diff.seconds"
   ]
  },
  {
   "cell_type": "code",
   "execution_count": 28,
   "id": "17d8ee54",
   "metadata": {},
   "outputs": [
    {
     "data": {
      "text/plain": [
       "datetime.datetime(2021, 6, 1, 19, 22, 46, 84249)"
      ]
     },
     "execution_count": 28,
     "metadata": {},
     "output_type": "execute_result"
    }
   ],
   "source": [
    "now"
   ]
  },
  {
   "cell_type": "code",
   "execution_count": 31,
   "id": "8ac5d02d",
   "metadata": {},
   "outputs": [
    {
     "data": {
      "text/plain": [
       "datetime.datetime(2021, 6, 13, 19, 22, 46, 84249)"
      ]
     },
     "execution_count": 31,
     "metadata": {},
     "output_type": "execute_result"
    }
   ],
   "source": [
    "from datetime import timedelta\n",
    "now + timedelta(12) # 默认加天数"
   ]
  },
  {
   "cell_type": "code",
   "execution_count": 34,
   "id": "d4339abd",
   "metadata": {},
   "outputs": [],
   "source": [
    "timedelta?"
   ]
  },
  {
   "cell_type": "markdown",
   "id": "4396d942",
   "metadata": {},
   "source": [
    "timedelta(days=0, seconds=0, microseconds=0, milliseconds=0, minutes=0, hours=0, weeks=0)"
   ]
  },
  {
   "cell_type": "markdown",
   "id": "6c993fd9",
   "metadata": {},
   "source": [
    "## 1.4 字符串和datetime的相互转换 "
   ]
  },
  {
   "cell_type": "code",
   "execution_count": 37,
   "id": "6e3a0a0a",
   "metadata": {},
   "outputs": [
    {
     "data": {
      "text/plain": [
       "datetime.datetime(2021, 6, 1, 20, 0)"
      ]
     },
     "execution_count": 37,
     "metadata": {},
     "output_type": "execute_result"
    }
   ],
   "source": [
    "# 格式化日期\n",
    "sixone = '2021-6-01 20:00:00'\n",
    "\n",
    "datetime.strptime(sixone, '%Y-%m-%d %H:%M:%S')"
   ]
  },
  {
   "cell_type": "code",
   "execution_count": 39,
   "id": "270c357a",
   "metadata": {},
   "outputs": [
    {
     "data": {
      "text/plain": [
       "Timestamp('2021-06-01 20:00:00')"
      ]
     },
     "execution_count": 39,
     "metadata": {},
     "output_type": "execute_result"
    }
   ],
   "source": [
    "pd.to_datetime(sixone)"
   ]
  },
  {
   "cell_type": "code",
   "execution_count": 68,
   "id": "d940cdc6",
   "metadata": {},
   "outputs": [
    {
     "data": {
      "text/plain": [
       "'2'"
      ]
     },
     "execution_count": 68,
     "metadata": {},
     "output_type": "execute_result"
    }
   ],
   "source": [
    "# 获取指定日期属于周几\n",
    "datetime.strptime(sixone, '%Y-%m-%d %H:%M:%S').strftime('%w')"
   ]
  },
  {
   "cell_type": "code",
   "execution_count": 69,
   "id": "2a6ecd63",
   "metadata": {},
   "outputs": [
    {
     "data": {
      "text/plain": [
       "'22'"
      ]
     },
     "execution_count": 69,
     "metadata": {},
     "output_type": "execute_result"
    }
   ],
   "source": [
    "# 获取指定日期属于当年的第几周\n",
    "datetime.strptime(sixone, '%Y-%m-%d %H:%M:%S').strftime('%W')"
   ]
  },
  {
   "cell_type": "code",
   "execution_count": 70,
   "id": "dce32e1d",
   "metadata": {},
   "outputs": [
    {
     "data": {
      "text/plain": [
       "22"
      ]
     },
     "execution_count": 70,
     "metadata": {},
     "output_type": "execute_result"
    }
   ],
   "source": [
    "# 获取指定日期属于当年的第几周\n",
    "int(datetime.strptime(sixone, '%Y-%m-%d %H:%M:%S').strftime('%W'))"
   ]
  },
  {
   "cell_type": "code",
   "execution_count": 71,
   "id": "4755cf07",
   "metadata": {},
   "outputs": [
    {
     "data": {
      "text/plain": [
       "'Tue'"
      ]
     },
     "execution_count": 71,
     "metadata": {},
     "output_type": "execute_result"
    }
   ],
   "source": [
    "# 获取指定时间属于星期几\n",
    "datetime.strptime(sixone, '%Y-%m-%d %H:%M:%S').strftime('%a')"
   ]
  },
  {
   "cell_type": "code",
   "execution_count": 72,
   "id": "67451cf3",
   "metadata": {},
   "outputs": [
    {
     "data": {
      "text/plain": [
       "'Tuesday'"
      ]
     },
     "execution_count": 72,
     "metadata": {},
     "output_type": "execute_result"
    }
   ],
   "source": [
    "datetime.strptime(sixone, '%Y-%m-%d %H:%M:%S').strftime('%A')"
   ]
  },
  {
   "cell_type": "code",
   "execution_count": 73,
   "id": "7e2adc9c",
   "metadata": {},
   "outputs": [
    {
     "data": {
      "text/plain": [
       "'Jun'"
      ]
     },
     "execution_count": 73,
     "metadata": {},
     "output_type": "execute_result"
    }
   ],
   "source": [
    "# 获取指定时间属于月份\n",
    "datetime.strptime(sixone, '%Y-%m-%d %H:%M:%S').strftime('%b')"
   ]
  },
  {
   "cell_type": "code",
   "execution_count": 74,
   "id": "4fc5f6a5",
   "metadata": {},
   "outputs": [
    {
     "data": {
      "text/plain": [
       "'June'"
      ]
     },
     "execution_count": 74,
     "metadata": {},
     "output_type": "execute_result"
    }
   ],
   "source": [
    "datetime.strptime(sixone, '%Y-%m-%d %H:%M:%S').strftime('%B')"
   ]
  },
  {
   "cell_type": "markdown",
   "id": "22746a99",
   "metadata": {},
   "source": [
    "## 1.5  `NaT` (Not a Time) —— pandas中时间戳数据的NA值 \n",
    "\n",
    "![1](./images/NaT.jpg)"
   ]
  },
  {
   "cell_type": "code",
   "execution_count": 40,
   "id": "4791481e",
   "metadata": {},
   "outputs": [
    {
     "data": {
      "text/html": [
       "<div>\n",
       "<style scoped>\n",
       "    .dataframe tbody tr th:only-of-type {\n",
       "        vertical-align: middle;\n",
       "    }\n",
       "\n",
       "    .dataframe tbody tr th {\n",
       "        vertical-align: top;\n",
       "    }\n",
       "\n",
       "    .dataframe thead th {\n",
       "        text-align: right;\n",
       "    }\n",
       "</style>\n",
       "<table border=\"1\" class=\"dataframe\">\n",
       "  <thead>\n",
       "    <tr style=\"text-align: right;\">\n",
       "      <th></th>\n",
       "      <th>Semester Start Week</th>\n",
       "      <th>Holiday Date</th>\n",
       "      <th>Attendance period Start</th>\n",
       "      <th>Attendance period End</th>\n",
       "      <th>Attendance period Description</th>\n",
       "      <th>Make up lessons ID</th>\n",
       "      <th>Original lessons Date</th>\n",
       "      <th>Make up lessons Date</th>\n",
       "      <th>Make up lessons Week</th>\n",
       "      <th>Make up lessons Weekday</th>\n",
       "      <th>Make up lessons Schedule</th>\n",
       "      <th>Make up lessons Description</th>\n",
       "    </tr>\n",
       "  </thead>\n",
       "  <tbody>\n",
       "    <tr>\n",
       "      <th>0</th>\n",
       "      <td>2021-03-01</td>\n",
       "      <td>2021-05-01</td>\n",
       "      <td>07:00:00</td>\n",
       "      <td>08:30:00</td>\n",
       "      <td>上午第1节课前一小时内考勤均认为正常考勤，可以按照自己的逻辑修改。</td>\n",
       "      <td>ML2020001</td>\n",
       "      <td>2021-03-15</td>\n",
       "      <td>2021-05-28</td>\n",
       "      <td>13.0</td>\n",
       "      <td>Fri</td>\n",
       "      <td>1--2</td>\n",
       "      <td>补课日期，补第几周的课，补周几的课，补第几节课</td>\n",
       "    </tr>\n",
       "    <tr>\n",
       "      <th>1</th>\n",
       "      <td>NaT</td>\n",
       "      <td>2021-05-02</td>\n",
       "      <td>10:05:00</td>\n",
       "      <td>10:25:00</td>\n",
       "      <td>上午1-2节下课到第3节课上课之间的时间被认为正常考勤。</td>\n",
       "      <td>DL2020001</td>\n",
       "      <td>2021-03-22</td>\n",
       "      <td>2021-05-24</td>\n",
       "      <td>13.0</td>\n",
       "      <td>Mon</td>\n",
       "      <td>3--4</td>\n",
       "      <td>NaN</td>\n",
       "    </tr>\n",
       "    <tr>\n",
       "      <th>2</th>\n",
       "      <td>NaT</td>\n",
       "      <td>2021-05-03</td>\n",
       "      <td>13:00:00</td>\n",
       "      <td>14:00:00</td>\n",
       "      <td>下午第1节课前一小时内考勤均认为正常考勤，可以按照自己的逻辑修改。</td>\n",
       "      <td>CV2020001</td>\n",
       "      <td>2021-05-24</td>\n",
       "      <td>2021-05-28</td>\n",
       "      <td>13.0</td>\n",
       "      <td>Fri</td>\n",
       "      <td>5--6</td>\n",
       "      <td>NaN</td>\n",
       "    </tr>\n",
       "    <tr>\n",
       "      <th>3</th>\n",
       "      <td>NaT</td>\n",
       "      <td>2021-05-04</td>\n",
       "      <td>15:35:00</td>\n",
       "      <td>15:55:00</td>\n",
       "      <td>下午1-2节下课到第3节课上课之间的时间被认为正常考勤。</td>\n",
       "      <td>NaN</td>\n",
       "      <td>NaT</td>\n",
       "      <td>NaT</td>\n",
       "      <td>NaN</td>\n",
       "      <td>NaN</td>\n",
       "      <td>NaN</td>\n",
       "      <td>NaN</td>\n",
       "    </tr>\n",
       "    <tr>\n",
       "      <th>4</th>\n",
       "      <td>NaT</td>\n",
       "      <td>2021-05-05</td>\n",
       "      <td>17:30:00</td>\n",
       "      <td>18:00:00</td>\n",
       "      <td>下午3-4节下课到晚上第1节课上课之间的时间被认为正常考勤。</td>\n",
       "      <td>NaN</td>\n",
       "      <td>NaT</td>\n",
       "      <td>NaT</td>\n",
       "      <td>NaN</td>\n",
       "      <td>NaN</td>\n",
       "      <td>NaN</td>\n",
       "      <td>NaN</td>\n",
       "    </tr>\n",
       "  </tbody>\n",
       "</table>\n",
       "</div>"
      ],
      "text/plain": [
       "  Semester Start Week Holiday Date Attendance period Start  \\\n",
       "0          2021-03-01   2021-05-01                07:00:00   \n",
       "1                 NaT   2021-05-02                10:05:00   \n",
       "2                 NaT   2021-05-03                13:00:00   \n",
       "3                 NaT   2021-05-04                15:35:00   \n",
       "4                 NaT   2021-05-05                17:30:00   \n",
       "\n",
       "  Attendance period End      Attendance period Description Make up lessons ID  \\\n",
       "0              08:30:00  上午第1节课前一小时内考勤均认为正常考勤，可以按照自己的逻辑修改。          ML2020001   \n",
       "1              10:25:00       上午1-2节下课到第3节课上课之间的时间被认为正常考勤。          DL2020001   \n",
       "2              14:00:00  下午第1节课前一小时内考勤均认为正常考勤，可以按照自己的逻辑修改。          CV2020001   \n",
       "3              15:55:00       下午1-2节下课到第3节课上课之间的时间被认为正常考勤。                NaN   \n",
       "4              18:00:00     下午3-4节下课到晚上第1节课上课之间的时间被认为正常考勤。                NaN   \n",
       "\n",
       "  Original lessons Date Make up lessons Date  Make up lessons Week  \\\n",
       "0            2021-03-15           2021-05-28                  13.0   \n",
       "1            2021-03-22           2021-05-24                  13.0   \n",
       "2            2021-05-24           2021-05-28                  13.0   \n",
       "3                   NaT                  NaT                   NaN   \n",
       "4                   NaT                  NaT                   NaN   \n",
       "\n",
       "  Make up lessons Weekday Make up lessons Schedule Make up lessons Description  \n",
       "0                     Fri                     1--2     补课日期，补第几周的课，补周几的课，补第几节课  \n",
       "1                     Mon                     3--4                         NaN  \n",
       "2                     Fri                     5--6                         NaN  \n",
       "3                     NaN                      NaN                         NaN  \n",
       "4                     NaN                      NaN                         NaN  "
      ]
     },
     "execution_count": 40,
     "metadata": {},
     "output_type": "execute_result"
    }
   ],
   "source": [
    "rootdir = 'D:/Github/BigDataAnalysis/01 Data Analysis and Pre-processing/Dataset/'\n",
    "filenames = ['Auxiliary_Info.xlsx']\n",
    "au_info = pd.read_excel(rootdir + filenames[0])\n",
    "au_info.head()"
   ]
  },
  {
   "cell_type": "markdown",
   "id": "436444cf",
   "metadata": {},
   "source": [
    "## 1.6 Pandas与datetime的关系\n",
    "pandas中最基本的时间序列类型就是以时间戳（通常以Python字符串或datetime对象表示）为索引的Series。这些datetime对象被放在一个DatetimeIndex中。"
   ]
  },
  {
   "cell_type": "code",
   "execution_count": 44,
   "id": "441ebcba",
   "metadata": {},
   "outputs": [
    {
     "data": {
      "text/plain": [
       "[1, 3, 5]"
      ]
     },
     "execution_count": 44,
     "metadata": {},
     "output_type": "execute_result"
    }
   ],
   "source": [
    "ts = [1, 2, 3, 4, 5, 6]\n",
    "ts[::2]"
   ]
  },
  {
   "cell_type": "code",
   "execution_count": 45,
   "id": "c9b2ba5c",
   "metadata": {},
   "outputs": [
    {
     "data": {
      "text/plain": [
       "[2, 4, 6]"
      ]
     },
     "execution_count": 45,
     "metadata": {},
     "output_type": "execute_result"
    }
   ],
   "source": [
    "ts[1::2]"
   ]
  },
  {
   "cell_type": "code",
   "execution_count": 46,
   "id": "9c446198",
   "metadata": {},
   "outputs": [
    {
     "data": {
      "text/plain": [
       "[4, 6]"
      ]
     },
     "execution_count": 46,
     "metadata": {},
     "output_type": "execute_result"
    }
   ],
   "source": [
    "ts[3::2]"
   ]
  },
  {
   "cell_type": "code",
   "execution_count": 54,
   "id": "25f2dab8",
   "metadata": {},
   "outputs": [],
   "source": [
    "# Random values in a given shape.\n",
    "# rand(d0, d1, ..., dn)\n",
    "np.random.rand?"
   ]
  },
  {
   "cell_type": "code",
   "execution_count": 55,
   "id": "7e891b47",
   "metadata": {},
   "outputs": [
    {
     "data": {
      "text/plain": [
       "array([[0.53064704],\n",
       "       [0.54018723],\n",
       "       [0.43826432],\n",
       "       [0.98806201],\n",
       "       [0.18967486],\n",
       "       [0.96387848]])"
      ]
     },
     "execution_count": 55,
     "metadata": {},
     "output_type": "execute_result"
    }
   ],
   "source": [
    "np.random.rand(6, 1)"
   ]
  },
  {
   "cell_type": "code",
   "execution_count": 57,
   "id": "7176e41e",
   "metadata": {},
   "outputs": [],
   "source": [
    "# Return a sample (or samples) from the \"standard normal\" distribution.\n",
    "# randn(d0, d1, ..., dn)\n",
    "np.random.randn?"
   ]
  },
  {
   "cell_type": "code",
   "execution_count": 58,
   "id": "4ea48785",
   "metadata": {},
   "outputs": [
    {
     "data": {
      "text/plain": [
       "array([-0.60655019,  2.11467588, -1.15069137, -0.02745732, -0.62381701,\n",
       "        0.20075619])"
      ]
     },
     "execution_count": 58,
     "metadata": {},
     "output_type": "execute_result"
    }
   ],
   "source": [
    "np.random.randn(6)"
   ]
  },
  {
   "cell_type": "code",
   "execution_count": 60,
   "id": "27ff9be1",
   "metadata": {},
   "outputs": [
    {
     "data": {
      "text/plain": [
       "2021-06-01    0.784748\n",
       "2021-06-02    0.452610\n",
       "2021-06-03    1.949499\n",
       "2021-06-10   -1.436581\n",
       "2021-06-18    0.414006\n",
       "2021-06-20   -0.503487\n",
       "dtype: float64"
      ]
     },
     "execution_count": 60,
     "metadata": {},
     "output_type": "execute_result"
    }
   ],
   "source": [
    "dates = [datetime(2021, 6, 1), \n",
    "         datetime(2021, 6, 2), \n",
    "         datetime(2021, 6, 3), \n",
    "         datetime(2021, 6, 10), \n",
    "         datetime(2021, 6, 18), \n",
    "         datetime(2021, 6, 20), \n",
    "        ]\n",
    "\n",
    "mock_value = np.random.randn(len(dates))\n",
    "# 显式构造 pandas.Series 对象\n",
    "# 当创建具有DatetimeIndex的Series时，pandas会自动推断为时间序列。\n",
    "ts = pd.Series(mock_value, index=dates)\n",
    "ts"
   ]
  },
  {
   "cell_type": "code",
   "execution_count": 61,
   "id": "8edd09f8",
   "metadata": {},
   "outputs": [
    {
     "data": {
      "text/plain": [
       "pandas.core.series.Series"
      ]
     },
     "execution_count": 61,
     "metadata": {},
     "output_type": "execute_result"
    }
   ],
   "source": [
    "type(ts)"
   ]
  },
  {
   "cell_type": "code",
   "execution_count": 63,
   "id": "bee830c9",
   "metadata": {},
   "outputs": [
    {
     "data": {
      "text/plain": [
       "True"
      ]
     },
     "execution_count": 63,
     "metadata": {},
     "output_type": "execute_result"
    }
   ],
   "source": [
    "isinstance(ts, pd.core.series.Series)"
   ]
  },
  {
   "cell_type": "code",
   "execution_count": 65,
   "id": "b036d966",
   "metadata": {},
   "outputs": [
    {
     "data": {
      "text/plain": [
       "dtype('<M8[ns]')"
      ]
     },
     "execution_count": 65,
     "metadata": {},
     "output_type": "execute_result"
    }
   ],
   "source": [
    "# 以纳秒形式存储\n",
    "ts.index.dtype"
   ]
  },
  {
   "cell_type": "code",
   "execution_count": 79,
   "id": "5ed8860a",
   "metadata": {},
   "outputs": [
    {
     "data": {
      "text/plain": [
       "Timestamp('2021-06-01 00:00:00')"
      ]
     },
     "execution_count": 79,
     "metadata": {},
     "output_type": "execute_result"
    }
   ],
   "source": [
    "# 索引切片\n",
    "ts.index[0]"
   ]
  },
  {
   "cell_type": "code",
   "execution_count": 81,
   "id": "d7361805",
   "metadata": {},
   "outputs": [
    {
     "data": {
      "text/plain": [
       "[Timestamp('2021-06-01 00:00:00'),\n",
       " Timestamp('2021-06-02 00:00:00'),\n",
       " Timestamp('2021-06-03 00:00:00'),\n",
       " Timestamp('2021-06-10 00:00:00'),\n",
       " Timestamp('2021-06-18 00:00:00'),\n",
       " Timestamp('2021-06-20 00:00:00')]"
      ]
     },
     "execution_count": 81,
     "metadata": {},
     "output_type": "execute_result"
    }
   ],
   "source": [
    "list(ts.index)"
   ]
  },
  {
   "cell_type": "markdown",
   "id": "4967b3c6",
   "metadata": {},
   "source": [
    "## 1.7 索引、选取、子集构造\n",
    "TimeSeries是Series的一个子类，所以在索引以及数据选取方面，它们的行为是一样的。\n",
    "\n"
   ]
  },
  {
   "cell_type": "markdown",
   "id": "702bd674",
   "metadata": {},
   "source": [
    "### 1) 索引 "
   ]
  },
  {
   "cell_type": "code",
   "execution_count": 83,
   "id": "1e131917",
   "metadata": {},
   "outputs": [
    {
     "data": {
      "text/plain": [
       "Timestamp('2021-06-03 00:00:00')"
      ]
     },
     "execution_count": 83,
     "metadata": {},
     "output_type": "execute_result"
    }
   ],
   "source": [
    "stamp = ts.index[2]\n",
    "stamp"
   ]
  },
  {
   "cell_type": "code",
   "execution_count": 84,
   "id": "69a37021",
   "metadata": {},
   "outputs": [
    {
     "data": {
      "text/plain": [
       "1.9494987022879615"
      ]
     },
     "execution_count": 84,
     "metadata": {},
     "output_type": "execute_result"
    }
   ],
   "source": [
    "# 传入时间戳\n",
    "ts[stamp]"
   ]
  },
  {
   "cell_type": "code",
   "execution_count": 85,
   "id": "7696394e",
   "metadata": {},
   "outputs": [
    {
     "data": {
      "text/plain": [
       "0.7847481402803347"
      ]
     },
     "execution_count": 85,
     "metadata": {},
     "output_type": "execute_result"
    }
   ],
   "source": [
    "# 传入一个可以被解释为日期的字符串\n",
    "ts['6/1/2021']"
   ]
  },
  {
   "cell_type": "markdown",
   "id": "f4e31236",
   "metadata": {},
   "source": [
    "### 2) 切片 \n",
    "<font color=red> 只对Series有效！ </font>"
   ]
  },
  {
   "cell_type": "code",
   "execution_count": 86,
   "id": "a262f60d",
   "metadata": {},
   "outputs": [
    {
     "data": {
      "text/plain": [
       "2021-06-03    1.949499\n",
       "2021-06-10   -1.436581\n",
       "2021-06-18    0.414006\n",
       "2021-06-20   -0.503487\n",
       "dtype: float64"
      ]
     },
     "execution_count": 86,
     "metadata": {},
     "output_type": "execute_result"
    }
   ],
   "source": [
    "# 日期切片\n",
    "ts[datetime(2021, 6, 3):]"
   ]
  },
  {
   "cell_type": "code",
   "execution_count": 87,
   "id": "7bd53880",
   "metadata": {},
   "outputs": [
    {
     "data": {
      "text/plain": [
       "2021-06-01    0.784748\n",
       "2021-06-02    0.452610\n",
       "2021-06-03    1.949499\n",
       "dtype: float64"
      ]
     },
     "execution_count": 87,
     "metadata": {},
     "output_type": "execute_result"
    }
   ],
   "source": [
    "# 范围查询\n",
    "ts['6/1/2021':'6/3/2021']"
   ]
  },
  {
   "cell_type": "markdown",
   "id": "30e72b6a",
   "metadata": {},
   "source": [
    "### 3) 子集构造 "
   ]
  },
  {
   "cell_type": "code",
   "execution_count": 89,
   "id": "e7d0f682",
   "metadata": {},
   "outputs": [
    {
     "data": {
      "text/plain": [
       "2021-06-01    0.542161\n",
       "2021-06-02   -1.620210\n",
       "2021-06-03   -0.504591\n",
       "2021-06-04    0.829834\n",
       "2021-06-05    0.615478\n",
       "                ...   \n",
       "2021-09-04    1.015031\n",
       "2021-09-05    0.526046\n",
       "2021-09-06    1.559286\n",
       "2021-09-07   -0.352586\n",
       "2021-09-08    0.135214\n",
       "Freq: D, Length: 100, dtype: float64"
      ]
     },
     "execution_count": 89,
     "metadata": {},
     "output_type": "execute_result"
    }
   ],
   "source": [
    "periods = 100\n",
    "longer_ts = pd.Series(np.random.randn(periods), \n",
    "                      index=pd.date_range('6/1/2021', periods=periods))\n",
    "longer_ts"
   ]
  },
  {
   "cell_type": "code",
   "execution_count": 90,
   "id": "e256abdc",
   "metadata": {},
   "outputs": [],
   "source": [
    "%page longer_ts"
   ]
  },
  {
   "cell_type": "code",
   "execution_count": 94,
   "id": "ba2c7564",
   "metadata": {},
   "outputs": [
    {
     "data": {
      "text/plain": [
       "2021-06-10   -1.297002\n",
       "2021-06-11    1.586373\n",
       "2021-06-12    0.048455\n",
       "2021-06-13   -0.586656\n",
       "2021-06-14    0.240073\n",
       "2021-06-15   -1.077827\n",
       "2021-06-16   -0.244207\n",
       "2021-06-17    1.077276\n",
       "2021-06-18   -0.024610\n",
       "Freq: D, dtype: float64"
      ]
     },
     "execution_count": 94,
     "metadata": {},
     "output_type": "execute_result"
    }
   ],
   "source": [
    "# before日期之前的丢弃\n",
    "# after日期之后的丢弃\n",
    "longer_ts.truncate(before='6/10/2021',\n",
    "                   after='6/18/2021')"
   ]
  },
  {
   "cell_type": "code",
   "execution_count": 92,
   "id": "ceb46e23",
   "metadata": {},
   "outputs": [],
   "source": [
    "longer_ts.truncate?"
   ]
  },
  {
   "cell_type": "markdown",
   "id": "66e08589",
   "metadata": {},
   "source": [
    "```python\n",
    "longer_ts.truncate(\n",
    "    before=None,\n",
    "    after=None,\n",
    "    axis=None,\n",
    "    copy: 'bool_t' = True,\n",
    ") -> 'FrameOrSeries'\n",
    "```"
   ]
  },
  {
   "cell_type": "markdown",
   "id": "537326b8",
   "metadata": {},
   "source": [
    "### 4) pd.date_range()\n",
    "注意 `freq` 参数设置！"
   ]
  },
  {
   "cell_type": "code",
   "execution_count": 95,
   "id": "aa2ec097",
   "metadata": {},
   "outputs": [],
   "source": [
    "pd.date_range?"
   ]
  },
  {
   "cell_type": "markdown",
   "id": "cfb8f6c2",
   "metadata": {},
   "source": [
    "```python\n",
    "pd.date_range(\n",
    "    start=None,\n",
    "    end=None,\n",
    "    periods=None,\n",
    "    freq=None,\n",
    "    tz=None,\n",
    "    normalize=False,\n",
    "    name=None,\n",
    "    closed=None,\n",
    "    **kwargs,\n",
    ") -> pandas.core.indexes.datetimes.DatetimeIndex\n",
    "```"
   ]
  },
  {
   "cell_type": "code",
   "execution_count": 98,
   "id": "c4075bb9",
   "metadata": {},
   "outputs": [
    {
     "data": {
      "text/plain": [
       "DatetimeIndex(['2021-06-23', '2021-06-30', '2021-07-07', '2021-07-14',\n",
       "               '2021-07-21', '2021-07-28', '2021-08-04', '2021-08-11',\n",
       "               '2021-08-18', '2021-08-25', '2021-09-01', '2021-09-08',\n",
       "               '2021-09-15', '2021-09-22', '2021-09-29', '2021-10-06',\n",
       "               '2021-10-13', '2021-10-20', '2021-10-27', '2021-11-03',\n",
       "               '2021-11-10', '2021-11-17', '2021-11-24', '2021-12-01',\n",
       "               '2021-12-08', '2021-12-15', '2021-12-22', '2021-12-29',\n",
       "               '2022-01-05', '2022-01-12', '2022-01-19', '2022-01-26',\n",
       "               '2022-02-02', '2022-02-09', '2022-02-16', '2022-02-23',\n",
       "               '2022-03-02', '2022-03-09', '2022-03-16', '2022-03-23',\n",
       "               '2022-03-30', '2022-04-06', '2022-04-13', '2022-04-20',\n",
       "               '2022-04-27', '2022-05-04', '2022-05-11', '2022-05-18',\n",
       "               '2022-05-25', '2022-06-01', '2022-06-08', '2022-06-15',\n",
       "               '2022-06-22', '2022-06-29', '2022-07-06', '2022-07-13',\n",
       "               '2022-07-20', '2022-07-27', '2022-08-03', '2022-08-10',\n",
       "               '2022-08-17', '2022-08-24', '2022-08-31', '2022-09-07',\n",
       "               '2022-09-14', '2022-09-21', '2022-09-28', '2022-10-05',\n",
       "               '2022-10-12', '2022-10-19', '2022-10-26', '2022-11-02',\n",
       "               '2022-11-09', '2022-11-16', '2022-11-23', '2022-11-30',\n",
       "               '2022-12-07', '2022-12-14', '2022-12-21', '2022-12-28',\n",
       "               '2023-01-04', '2023-01-11', '2023-01-18', '2023-01-25',\n",
       "               '2023-02-01', '2023-02-08', '2023-02-15', '2023-02-22',\n",
       "               '2023-03-01', '2023-03-08', '2023-03-15', '2023-03-22',\n",
       "               '2023-03-29', '2023-04-05', '2023-04-12', '2023-04-19',\n",
       "               '2023-04-26', '2023-05-03', '2023-05-10', '2023-05-17'],\n",
       "              dtype='datetime64[ns]', freq='W-WED')"
      ]
     },
     "execution_count": 98,
     "metadata": {},
     "output_type": "execute_result"
    }
   ],
   "source": [
    "dates = pd.date_range('6/18/2021', \n",
    "                      periods=100, \n",
    "                      freq='W-WED')\n",
    "dates"
   ]
  },
  {
   "cell_type": "markdown",
   "id": "b31275dc",
   "metadata": {},
   "source": [
    "### 5) DataFrame.iloc"
   ]
  },
  {
   "cell_type": "code",
   "execution_count": 103,
   "id": "113d3e56",
   "metadata": {},
   "outputs": [
    {
     "name": "stdout",
     "output_type": "stream",
     "text": [
      "Object `pd.DataFrame.ix` not found.\n"
     ]
    }
   ],
   "source": [
    "# 已经移除了\n",
    "pd.DataFrame.ix?"
   ]
  },
  {
   "cell_type": "code",
   "execution_count": 104,
   "id": "8c26ac1b",
   "metadata": {},
   "outputs": [
    {
     "data": {
      "text/plain": [
       "'1.2.4'"
      ]
     },
     "execution_count": 104,
     "metadata": {},
     "output_type": "execute_result"
    }
   ],
   "source": [
    "pd.__version__"
   ]
  },
  {
   "cell_type": "code",
   "execution_count": 105,
   "id": "cf069bcb",
   "metadata": {},
   "outputs": [],
   "source": [
    "pd.DataFrame.iloc?"
   ]
  },
  {
   "cell_type": "code",
   "execution_count": 101,
   "id": "ccd930f8",
   "metadata": {},
   "outputs": [
    {
     "data": {
      "text/html": [
       "<div>\n",
       "<style scoped>\n",
       "    .dataframe tbody tr th:only-of-type {\n",
       "        vertical-align: middle;\n",
       "    }\n",
       "\n",
       "    .dataframe tbody tr th {\n",
       "        vertical-align: top;\n",
       "    }\n",
       "\n",
       "    .dataframe thead th {\n",
       "        text-align: right;\n",
       "    }\n",
       "</style>\n",
       "<table border=\"1\" class=\"dataframe\">\n",
       "  <thead>\n",
       "    <tr style=\"text-align: right;\">\n",
       "      <th></th>\n",
       "      <th>Colorado</th>\n",
       "      <th>Texas</th>\n",
       "      <th>New York</th>\n",
       "      <th>Califonia</th>\n",
       "    </tr>\n",
       "  </thead>\n",
       "  <tbody>\n",
       "    <tr>\n",
       "      <th>2021-06-23</th>\n",
       "      <td>1.104667</td>\n",
       "      <td>-2.493659</td>\n",
       "      <td>-1.154782</td>\n",
       "      <td>0.372761</td>\n",
       "    </tr>\n",
       "    <tr>\n",
       "      <th>2021-06-30</th>\n",
       "      <td>0.445929</td>\n",
       "      <td>0.726355</td>\n",
       "      <td>0.925137</td>\n",
       "      <td>-1.875483</td>\n",
       "    </tr>\n",
       "    <tr>\n",
       "      <th>2021-07-07</th>\n",
       "      <td>1.937304</td>\n",
       "      <td>0.243263</td>\n",
       "      <td>0.711466</td>\n",
       "      <td>1.126121</td>\n",
       "    </tr>\n",
       "    <tr>\n",
       "      <th>2021-07-14</th>\n",
       "      <td>-0.530885</td>\n",
       "      <td>-0.915292</td>\n",
       "      <td>0.193696</td>\n",
       "      <td>-0.610519</td>\n",
       "    </tr>\n",
       "    <tr>\n",
       "      <th>2021-07-21</th>\n",
       "      <td>1.293584</td>\n",
       "      <td>0.333919</td>\n",
       "      <td>1.038634</td>\n",
       "      <td>-1.137250</td>\n",
       "    </tr>\n",
       "    <tr>\n",
       "      <th>...</th>\n",
       "      <td>...</td>\n",
       "      <td>...</td>\n",
       "      <td>...</td>\n",
       "      <td>...</td>\n",
       "    </tr>\n",
       "    <tr>\n",
       "      <th>2023-04-19</th>\n",
       "      <td>-0.452375</td>\n",
       "      <td>-0.297580</td>\n",
       "      <td>-1.209614</td>\n",
       "      <td>-0.756588</td>\n",
       "    </tr>\n",
       "    <tr>\n",
       "      <th>2023-04-26</th>\n",
       "      <td>-1.299277</td>\n",
       "      <td>-0.485290</td>\n",
       "      <td>-0.808197</td>\n",
       "      <td>-1.988203</td>\n",
       "    </tr>\n",
       "    <tr>\n",
       "      <th>2023-05-03</th>\n",
       "      <td>-0.977997</td>\n",
       "      <td>0.230503</td>\n",
       "      <td>-0.663490</td>\n",
       "      <td>0.486109</td>\n",
       "    </tr>\n",
       "    <tr>\n",
       "      <th>2023-05-10</th>\n",
       "      <td>0.838546</td>\n",
       "      <td>-1.123142</td>\n",
       "      <td>-0.766710</td>\n",
       "      <td>0.147016</td>\n",
       "    </tr>\n",
       "    <tr>\n",
       "      <th>2023-05-17</th>\n",
       "      <td>0.170875</td>\n",
       "      <td>0.775460</td>\n",
       "      <td>1.344665</td>\n",
       "      <td>-0.143871</td>\n",
       "    </tr>\n",
       "  </tbody>\n",
       "</table>\n",
       "<p>100 rows × 4 columns</p>\n",
       "</div>"
      ],
      "text/plain": [
       "            Colorado     Texas  New York  Califonia\n",
       "2021-06-23  1.104667 -2.493659 -1.154782   0.372761\n",
       "2021-06-30  0.445929  0.726355  0.925137  -1.875483\n",
       "2021-07-07  1.937304  0.243263  0.711466   1.126121\n",
       "2021-07-14 -0.530885 -0.915292  0.193696  -0.610519\n",
       "2021-07-21  1.293584  0.333919  1.038634  -1.137250\n",
       "...              ...       ...       ...        ...\n",
       "2023-04-19 -0.452375 -0.297580 -1.209614  -0.756588\n",
       "2023-04-26 -1.299277 -0.485290 -0.808197  -1.988203\n",
       "2023-05-03 -0.977997  0.230503 -0.663490   0.486109\n",
       "2023-05-10  0.838546 -1.123142 -0.766710   0.147016\n",
       "2023-05-17  0.170875  0.775460  1.344665  -0.143871\n",
       "\n",
       "[100 rows x 4 columns]"
      ]
     },
     "execution_count": 101,
     "metadata": {},
     "output_type": "execute_result"
    }
   ],
   "source": [
    "long_df = pd.DataFrame(np.random.randn(100, 4), \n",
    "                       index=dates, \n",
    "                       columns=['Colorado', 'Texas', 'New York', 'Califonia'])\n",
    "long_df"
   ]
  },
  {
   "cell_type": "code",
   "execution_count": 106,
   "id": "fd252ee6",
   "metadata": {},
   "outputs": [
    {
     "data": {
      "text/plain": [
       "DatetimeIndex(['2021-06-23', '2021-06-30', '2021-07-07', '2021-07-14',\n",
       "               '2021-07-21', '2021-07-28', '2021-08-04', '2021-08-11',\n",
       "               '2021-08-18', '2021-08-25', '2021-09-01', '2021-09-08',\n",
       "               '2021-09-15', '2021-09-22', '2021-09-29', '2021-10-06',\n",
       "               '2021-10-13', '2021-10-20', '2021-10-27', '2021-11-03',\n",
       "               '2021-11-10', '2021-11-17', '2021-11-24', '2021-12-01',\n",
       "               '2021-12-08', '2021-12-15', '2021-12-22', '2021-12-29',\n",
       "               '2022-01-05', '2022-01-12', '2022-01-19', '2022-01-26',\n",
       "               '2022-02-02', '2022-02-09', '2022-02-16', '2022-02-23',\n",
       "               '2022-03-02', '2022-03-09', '2022-03-16', '2022-03-23',\n",
       "               '2022-03-30', '2022-04-06', '2022-04-13', '2022-04-20',\n",
       "               '2022-04-27', '2022-05-04', '2022-05-11', '2022-05-18',\n",
       "               '2022-05-25', '2022-06-01', '2022-06-08', '2022-06-15',\n",
       "               '2022-06-22', '2022-06-29', '2022-07-06', '2022-07-13',\n",
       "               '2022-07-20', '2022-07-27', '2022-08-03', '2022-08-10',\n",
       "               '2022-08-17', '2022-08-24', '2022-08-31', '2022-09-07',\n",
       "               '2022-09-14', '2022-09-21', '2022-09-28', '2022-10-05',\n",
       "               '2022-10-12', '2022-10-19', '2022-10-26', '2022-11-02',\n",
       "               '2022-11-09', '2022-11-16', '2022-11-23', '2022-11-30',\n",
       "               '2022-12-07', '2022-12-14', '2022-12-21', '2022-12-28',\n",
       "               '2023-01-04', '2023-01-11', '2023-01-18', '2023-01-25',\n",
       "               '2023-02-01', '2023-02-08', '2023-02-15', '2023-02-22',\n",
       "               '2023-03-01', '2023-03-08', '2023-03-15', '2023-03-22',\n",
       "               '2023-03-29', '2023-04-05', '2023-04-12', '2023-04-19',\n",
       "               '2023-04-26', '2023-05-03', '2023-05-10', '2023-05-17'],\n",
       "              dtype='datetime64[ns]', freq='W-WED')"
      ]
     },
     "execution_count": 106,
     "metadata": {},
     "output_type": "execute_result"
    }
   ],
   "source": [
    "long_df.index"
   ]
  },
  {
   "cell_type": "markdown",
   "id": "b5f0e226",
   "metadata": {},
   "source": [
    "## 1.8 带有重复索引的时间序列\n",
    "在某些应用场景中，可能会存在多个观测数据落在同一个时间点上的情况。"
   ]
  },
  {
   "cell_type": "code",
   "execution_count": 108,
   "id": "bd5958ee",
   "metadata": {},
   "outputs": [
    {
     "data": {
      "text/plain": [
       "DatetimeIndex(['2021-06-23', '2021-06-30', '2021-06-30', '2021-06-30',\n",
       "               '2021-07-07', '2021-07-14', '2021-07-14', '2021-07-14',\n",
       "               '2021-07-21'],\n",
       "              dtype='datetime64[ns]', freq=None)"
      ]
     },
     "execution_count": 108,
     "metadata": {},
     "output_type": "execute_result"
    }
   ],
   "source": [
    "dates = pd.DatetimeIndex(['2021-06-23', \n",
    "                          '2021-06-30', \n",
    "                          '2021-06-30', \n",
    "                          '2021-06-30', \n",
    "                          '2021-07-07', \n",
    "                          '2021-07-14',\n",
    "                          '2021-07-14',\n",
    "                          '2021-07-14',\n",
    "                          '2021-07-21'])\n",
    "dates"
   ]
  },
  {
   "cell_type": "code",
   "execution_count": 110,
   "id": "81681d40",
   "metadata": {},
   "outputs": [
    {
     "data": {
      "text/plain": [
       "2021-06-23    0\n",
       "2021-06-30    1\n",
       "2021-06-30    2\n",
       "2021-06-30    3\n",
       "2021-07-07    4\n",
       "2021-07-14    5\n",
       "2021-07-14    6\n",
       "2021-07-14    7\n",
       "2021-07-21    8\n",
       "dtype: int32"
      ]
     },
     "execution_count": 110,
     "metadata": {},
     "output_type": "execute_result"
    }
   ],
   "source": [
    "dup_ts = pd.Series(np.arange(len(dates)), index=dates)\n",
    "dup_ts"
   ]
  },
  {
   "cell_type": "code",
   "execution_count": 111,
   "id": "b2236905",
   "metadata": {},
   "outputs": [
    {
     "data": {
      "text/plain": [
       "False"
      ]
     },
     "execution_count": 111,
     "metadata": {},
     "output_type": "execute_result"
    }
   ],
   "source": [
    "# 查看索引是否重复\n",
    "dup_ts.index.is_unique"
   ]
  },
  {
   "cell_type": "code",
   "execution_count": 112,
   "id": "e1ed9f6a",
   "metadata": {},
   "outputs": [
    {
     "data": {
      "text/plain": [
       "2021-06-30    1\n",
       "2021-06-30    2\n",
       "2021-06-30    3\n",
       "dtype: int32"
      ]
     },
     "execution_count": 112,
     "metadata": {},
     "output_type": "execute_result"
    }
   ],
   "source": [
    "dup_ts['2021-06-30']"
   ]
  },
  {
   "cell_type": "markdown",
   "id": "16b05be7",
   "metadata": {},
   "source": [
    "### 对非唯一索引进行聚合 groupby "
   ]
  },
  {
   "cell_type": "code",
   "execution_count": 114,
   "id": "8be80f14",
   "metadata": {},
   "outputs": [
    {
     "data": {
      "text/plain": [
       "<pandas.core.groupby.generic.SeriesGroupBy object at 0x0000021A1F146FD0>"
      ]
     },
     "execution_count": 114,
     "metadata": {},
     "output_type": "execute_result"
    }
   ],
   "source": [
    "grouped = dup_ts.groupby(level=0)\n",
    "grouped"
   ]
  },
  {
   "cell_type": "code",
   "execution_count": 115,
   "id": "14df68f0",
   "metadata": {},
   "outputs": [],
   "source": [
    "dup_ts.groupby?"
   ]
  },
  {
   "cell_type": "markdown",
   "id": "6bbf1e67",
   "metadata": {},
   "source": [
    "```python\n",
    "dup_ts.groupby(\n",
    "    by=None,\n",
    "    axis=0,\n",
    "    level=None,\n",
    "    as_index: bool = True,\n",
    "    sort: bool = True,\n",
    "    group_keys: bool = True,\n",
    "    squeeze: bool = <object object at 0x0000021A19AE6530>,\n",
    "    observed: bool = False,\n",
    "    dropna: bool = True,\n",
    ") -> 'SeriesGroupBy'\n",
    "```"
   ]
  },
  {
   "cell_type": "code",
   "execution_count": 116,
   "id": "a98526e6",
   "metadata": {},
   "outputs": [
    {
     "data": {
      "text/plain": [
       "2021-06-23    1\n",
       "2021-06-30    3\n",
       "2021-07-07    1\n",
       "2021-07-14    3\n",
       "2021-07-21    1\n",
       "dtype: int64"
      ]
     },
     "execution_count": 116,
     "metadata": {},
     "output_type": "execute_result"
    }
   ],
   "source": [
    "grouped.count()"
   ]
  },
  {
   "cell_type": "code",
   "execution_count": 117,
   "id": "f7092d56",
   "metadata": {},
   "outputs": [
    {
     "data": {
      "text/plain": [
       "2021-06-23    0\n",
       "2021-06-30    2\n",
       "2021-07-07    4\n",
       "2021-07-14    6\n",
       "2021-07-21    8\n",
       "dtype: int32"
      ]
     },
     "execution_count": 117,
     "metadata": {},
     "output_type": "execute_result"
    }
   ],
   "source": [
    "grouped.mean()"
   ]
  },
  {
   "cell_type": "markdown",
   "id": "5d229aca",
   "metadata": {},
   "source": [
    "# 2. 日期的范围、频率及移动\n",
    "Pandas具有一套标准时间序列频率以及用于重采样、频率推断、生成固定频率日期范围的工具。可以使用 `resample`将时间序列转换为具有固定频率的时间序列："
   ]
  },
  {
   "cell_type": "markdown",
   "id": "b9bb29a1",
   "metadata": {},
   "source": [
    "### 2.1 生成日期范围 `pd.date_range()`"
   ]
  },
  {
   "cell_type": "code",
   "execution_count": 118,
   "id": "9c501582",
   "metadata": {},
   "outputs": [
    {
     "data": {
      "text/plain": [
       "DatetimeIndex(['2021-06-01', '2021-06-02', '2021-06-03', '2021-06-04',\n",
       "               '2021-06-05', '2021-06-06', '2021-06-07', '2021-06-08',\n",
       "               '2021-06-09', '2021-06-10', '2021-06-11', '2021-06-12',\n",
       "               '2021-06-13', '2021-06-14', '2021-06-15', '2021-06-16',\n",
       "               '2021-06-17', '2021-06-18', '2021-06-19', '2021-06-20',\n",
       "               '2021-06-21', '2021-06-22', '2021-06-23', '2021-06-24',\n",
       "               '2021-06-25', '2021-06-26', '2021-06-27', '2021-06-28',\n",
       "               '2021-06-29', '2021-06-30', '2021-07-01', '2021-07-02',\n",
       "               '2021-07-03', '2021-07-04', '2021-07-05', '2021-07-06',\n",
       "               '2021-07-07', '2021-07-08', '2021-07-09', '2021-07-10',\n",
       "               '2021-07-11', '2021-07-12', '2021-07-13', '2021-07-14',\n",
       "               '2021-07-15', '2021-07-16', '2021-07-17', '2021-07-18',\n",
       "               '2021-07-19', '2021-07-20', '2021-07-21', '2021-07-22',\n",
       "               '2021-07-23', '2021-07-24', '2021-07-25', '2021-07-26',\n",
       "               '2021-07-27', '2021-07-28', '2021-07-29', '2021-07-30',\n",
       "               '2021-07-31', '2021-08-01'],\n",
       "              dtype='datetime64[ns]', freq='D')"
      ]
     },
     "execution_count": 118,
     "metadata": {},
     "output_type": "execute_result"
    }
   ],
   "source": [
    "# 默认按照天计算\n",
    "index = pd.date_range('6/1/2021', '8/1/2021')\n",
    "index"
   ]
  },
  {
   "cell_type": "code",
   "execution_count": 121,
   "id": "1967735b",
   "metadata": {},
   "outputs": [],
   "source": [
    "pd.date_range?"
   ]
  },
  {
   "cell_type": "markdown",
   "id": "dc14124e",
   "metadata": {},
   "source": [
    "```python\n",
    "Signature:\n",
    "pd.date_range(\n",
    "    start=None,\n",
    "    end=None,\n",
    "    periods=None,\n",
    "    freq=None,\n",
    "    tz=None,\n",
    "    normalize=False,\n",
    "    name=None,\n",
    "    closed=None,\n",
    "    **kwargs,\n",
    ") -> pandas.core.indexes.datetimes.DatetimeIndex\n",
    "Docstring:\n",
    "Return a fixed frequency DatetimeIndex.\n",
    "```"
   ]
  },
  {
   "cell_type": "markdown",
   "id": "bb7671c5",
   "metadata": {},
   "source": [
    "### 使用 `freq` 参数 \n",
    "- BM (business end of month): 表示每月最后一个工作日"
   ]
  },
  {
   "cell_type": "code",
   "execution_count": 123,
   "id": "04cbf76b",
   "metadata": {},
   "outputs": [
    {
     "data": {
      "text/plain": [
       "DatetimeIndex(['2021-01-29', '2021-02-26', '2021-03-31', '2021-04-30',\n",
       "               '2021-05-31', '2021-06-30', '2021-07-30', '2021-08-31',\n",
       "               '2021-09-30', '2021-10-29', '2021-11-30', '2021-12-31'],\n",
       "              dtype='datetime64[ns]', freq='BM')"
      ]
     },
     "execution_count": 123,
     "metadata": {},
     "output_type": "execute_result"
    }
   ],
   "source": [
    "# 默认按照天计算\n",
    "index = pd.date_range('1/1/2021', '1/1/2022', \n",
    "                      freq='BM')\n",
    "index"
   ]
  },
  {
   "cell_type": "markdown",
   "id": "fdfb54a2",
   "metadata": {},
   "source": [
    "### 使用 `peroids` 参数 "
   ]
  },
  {
   "cell_type": "code",
   "execution_count": 126,
   "id": "a0633b2f",
   "metadata": {},
   "outputs": [
    {
     "data": {
      "text/plain": [
       "(DatetimeIndex([          '2021-01-01 00:00:00',\n",
       "                '2021-01-16 20:52:10.434782608',\n",
       "                '2021-02-01 17:44:20.869565217',\n",
       "                '2021-02-17 14:36:31.304347826',\n",
       "                '2021-03-05 11:28:41.739130435',\n",
       "                '2021-03-21 08:20:52.173913044',\n",
       "                '2021-04-06 05:13:02.608695652',\n",
       "                '2021-04-22 02:05:13.043478262',\n",
       "                '2021-05-07 22:57:23.478260870',\n",
       "                '2021-05-23 19:49:33.913043478',\n",
       "                '2021-06-08 16:41:44.347826088',\n",
       "                '2021-06-24 13:33:54.782608696',\n",
       "                '2021-07-10 10:26:05.217391304',\n",
       "                '2021-07-26 07:18:15.652173914',\n",
       "                '2021-08-11 04:10:26.086956524',\n",
       "                '2021-08-27 01:02:36.521739132',\n",
       "                '2021-09-11 21:54:46.956521740',\n",
       "                '2021-09-27 18:46:57.391304348',\n",
       "                '2021-10-13 15:39:07.826086956',\n",
       "                '2021-10-29 12:31:18.260869568',\n",
       "                '2021-11-14 09:23:28.695652176',\n",
       "                '2021-11-30 06:15:39.130434784',\n",
       "                '2021-12-16 03:07:49.565217392',\n",
       "                          '2022-01-01 00:00:00'],\n",
       "               dtype='datetime64[ns]', freq=None),\n",
       " 24)"
      ]
     },
     "execution_count": 126,
     "metadata": {},
     "output_type": "execute_result"
    }
   ],
   "source": [
    "index = pd.date_range('1/1/2021', '1/1/2022', \n",
    "                      periods=24)\n",
    "index, len(index)"
   ]
  },
  {
   "cell_type": "markdown",
   "id": "41ce6a29",
   "metadata": {},
   "source": [
    "### 使用 `normalize` 参数 \n",
    "将时间戳规范化到午夜0点"
   ]
  },
  {
   "cell_type": "code",
   "execution_count": 129,
   "id": "803d1e5c",
   "metadata": {},
   "outputs": [
    {
     "data": {
      "text/plain": [
       "(DatetimeIndex(['2021-06-01', '2021-06-02', '2021-06-03', '2021-06-04',\n",
       "                '2021-06-05', '2021-06-06', '2021-06-07', '2021-06-08',\n",
       "                '2021-06-09', '2021-06-10', '2021-06-11'],\n",
       "               dtype='datetime64[ns]', freq='D'),\n",
       " 11)"
      ]
     },
     "execution_count": 129,
     "metadata": {},
     "output_type": "execute_result"
    }
   ],
   "source": [
    "index = pd.date_range('6/1/2021 11:11:11', periods=11, normalize=True)\n",
    "index, len(index)"
   ]
  },
  {
   "cell_type": "code",
   "execution_count": 130,
   "id": "5a3edcc6",
   "metadata": {},
   "outputs": [
    {
     "data": {
      "text/plain": [
       "Timestamp('2021-06-01 00:00:00', freq='D')"
      ]
     },
     "execution_count": 130,
     "metadata": {},
     "output_type": "execute_result"
    }
   ],
   "source": [
    "index[0]"
   ]
  },
  {
   "cell_type": "markdown",
   "id": "29b52b27",
   "metadata": {},
   "source": [
    "## 2.2 频率和日期偏移量\n",
    "- M：月\n",
    "- H：小时"
   ]
  },
  {
   "cell_type": "code",
   "execution_count": 134,
   "id": "8d239f67",
   "metadata": {},
   "outputs": [
    {
     "data": {
      "text/plain": [
       "DatetimeIndex(['2021-06-01 00:00:00', '2021-06-01 04:00:00',\n",
       "               '2021-06-01 08:00:00', '2021-06-01 12:00:00',\n",
       "               '2021-06-01 16:00:00', '2021-06-01 20:00:00',\n",
       "               '2021-06-02 00:00:00', '2021-06-02 04:00:00',\n",
       "               '2021-06-02 08:00:00', '2021-06-02 12:00:00',\n",
       "               ...\n",
       "               '2021-12-09 12:00:00', '2021-12-09 16:00:00',\n",
       "               '2021-12-09 20:00:00', '2021-12-10 00:00:00',\n",
       "               '2021-12-10 04:00:00', '2021-12-10 08:00:00',\n",
       "               '2021-12-10 12:00:00', '2021-12-10 16:00:00',\n",
       "               '2021-12-10 20:00:00', '2021-12-11 00:00:00'],\n",
       "              dtype='datetime64[ns]', length=1159, freq='4H')"
      ]
     },
     "execution_count": 134,
     "metadata": {},
     "output_type": "execute_result"
    }
   ],
   "source": [
    "pd.date_range('6/1/2021', '12/11/2021', freq='4h')"
   ]
  },
  {
   "cell_type": "code",
   "execution_count": 136,
   "id": "2fdc42d4",
   "metadata": {},
   "outputs": [
    {
     "data": {
      "text/plain": [
       "DatetimeIndex(['2021-06-01 00:00:00', '2021-06-01 01:00:00',\n",
       "               '2021-06-01 02:00:00', '2021-06-01 03:00:00',\n",
       "               '2021-06-01 04:00:00', '2021-06-01 05:00:00',\n",
       "               '2021-06-01 06:00:00', '2021-06-01 07:00:00',\n",
       "               '2021-06-01 08:00:00', '2021-06-01 09:00:00'],\n",
       "              dtype='datetime64[ns]', freq='H')"
      ]
     },
     "execution_count": 136,
     "metadata": {},
     "output_type": "execute_result"
    }
   ],
   "source": [
    "pd.date_range('6/1/2021', periods=10, freq='H')"
   ]
  },
  {
   "cell_type": "code",
   "execution_count": 137,
   "id": "8cdb5247",
   "metadata": {},
   "outputs": [
    {
     "data": {
      "text/plain": [
       "DatetimeIndex(['2021-06-30', '2021-07-31', '2021-08-31', '2021-09-30',\n",
       "               '2021-10-31', '2021-11-30', '2021-12-31', '2022-01-31',\n",
       "               '2022-02-28', '2022-03-31'],\n",
       "              dtype='datetime64[ns]', freq='M')"
      ]
     },
     "execution_count": 137,
     "metadata": {},
     "output_type": "execute_result"
    }
   ],
   "source": [
    "pd.date_range('6/1/2021', periods=10, freq='M')"
   ]
  },
  {
   "cell_type": "markdown",
   "id": "c4355f79",
   "metadata": {},
   "source": [
    "### 传入频率字符串 "
   ]
  },
  {
   "cell_type": "code",
   "execution_count": 135,
   "id": "70dfc32b",
   "metadata": {},
   "outputs": [
    {
     "data": {
      "text/plain": [
       "DatetimeIndex(['2021-06-01 00:00:00', '2021-06-01 04:30:00',\n",
       "               '2021-06-01 09:00:00', '2021-06-01 13:30:00',\n",
       "               '2021-06-01 18:00:00', '2021-06-01 22:30:00',\n",
       "               '2021-06-02 03:00:00', '2021-06-02 07:30:00',\n",
       "               '2021-06-02 12:00:00', '2021-06-02 16:30:00'],\n",
       "              dtype='datetime64[ns]', freq='270T')"
      ]
     },
     "execution_count": 135,
     "metadata": {},
     "output_type": "execute_result"
    }
   ],
   "source": [
    "pd.date_range('6/1/2021', periods=10, freq='4h30min')"
   ]
  },
  {
   "cell_type": "markdown",
   "id": "c1a66614",
   "metadata": {},
   "source": [
    "### 时间序列基础频率参数 `freq` 表 "
   ]
  },
  {
   "cell_type": "markdown",
   "id": "7b48fdc8",
   "metadata": {},
   "source": [
    "|别名|偏移量类型|说明|\n",
    "|:--|:--|:--|\n",
    "|D|Day|每日历日|\n",
    "|B|BusinessDay|每工作日|\n",
    "|H|Hour|每小时|\n",
    "|T/min|Minute|每分|\n",
    "|S|Second|每秒|\n",
    "|L/ms|Milli|每毫秒|\n",
    "|U|Micro|每微秒|\n",
    "|M|MonthEnd|每月最后一个日历日|\n",
    "|BM|BussinessMonthEnd|每月最后一个工作日|\n",
    "|MS|MonthBegin|每月第一个日历日|\n",
    "|BMS|BussinessMonthBegin|每月第一个工作日|\n",
    "|W-MON\\W-TUE...|Week|从指定的星期几（MON\\TUE\\WED\\THU\\FRI\\SAT\\SUN）开始算起，每周|\n",
    "|WOM-1MON\\WOM-2MON...|WeekOfMonth|产生每月第一、第二、第三或第四周的星期几。例如，WOM-3FRI表示每月第三个星期五|\n",
    "|Q-JAN\\Q-FEB...|QuarterEnd|对于以指定月份（JAN\\FEB\\MAR\\APR\\MAY\\JUN\\JUL\\AUG\\SEP\\OCT\\NOV\\DEC）结束的年度，每季度最后一个月的最后一个日历日|\n",
    "|BQ-JAN\\BQ-FEB...|BussinessQuarterEnd|对于以指定月份结束的年度，每季度最后一个月的最后一个工作日|\n",
    "|QS-JAN\\QS-FEB...|QuarterBegin|对于以指定月份结束的年度，每季度最后一个月的第一个日历日|\n",
    "|BQS-JAN\\BQS-FEB...|BussinessQuarterBegin|对于以指定月份结束的年度，每季度最后一个月的第一个工作日|\n",
    "|A-JAN\\A-FEB...|YearEnd|每年指定月份（JAN\\FEB\\MAR\\APR\\MAY\\JUN\\JUL\\AUG\\SEP\\OCT\\NOV\\DEC）的最后一个日历日|\n",
    "|BA-JAN\\BA-FEB...|BussinessYearEnd|每年指定月份的最后一个工作日|\n",
    "|AS-JAN\\AS-FEB...|YearBegin|每年指定月份的第一个日历日|\n",
    "|BA-JAN\\BA-FEB...|BussinessYearBegin|每年指定月份的第一个工作日|"
   ]
  },
  {
   "cell_type": "code",
   "execution_count": 138,
   "id": "82ab72ae",
   "metadata": {},
   "outputs": [
    {
     "data": {
      "text/plain": [
       "DatetimeIndex(['2021-06-18', '2021-07-16', '2021-08-20', '2021-09-17',\n",
       "               '2021-10-15', '2021-11-19'],\n",
       "              dtype='datetime64[ns]', freq='WOM-3FRI')"
      ]
     },
     "execution_count": 138,
     "metadata": {},
     "output_type": "execute_result"
    }
   ],
   "source": [
    "# 示例\n",
    "# 'WOM-3FRI'表示每月第三个星期五\n",
    "rng = pd.date_range('6/1/2021','12/11/2021', freq='WOM-3FRI')\n",
    "rng"
   ]
  },
  {
   "cell_type": "code",
   "execution_count": 140,
   "id": "11d4c3cc",
   "metadata": {},
   "outputs": [
    {
     "data": {
      "text/plain": [
       "DatetimeIndex(['2021-06-30', '2021-09-30', '2021-12-31'], dtype='datetime64[ns]', freq='BQ-DEC')"
      ]
     },
     "execution_count": 140,
     "metadata": {},
     "output_type": "execute_result"
    }
   ],
   "source": [
    "rng = pd.date_range('6/1/2021','1/1/2022', freq='BQ-DEC')\n",
    "rng"
   ]
  },
  {
   "cell_type": "code",
   "execution_count": 141,
   "id": "a182f10e",
   "metadata": {},
   "outputs": [],
   "source": [
    "pd.date_range?"
   ]
  },
  {
   "cell_type": "markdown",
   "id": "3994acd0",
   "metadata": {},
   "source": [
    "## 2.3 移动（超前和滞后）数据\n",
    "移动（shifting）指的是沿着时间轴将数据前移和后移。Series和DataFrame都有一个 `.shitf()` 方法用于执行单纯的前移或后移操作，保持索引不变。"
   ]
  },
  {
   "cell_type": "code",
   "execution_count": 155,
   "id": "c7071708",
   "metadata": {},
   "outputs": [
    {
     "data": {
      "text/plain": [
       "2021-06-30   -0.841412\n",
       "2021-07-31   -0.617966\n",
       "2021-08-31   -0.944509\n",
       "2021-09-30    0.630180\n",
       "2021-10-31   -0.203361\n",
       "2021-11-30    0.913479\n",
       "2021-12-31    0.082896\n",
       "2022-01-31   -1.603623\n",
       "2022-02-28    1.464227\n",
       "2022-03-31   -0.350378\n",
       "Freq: M, dtype: float64"
      ]
     },
     "execution_count": 155,
     "metadata": {},
     "output_type": "execute_result"
    }
   ],
   "source": [
    "periods = 10\n",
    "ts = pd.Series(np.random.randn(periods), \n",
    "               index=pd.date_range('6/1/2021', periods=periods, freq='M'))\n",
    "ts"
   ]
  },
  {
   "cell_type": "code",
   "execution_count": 150,
   "id": "e86ab9d4",
   "metadata": {},
   "outputs": [],
   "source": [
    "ts.shift?"
   ]
  },
  {
   "cell_type": "markdown",
   "id": "7160d068",
   "metadata": {},
   "source": [
    "```python\n",
    "ts.shift(periods=1, freq=None, axis=0, fill_value=None) -> 'Series'\n",
    "```"
   ]
  },
  {
   "cell_type": "code",
   "execution_count": 156,
   "id": "58abd1d9",
   "metadata": {},
   "outputs": [
    {
     "data": {
      "text/plain": [
       "2021-06-30         NaN\n",
       "2021-07-31   -0.841412\n",
       "2021-08-31   -0.617966\n",
       "2021-09-30   -0.944509\n",
       "2021-10-31    0.630180\n",
       "2021-11-30   -0.203361\n",
       "2021-12-31    0.913479\n",
       "2022-01-31    0.082896\n",
       "2022-02-28   -1.603623\n",
       "2022-03-31    1.464227\n",
       "Freq: M, dtype: float64"
      ]
     },
     "execution_count": 156,
     "metadata": {},
     "output_type": "execute_result"
    }
   ],
   "source": [
    "ts.shift(1)"
   ]
  },
  {
   "cell_type": "code",
   "execution_count": 157,
   "id": "b0650687",
   "metadata": {},
   "outputs": [
    {
     "data": {
      "text/plain": [
       "2021-07-31   -0.841412\n",
       "2021-08-31   -0.617966\n",
       "2021-09-30   -0.944509\n",
       "2021-10-31    0.630180\n",
       "2021-11-30   -0.203361\n",
       "2021-12-31    0.913479\n",
       "2022-01-31    0.082896\n",
       "2022-02-28   -1.603623\n",
       "2022-03-31    1.464227\n",
       "2022-04-30   -0.350378\n",
       "Freq: M, dtype: float64"
      ]
     },
     "execution_count": 157,
     "metadata": {},
     "output_type": "execute_result"
    }
   ],
   "source": [
    "ts.shift(1, freq='M')"
   ]
  },
  {
   "cell_type": "code",
   "execution_count": 158,
   "id": "54c51ed5",
   "metadata": {},
   "outputs": [
    {
     "data": {
      "text/plain": [
       "2021-06-30   -0.841412\n",
       "2021-07-31   -0.617966\n",
       "2021-08-31   -0.944509\n",
       "2021-09-30    0.630180\n",
       "2021-10-31   -0.203361\n",
       "2021-11-30    0.913479\n",
       "2021-12-31    0.082896\n",
       "2022-01-31   -1.603623\n",
       "2022-02-28    1.464227\n",
       "2022-03-31   -0.350378\n",
       "Freq: M, dtype: float64"
      ]
     },
     "execution_count": 158,
     "metadata": {},
     "output_type": "execute_result"
    }
   ],
   "source": [
    "ts"
   ]
  },
  {
   "cell_type": "markdown",
   "id": "8a3a399d",
   "metadata": {},
   "source": [
    "###  计算一个或多个时间序列中的百分比变化"
   ]
  },
  {
   "cell_type": "code",
   "execution_count": 159,
   "id": "3803100d",
   "metadata": {},
   "outputs": [
    {
     "data": {
      "text/plain": [
       "2021-06-30          NaN\n",
       "2021-07-31    -0.265561\n",
       "2021-08-31     0.528417\n",
       "2021-09-30    -1.667204\n",
       "2021-10-31    -1.322704\n",
       "2021-11-30    -5.491898\n",
       "2021-12-31    -0.909253\n",
       "2022-01-31   -20.345109\n",
       "2022-02-28    -1.913075\n",
       "2022-03-31    -1.239292\n",
       "Freq: M, dtype: float64"
      ]
     },
     "execution_count": 159,
     "metadata": {},
     "output_type": "execute_result"
    }
   ],
   "source": [
    "ts / ts.shift(1) - 1"
   ]
  },
  {
   "cell_type": "markdown",
   "id": "3b0765e1",
   "metadata": {},
   "source": [
    "### 通过偏移量对日期进行位移 "
   ]
  },
  {
   "cell_type": "code",
   "execution_count": 163,
   "id": "09b1fccd",
   "metadata": {},
   "outputs": [],
   "source": [
    "from pandas.tseries.offsets import Day, MonthEnd"
   ]
  },
  {
   "cell_type": "code",
   "execution_count": 164,
   "id": "9d7e2f89",
   "metadata": {},
   "outputs": [
    {
     "data": {
      "text/plain": [
       "datetime.datetime(2021, 6, 1, 0, 0)"
      ]
     },
     "execution_count": 164,
     "metadata": {},
     "output_type": "execute_result"
    }
   ],
   "source": [
    "now = datetime(2021, 6, 1)\n",
    "now"
   ]
  },
  {
   "cell_type": "code",
   "execution_count": 165,
   "id": "c4da54ae",
   "metadata": {},
   "outputs": [],
   "source": [
    "Day?"
   ]
  },
  {
   "cell_type": "code",
   "execution_count": 166,
   "id": "dbf9bb4d",
   "metadata": {},
   "outputs": [
    {
     "data": {
      "text/plain": [
       "Timestamp('2021-06-04 00:00:00')"
      ]
     },
     "execution_count": 166,
     "metadata": {},
     "output_type": "execute_result"
    }
   ],
   "source": [
    "now + 3 * Day()"
   ]
  },
  {
   "cell_type": "code",
   "execution_count": 167,
   "id": "a08d408c",
   "metadata": {},
   "outputs": [],
   "source": [
    "MonthEnd?"
   ]
  },
  {
   "cell_type": "code",
   "execution_count": 169,
   "id": "3a6802b9",
   "metadata": {},
   "outputs": [
    {
     "data": {
      "text/plain": [
       "<MonthEnd>"
      ]
     },
     "execution_count": 169,
     "metadata": {},
     "output_type": "execute_result"
    }
   ],
   "source": [
    "offset = MonthEnd()\n",
    "offset"
   ]
  },
  {
   "cell_type": "code",
   "execution_count": 170,
   "id": "81e2c6e0",
   "metadata": {},
   "outputs": [
    {
     "data": {
      "text/plain": [
       "Timestamp('2021-06-30 00:00:00')"
      ]
     },
     "execution_count": 170,
     "metadata": {},
     "output_type": "execute_result"
    }
   ],
   "source": [
    "offset.rollforward(now)"
   ]
  },
  {
   "cell_type": "code",
   "execution_count": 171,
   "id": "b02e7c80",
   "metadata": {},
   "outputs": [
    {
     "data": {
      "text/plain": [
       "Timestamp('2021-05-31 00:00:00')"
      ]
     },
     "execution_count": 171,
     "metadata": {},
     "output_type": "execute_result"
    }
   ],
   "source": [
    "offset.rollback(now)"
   ]
  },
  {
   "cell_type": "markdown",
   "id": "ca72111a",
   "metadata": {},
   "source": [
    "# 3. 时期及其算术运算"
   ]
  },
  {
   "cell_type": "code",
   "execution_count": 175,
   "id": "6527449c",
   "metadata": {},
   "outputs": [
    {
     "data": {
      "text/plain": [
       "Period('2007', 'A-DEC')"
      ]
     },
     "execution_count": 175,
     "metadata": {},
     "output_type": "execute_result"
    }
   ],
   "source": [
    "p = pd.Period(2007, freq='A-DEC')\n",
    "p"
   ]
  },
  {
   "cell_type": "code",
   "execution_count": 177,
   "id": "d2587f34",
   "metadata": {},
   "outputs": [
    {
     "data": {
      "text/plain": [
       "<14 * YearEnds: month=12>"
      ]
     },
     "execution_count": 177,
     "metadata": {},
     "output_type": "execute_result"
    }
   ],
   "source": [
    "pd.Period(2021, freq='A-DEC') - p"
   ]
  },
  {
   "cell_type": "code",
   "execution_count": 180,
   "id": "da582613",
   "metadata": {},
   "outputs": [
    {
     "data": {
      "text/plain": [
       "(PeriodIndex(['2021-06', '2021-07', '2021-08', '2021-09', '2021-10', '2021-11',\n",
       "              '2021-12', '2022-01', '2022-02', '2022-03', '2022-04', '2022-05'],\n",
       "             dtype='period[M]', freq='M'),\n",
       " 12)"
      ]
     },
     "execution_count": 180,
     "metadata": {},
     "output_type": "execute_result"
    }
   ],
   "source": [
    "rng = pd.period_range('6/1/2021', '5/31/2022', freq='M')\n",
    "rng, len(rng)"
   ]
  },
  {
   "cell_type": "markdown",
   "id": "4b9b6550",
   "metadata": {},
   "source": [
    "PeriodIndex保存了一组Period，它可以在任何pandas树结构中被用作轴索引："
   ]
  },
  {
   "cell_type": "code",
   "execution_count": 181,
   "id": "cc066ddf",
   "metadata": {},
   "outputs": [
    {
     "data": {
      "text/plain": [
       "2021-06   -0.028997\n",
       "2021-07    2.037657\n",
       "2021-08   -0.377063\n",
       "2021-09   -0.039834\n",
       "2021-10   -1.945070\n",
       "2021-11   -1.081119\n",
       "2021-12    0.935484\n",
       "2022-01    0.903672\n",
       "2022-02    0.458917\n",
       "2022-03    1.330505\n",
       "2022-04    2.759339\n",
       "2022-05    1.038594\n",
       "Freq: M, dtype: float64"
      ]
     },
     "execution_count": 181,
     "metadata": {},
     "output_type": "execute_result"
    }
   ],
   "source": [
    "pd.Series(np.random.randn(len(rng)), index=rng)"
   ]
  },
  {
   "cell_type": "code",
   "execution_count": 184,
   "id": "a9ea0d06",
   "metadata": {},
   "outputs": [
    {
     "data": {
      "text/plain": [
       "PeriodIndex(['2021Q3', '2021Q2', '2021Q1'], dtype='period[Q-DEC]', freq='Q-DEC')"
      ]
     },
     "execution_count": 184,
     "metadata": {},
     "output_type": "execute_result"
    }
   ],
   "source": [
    "values = ['2021Q3', '2021Q2', '2021Q1']\n",
    "index = pd.PeriodIndex(values, freq = 'Q-DEC')\n",
    "index"
   ]
  },
  {
   "cell_type": "markdown",
   "id": "a869f9cd",
   "metadata": {},
   "source": [
    "## 3.1 时期的频率转换\n",
    "`Period` 和 `PeriodIndex` 对象都可以通过其asfreq方法被转换成别的频率。"
   ]
  },
  {
   "cell_type": "code",
   "execution_count": 185,
   "id": "7f7e864a",
   "metadata": {},
   "outputs": [
    {
     "data": {
      "text/plain": [
       "Period('2007-01', 'M')"
      ]
     },
     "execution_count": 185,
     "metadata": {},
     "output_type": "execute_result"
    }
   ],
   "source": [
    "p = pd.Period(2007, freq='A-DEC')\n",
    "p.asfreq('M', how='start')"
   ]
  },
  {
   "cell_type": "code",
   "execution_count": 186,
   "id": "06071bd5",
   "metadata": {},
   "outputs": [],
   "source": [
    "p.asfreq?"
   ]
  },
  {
   "cell_type": "markdown",
   "id": "84dc90a1",
   "metadata": {},
   "source": [
    "```python\n",
    "\n",
    "Docstring:\n",
    "Convert Period to desired frequency, at the start or end of the interval.\n",
    "\n",
    "Parameters\n",
    "----------\n",
    "freq : str\n",
    "    The desired frequency.\n",
    "how : {'E', 'S', 'end', 'start'}, default 'end'\n",
    "    Start or end of the timespan.\n",
    "\n",
    "Returns\n",
    "-------\n",
    "resampled : Period\n",
    "Type:      builtin_function_or_method\n",
    "---"
   ]
  },
  {
   "cell_type": "markdown",
   "id": "88027dc5",
   "metadata": {},
   "source": [
    "## 3.2 按季度计算的时间频率 "
   ]
  },
  {
   "cell_type": "code",
   "execution_count": 191,
   "id": "ca8f56af",
   "metadata": {},
   "outputs": [
    {
     "data": {
      "text/plain": [
       "Period('2021Q4', 'Q-DEC')"
      ]
     },
     "execution_count": 191,
     "metadata": {},
     "output_type": "execute_result"
    }
   ],
   "source": [
    "# 10,11,12月为第四季度\n",
    "p = pd.Period('2021Q4', freq='Q-DEC')\n",
    "p"
   ]
  },
  {
   "cell_type": "markdown",
   "id": "69f44051",
   "metadata": {},
   "source": [
    " # 4. 重采样即频率转换\n",
    " 重采样（resampling）是指将时间序列从一个频率转换到另一个频率的处理过程。\n",
    " - 升采样（upsampling）：低频到高频\n",
    " - 降采样（downsampling）：高频到低频"
   ]
  },
  {
   "cell_type": "code",
   "execution_count": 192,
   "id": "6e8ec4c2",
   "metadata": {},
   "outputs": [
    {
     "data": {
      "text/plain": [
       "2021-06-30    0.182690\n",
       "2021-07-31   -0.592748\n",
       "2021-08-31   -0.587611\n",
       "2021-09-30    0.005664\n",
       "2021-10-31    0.806200\n",
       "2021-11-30    0.732487\n",
       "2021-12-31   -1.499358\n",
       "2022-01-31    1.078263\n",
       "2022-02-28   -0.106380\n",
       "2022-03-31   -0.649591\n",
       "Freq: M, dtype: float64"
      ]
     },
     "execution_count": 192,
     "metadata": {},
     "output_type": "execute_result"
    }
   ],
   "source": [
    "periods = 10\n",
    "ts = pd.Series(np.random.randn(periods), \n",
    "               index=pd.date_range('6/1/2021', periods=periods, freq='M'))\n",
    "ts"
   ]
  },
  {
   "cell_type": "code",
   "execution_count": 193,
   "id": "841ffba0",
   "metadata": {},
   "outputs": [],
   "source": [
    "ts.resample?"
   ]
  },
  {
   "cell_type": "markdown",
   "id": "776e802e",
   "metadata": {},
   "source": [
    "```python\n",
    "Signature:\n",
    "ts.resample(\n",
    "    rule,\n",
    "    axis=0,\n",
    "    closed: 'Optional[str]' = None,\n",
    "    label: 'Optional[str]' = None,\n",
    "    convention: 'str' = 'start',\n",
    "    kind: 'Optional[str]' = None,\n",
    "    loffset=None,\n",
    "    base: 'Optional[int]' = None,\n",
    "    on=None,\n",
    "    level=None,\n",
    "    origin: 'Union[str, TimestampConvertibleTypes]' = 'start_day',\n",
    "    offset: 'Optional[TimedeltaConvertibleTypes]' = None,\n",
    ") -> 'Resampler'\n",
    "Docstring:\n",
    "Resample time-series data.\n",
    "\n",
    "Convenience method for frequency conversion and resampling of time\n",
    "series. Object must have a datetime-like index (`DatetimeIndex`,\n",
    "`PeriodIndex`, or `TimedeltaIndex`), or pass datetime-like values\n",
    "to the `on` or `level` keyword.\n",
    "\n",
    "Parameters\n",
    "----------\n",
    "rule : DateOffset, Timedelta or str\n",
    "    The offset string or object representing target conversion.\n",
    "axis : {0 or 'index', 1 or 'columns'}, default 0\n",
    "    Which axis to use for up- or down-sampling. For `Series` this\n",
    "    will default to 0, i.e. along the rows. Must be\n",
    "    `DatetimeIndex`, `TimedeltaIndex` or `PeriodIndex`.\n",
    "closed : {'right', 'left'}, default None\n",
    "    Which side of bin interval is closed. The default is 'left'\n",
    "    for all frequency offsets except for 'M', 'A', 'Q', 'BM',\n",
    "    'BA', 'BQ', and 'W' which all have a default of 'right'.\n",
    "label : {'right', 'left'}, default None\n",
    "    Which bin edge label to label bucket with. The default is 'left'\n",
    "    for all frequency offsets except for 'M', 'A', 'Q', 'BM',\n",
    "    'BA', 'BQ', and 'W' which all have a default of 'right'.\n",
    "convention : {'start', 'end', 's', 'e'}, default 'start'\n",
    "    For `PeriodIndex` only, controls whether to use the start or\n",
    "    end of `rule`.\n",
    "kind : {'timestamp', 'period'}, optional, default None\n",
    "    Pass 'timestamp' to convert the resulting index to a\n",
    "    `DateTimeIndex` or 'period' to convert it to a `PeriodIndex`.\n",
    "    By default the input representation is retained.\n",
    "loffset : timedelta, default None\n",
    "    Adjust the resampled time labels.\n",
    "\n",
    "    .. deprecated:: 1.1.0\n",
    "        You should add the loffset to the `df.index` after the resample.\n",
    "        See below.\n",
    "\n",
    "base : int, default 0\n",
    "    For frequencies that evenly subdivide 1 day, the \"origin\" of the\n",
    "    aggregated intervals. For example, for '5min' frequency, base could\n",
    "    range from 0 through 4. Defaults to 0.\n",
    "\n",
    "    .. deprecated:: 1.1.0\n",
    "        The new arguments that you should use are 'offset' or 'origin'.\n",
    "\n",
    "on : str, optional\n",
    "    For a DataFrame, column to use instead of index for resampling.\n",
    "    Column must be datetime-like.\n",
    "level : str or int, optional\n",
    "    For a MultiIndex, level (name or number) to use for\n",
    "    resampling. `level` must be datetime-like.\n",
    "origin : {'epoch', 'start', 'start_day'}, Timestamp or str, default 'start_day'\n",
    "    The timestamp on which to adjust the grouping. The timezone of origin\n",
    "    must match the timezone of the index.\n",
    "    If a timestamp is not used, these values are also supported:\n",
    "\n",
    "    - 'epoch': `origin` is 1970-01-01\n",
    "    - 'start': `origin` is the first value of the timeseries\n",
    "    - 'start_day': `origin` is the first day at midnight of the timeseries\n",
    "\n",
    "    .. versionadded:: 1.1.0\n",
    "\n",
    "offset : Timedelta or str, default is None\n",
    "    An offset timedelta added to the origin.\n",
    "\n",
    "    .. versionadded:: 1.1.0\n",
    "\n",
    "Returns\n",
    "-------\n",
    "Resampler object\n",
    "\n",
    "See Also\n",
    "--------\n",
    "groupby : Group by mapping, function, label, or list of labels.\n",
    "Series.resample : Resample a Series.\n",
    "DataFrame.resample: Resample a DataFrame.\n",
    "\n",
    "Notes\n",
    "-----\n",
    "See the `user guide\n",
    "<https://pandas.pydata.org/pandas-docs/stable/user_guide/timeseries.html#resampling>`_\n",
    "for more.\n",
    "\n",
    "To learn more about the offset strings, please see `this link\n",
    "<https://pandas.pydata.org/pandas-docs/stable/user_guide/timeseries.html#dateoffset-objects>`__.\n",
    "\n",
    "Examples\n",
    "--------\n",
    "Start by creating a series with 9 one minute timestamps.\n",
    "\n",
    ">>> index = pd.date_range('1/1/2000', periods=9, freq='T')\n",
    ">>> series = pd.Series(range(9), index=index)\n",
    ">>> series\n",
    "2000-01-01 00:00:00    0\n",
    "2000-01-01 00:01:00    1\n",
    "2000-01-01 00:02:00    2\n",
    "2000-01-01 00:03:00    3\n",
    "2000-01-01 00:04:00    4\n",
    "2000-01-01 00:05:00    5\n",
    "2000-01-01 00:06:00    6\n",
    "2000-01-01 00:07:00    7\n",
    "2000-01-01 00:08:00    8\n",
    "Freq: T, dtype: int64\n",
    "\n",
    "Downsample the series into 3 minute bins and sum the values\n",
    "of the timestamps falling into a bin.\n",
    "\n",
    ">>> series.resample('3T').sum()\n",
    "2000-01-01 00:00:00     3\n",
    "2000-01-01 00:03:00    12\n",
    "2000-01-01 00:06:00    21\n",
    "Freq: 3T, dtype: int64\n",
    "```"
   ]
  },
  {
   "cell_type": "code",
   "execution_count": 205,
   "id": "4791031e",
   "metadata": {},
   "outputs": [
    {
     "data": {
      "text/plain": [
       "2021-06-01   -1.140991\n",
       "2021-06-02   -0.744261\n",
       "2021-06-03   -0.177664\n",
       "2021-06-04    1.711626\n",
       "2021-06-05    1.293986\n",
       "                ...   \n",
       "2021-09-04    0.764660\n",
       "2021-09-05    0.046588\n",
       "2021-09-06   -0.229593\n",
       "2021-09-07   -2.401894\n",
       "2021-09-08   -0.475323\n",
       "Freq: D, Length: 100, dtype: float64"
      ]
     },
     "execution_count": 205,
     "metadata": {},
     "output_type": "execute_result"
    }
   ],
   "source": [
    "rng = pd.date_range('6/1/2021', periods=100, freq='D')\n",
    "\n",
    "ts = pd.Series(data=np.random.randn(len(rng)), index=rng)\n",
    "ts"
   ]
  },
  {
   "cell_type": "code",
   "execution_count": 206,
   "id": "15f3a5c5",
   "metadata": {},
   "outputs": [
    {
     "data": {
      "text/plain": [
       "2021-06    0.122118\n",
       "2021-07   -0.203875\n",
       "2021-08    0.379899\n",
       "2021-09   -0.436096\n",
       "Freq: M, dtype: float64"
      ]
     },
     "execution_count": 206,
     "metadata": {},
     "output_type": "execute_result"
    }
   ],
   "source": [
    "ts.resample('M', kind='period').mean()"
   ]
  },
  {
   "cell_type": "markdown",
   "id": "b65fc800",
   "metadata": {},
   "source": [
    "## 4.1 降采样 "
   ]
  },
  {
   "cell_type": "code",
   "execution_count": 207,
   "id": "fe0fcfe4",
   "metadata": {},
   "outputs": [
    {
     "data": {
      "text/plain": [
       "2021-06-01 00:00:00     0\n",
       "2021-06-01 00:01:00     1\n",
       "2021-06-01 00:02:00     2\n",
       "2021-06-01 00:03:00     3\n",
       "2021-06-01 00:04:00     4\n",
       "2021-06-01 00:05:00     5\n",
       "2021-06-01 00:06:00     6\n",
       "2021-06-01 00:07:00     7\n",
       "2021-06-01 00:08:00     8\n",
       "2021-06-01 00:09:00     9\n",
       "2021-06-01 00:10:00    10\n",
       "2021-06-01 00:11:00    11\n",
       "Freq: T, dtype: int32"
      ]
     },
     "execution_count": 207,
     "metadata": {},
     "output_type": "execute_result"
    }
   ],
   "source": [
    "rng = pd.date_range('6/1/2021', periods=12, freq='T')\n",
    "\n",
    "ts = pd.Series(data=np.arange(len(rng)), index=rng)\n",
    "ts"
   ]
  },
  {
   "cell_type": "code",
   "execution_count": 208,
   "id": "80b04cb4",
   "metadata": {},
   "outputs": [
    {
     "data": {
      "text/plain": [
       "2021-06-01 00:00:00    10\n",
       "2021-06-01 00:05:00    35\n",
       "2021-06-01 00:10:00    21\n",
       "Freq: 5T, dtype: int32"
      ]
     },
     "execution_count": 208,
     "metadata": {},
     "output_type": "execute_result"
    }
   ],
   "source": [
    "ts.resample('5min').sum()"
   ]
  },
  {
   "cell_type": "markdown",
   "id": "ee5b4462",
   "metadata": {},
   "source": [
    "### `closed` 参数 \n",
    "closed='left'：会让区间以左边界闭合"
   ]
  },
  {
   "cell_type": "code",
   "execution_count": 209,
   "id": "c02823a3",
   "metadata": {},
   "outputs": [
    {
     "data": {
      "text/plain": [
       "2021-06-01 00:00:00    10\n",
       "2021-06-01 00:05:00    35\n",
       "2021-06-01 00:10:00    21\n",
       "Freq: 5T, dtype: int32"
      ]
     },
     "execution_count": 209,
     "metadata": {},
     "output_type": "execute_result"
    }
   ],
   "source": [
    "ts.resample('5min', closed='left').sum()"
   ]
  },
  {
   "cell_type": "code",
   "execution_count": 210,
   "id": "f6586e4a",
   "metadata": {},
   "outputs": [
    {
     "data": {
      "text/plain": [
       "2021-05-31 23:55:00     0\n",
       "2021-06-01 00:00:00    15\n",
       "2021-06-01 00:05:00    40\n",
       "2021-06-01 00:10:00    11\n",
       "Freq: 5T, dtype: int32"
      ]
     },
     "execution_count": 210,
     "metadata": {},
     "output_type": "execute_result"
    }
   ],
   "source": [
    "ts.resample('5min', closed='right').sum()"
   ]
  },
  {
   "cell_type": "markdown",
   "id": "da9216c7",
   "metadata": {},
   "source": [
    "### `label` 参数 \n",
    "label='left'：可用面元的左边界对其进行标记"
   ]
  },
  {
   "cell_type": "code",
   "execution_count": 211,
   "id": "86a4d035",
   "metadata": {},
   "outputs": [
    {
     "data": {
      "text/plain": [
       "2021-06-01 00:00:00    10\n",
       "2021-06-01 00:05:00    35\n",
       "2021-06-01 00:10:00    21\n",
       "Freq: 5T, dtype: int32"
      ]
     },
     "execution_count": 211,
     "metadata": {},
     "output_type": "execute_result"
    }
   ],
   "source": [
    "ts.resample('5min', closed='left', label='left').sum()"
   ]
  },
  {
   "cell_type": "markdown",
   "id": "ecdaa7c2",
   "metadata": {},
   "source": [
    "### `loffset` 参数 "
   ]
  },
  {
   "cell_type": "code",
   "execution_count": 213,
   "id": "77696c23",
   "metadata": {},
   "outputs": [
    {
     "name": "stderr",
     "output_type": "stream",
     "text": [
      "<ipython-input-213-11efe8429399>:1: FutureWarning: 'loffset' in .resample() and in Grouper() is deprecated.\n",
      "\n",
      ">>> df.resample(freq=\"3s\", loffset=\"8H\")\n",
      "\n",
      "becomes:\n",
      "\n",
      ">>> from pandas.tseries.frequencies import to_offset\n",
      ">>> df = df.resample(freq=\"3s\").mean()\n",
      ">>> df.index = df.index.to_timestamp() + to_offset(\"8H\")\n",
      "\n",
      "  ts.resample('5min', loffset='-5s').sum()\n"
     ]
    },
    {
     "data": {
      "text/plain": [
       "2021-05-31 23:59:55    10\n",
       "2021-06-01 00:04:55    35\n",
       "2021-06-01 00:09:55    21\n",
       "Freq: 5T, dtype: int32"
      ]
     },
     "execution_count": 213,
     "metadata": {},
     "output_type": "execute_result"
    }
   ],
   "source": [
    "ts.resample('5min', loffset='-5s').sum()"
   ]
  },
  {
   "cell_type": "markdown",
   "id": "57d8c8d9",
   "metadata": {},
   "source": [
    "## 4.2 OHLC 重采样\n",
    "金融领域中的采样方式，即开盘值，最大值，最小值，收盘值。"
   ]
  },
  {
   "cell_type": "code",
   "execution_count": 214,
   "id": "74fc5689",
   "metadata": {},
   "outputs": [
    {
     "data": {
      "text/html": [
       "<div>\n",
       "<style scoped>\n",
       "    .dataframe tbody tr th:only-of-type {\n",
       "        vertical-align: middle;\n",
       "    }\n",
       "\n",
       "    .dataframe tbody tr th {\n",
       "        vertical-align: top;\n",
       "    }\n",
       "\n",
       "    .dataframe thead th {\n",
       "        text-align: right;\n",
       "    }\n",
       "</style>\n",
       "<table border=\"1\" class=\"dataframe\">\n",
       "  <thead>\n",
       "    <tr style=\"text-align: right;\">\n",
       "      <th></th>\n",
       "      <th>open</th>\n",
       "      <th>high</th>\n",
       "      <th>low</th>\n",
       "      <th>close</th>\n",
       "    </tr>\n",
       "  </thead>\n",
       "  <tbody>\n",
       "    <tr>\n",
       "      <th>2021-06-01 00:00:00</th>\n",
       "      <td>0</td>\n",
       "      <td>4</td>\n",
       "      <td>0</td>\n",
       "      <td>4</td>\n",
       "    </tr>\n",
       "    <tr>\n",
       "      <th>2021-06-01 00:05:00</th>\n",
       "      <td>5</td>\n",
       "      <td>9</td>\n",
       "      <td>5</td>\n",
       "      <td>9</td>\n",
       "    </tr>\n",
       "    <tr>\n",
       "      <th>2021-06-01 00:10:00</th>\n",
       "      <td>10</td>\n",
       "      <td>11</td>\n",
       "      <td>10</td>\n",
       "      <td>11</td>\n",
       "    </tr>\n",
       "  </tbody>\n",
       "</table>\n",
       "</div>"
      ],
      "text/plain": [
       "                     open  high  low  close\n",
       "2021-06-01 00:00:00     0     4    0      4\n",
       "2021-06-01 00:05:00     5     9    5      9\n",
       "2021-06-01 00:10:00    10    11   10     11"
      ]
     },
     "execution_count": 214,
     "metadata": {},
     "output_type": "execute_result"
    }
   ],
   "source": [
    "ts.resample('5min').ohlc()"
   ]
  },
  {
   "cell_type": "markdown",
   "id": "2f0d8a89",
   "metadata": {},
   "source": [
    "## 4.3 `.groupby()` 重采样 "
   ]
  },
  {
   "cell_type": "code",
   "execution_count": 215,
   "id": "b734c03b",
   "metadata": {},
   "outputs": [
    {
     "data": {
      "text/plain": [
       "2021-06-01     0\n",
       "2021-06-02     1\n",
       "2021-06-03     2\n",
       "2021-06-04     3\n",
       "2021-06-05     4\n",
       "              ..\n",
       "2021-09-04    95\n",
       "2021-09-05    96\n",
       "2021-09-06    97\n",
       "2021-09-07    98\n",
       "2021-09-08    99\n",
       "Freq: D, Length: 100, dtype: int32"
      ]
     },
     "execution_count": 215,
     "metadata": {},
     "output_type": "execute_result"
    }
   ],
   "source": [
    "rng = pd.date_range('6/1/2021', periods=100, freq='D')\n",
    "ts = pd.Series(data=np.arange(len(rng)), index=rng)\n",
    "\n",
    "ts"
   ]
  },
  {
   "cell_type": "code",
   "execution_count": 216,
   "id": "7d0a0347",
   "metadata": {},
   "outputs": [
    {
     "data": {
      "text/plain": [
       "0    51.5\n",
       "1    49.0\n",
       "2    50.0\n",
       "3    47.5\n",
       "4    48.5\n",
       "5    49.5\n",
       "6    50.5\n",
       "dtype: float64"
      ]
     },
     "execution_count": 216,
     "metadata": {},
     "output_type": "execute_result"
    }
   ],
   "source": [
    "ts.groupby(lambda x: x.weekday).mean()"
   ]
  },
  {
   "cell_type": "code",
   "execution_count": 217,
   "id": "829ab6bb",
   "metadata": {},
   "outputs": [
    {
     "data": {
      "text/plain": [
       "6    14.5\n",
       "7    45.0\n",
       "8    76.0\n",
       "9    95.5\n",
       "dtype: float64"
      ]
     },
     "execution_count": 217,
     "metadata": {},
     "output_type": "execute_result"
    }
   ],
   "source": [
    "ts.groupby(lambda x: x.month).mean()"
   ]
  },
  {
   "cell_type": "markdown",
   "id": "a0bd4f53",
   "metadata": {},
   "source": [
    "## 4.4 升采样和插值 "
   ]
  },
  {
   "cell_type": "code",
   "execution_count": 223,
   "id": "f906c607",
   "metadata": {},
   "outputs": [
    {
     "data": {
      "text/html": [
       "<div>\n",
       "<style scoped>\n",
       "    .dataframe tbody tr th:only-of-type {\n",
       "        vertical-align: middle;\n",
       "    }\n",
       "\n",
       "    .dataframe tbody tr th {\n",
       "        vertical-align: top;\n",
       "    }\n",
       "\n",
       "    .dataframe thead th {\n",
       "        text-align: right;\n",
       "    }\n",
       "</style>\n",
       "<table border=\"1\" class=\"dataframe\">\n",
       "  <thead>\n",
       "    <tr style=\"text-align: right;\">\n",
       "      <th></th>\n",
       "      <th>Colorado</th>\n",
       "      <th>Texas</th>\n",
       "      <th>New York</th>\n",
       "      <th>Califonia</th>\n",
       "    </tr>\n",
       "  </thead>\n",
       "  <tbody>\n",
       "    <tr>\n",
       "      <th>2021-06-23</th>\n",
       "      <td>-2.462441</td>\n",
       "      <td>-1.250257</td>\n",
       "      <td>-0.537822</td>\n",
       "      <td>0.194408</td>\n",
       "    </tr>\n",
       "    <tr>\n",
       "      <th>2021-06-30</th>\n",
       "      <td>0.949421</td>\n",
       "      <td>-1.097458</td>\n",
       "      <td>-1.301532</td>\n",
       "      <td>-0.073963</td>\n",
       "    </tr>\n",
       "  </tbody>\n",
       "</table>\n",
       "</div>"
      ],
      "text/plain": [
       "            Colorado     Texas  New York  Califonia\n",
       "2021-06-23 -2.462441 -1.250257 -0.537822   0.194408\n",
       "2021-06-30  0.949421 -1.097458 -1.301532  -0.073963"
      ]
     },
     "execution_count": 223,
     "metadata": {},
     "output_type": "execute_result"
    }
   ],
   "source": [
    "dates = pd.date_range('6/18/2021', \n",
    "                      periods=2, \n",
    "                      freq='W-WED')\n",
    "\n",
    "long_df = pd.DataFrame(np.random.randn(2, 4), \n",
    "                       index=dates, \n",
    "                       columns=['Colorado', 'Texas', 'New York', 'Califonia'])\n",
    "long_df"
   ]
  },
  {
   "cell_type": "code",
   "execution_count": 225,
   "id": "e9addbf5",
   "metadata": {},
   "outputs": [
    {
     "data": {
      "text/html": [
       "<div>\n",
       "<style scoped>\n",
       "    .dataframe tbody tr th:only-of-type {\n",
       "        vertical-align: middle;\n",
       "    }\n",
       "\n",
       "    .dataframe tbody tr th {\n",
       "        vertical-align: top;\n",
       "    }\n",
       "\n",
       "    .dataframe thead th {\n",
       "        text-align: right;\n",
       "    }\n",
       "</style>\n",
       "<table border=\"1\" class=\"dataframe\">\n",
       "  <thead>\n",
       "    <tr style=\"text-align: right;\">\n",
       "      <th></th>\n",
       "      <th>Colorado</th>\n",
       "      <th>Texas</th>\n",
       "      <th>New York</th>\n",
       "      <th>Califonia</th>\n",
       "    </tr>\n",
       "  </thead>\n",
       "  <tbody>\n",
       "    <tr>\n",
       "      <th>2021-06-23</th>\n",
       "      <td>-2.462441</td>\n",
       "      <td>-1.250257</td>\n",
       "      <td>-0.537822</td>\n",
       "      <td>0.194408</td>\n",
       "    </tr>\n",
       "    <tr>\n",
       "      <th>2021-06-24</th>\n",
       "      <td>NaN</td>\n",
       "      <td>NaN</td>\n",
       "      <td>NaN</td>\n",
       "      <td>NaN</td>\n",
       "    </tr>\n",
       "    <tr>\n",
       "      <th>2021-06-25</th>\n",
       "      <td>NaN</td>\n",
       "      <td>NaN</td>\n",
       "      <td>NaN</td>\n",
       "      <td>NaN</td>\n",
       "    </tr>\n",
       "    <tr>\n",
       "      <th>2021-06-26</th>\n",
       "      <td>NaN</td>\n",
       "      <td>NaN</td>\n",
       "      <td>NaN</td>\n",
       "      <td>NaN</td>\n",
       "    </tr>\n",
       "    <tr>\n",
       "      <th>2021-06-27</th>\n",
       "      <td>NaN</td>\n",
       "      <td>NaN</td>\n",
       "      <td>NaN</td>\n",
       "      <td>NaN</td>\n",
       "    </tr>\n",
       "    <tr>\n",
       "      <th>2021-06-28</th>\n",
       "      <td>NaN</td>\n",
       "      <td>NaN</td>\n",
       "      <td>NaN</td>\n",
       "      <td>NaN</td>\n",
       "    </tr>\n",
       "    <tr>\n",
       "      <th>2021-06-29</th>\n",
       "      <td>NaN</td>\n",
       "      <td>NaN</td>\n",
       "      <td>NaN</td>\n",
       "      <td>NaN</td>\n",
       "    </tr>\n",
       "    <tr>\n",
       "      <th>2021-06-30</th>\n",
       "      <td>0.949421</td>\n",
       "      <td>-1.097458</td>\n",
       "      <td>-1.301532</td>\n",
       "      <td>-0.073963</td>\n",
       "    </tr>\n",
       "  </tbody>\n",
       "</table>\n",
       "</div>"
      ],
      "text/plain": [
       "            Colorado     Texas  New York  Califonia\n",
       "2021-06-23 -2.462441 -1.250257 -0.537822   0.194408\n",
       "2021-06-24       NaN       NaN       NaN        NaN\n",
       "2021-06-25       NaN       NaN       NaN        NaN\n",
       "2021-06-26       NaN       NaN       NaN        NaN\n",
       "2021-06-27       NaN       NaN       NaN        NaN\n",
       "2021-06-28       NaN       NaN       NaN        NaN\n",
       "2021-06-29       NaN       NaN       NaN        NaN\n",
       "2021-06-30  0.949421 -1.097458 -1.301532  -0.073963"
      ]
     },
     "execution_count": 225,
     "metadata": {},
     "output_type": "execute_result"
    }
   ],
   "source": [
    "long_df.resample('D').mean()"
   ]
  },
  {
   "cell_type": "code",
   "execution_count": 230,
   "id": "e046e4d9",
   "metadata": {},
   "outputs": [
    {
     "data": {
      "text/html": [
       "<div>\n",
       "<style scoped>\n",
       "    .dataframe tbody tr th:only-of-type {\n",
       "        vertical-align: middle;\n",
       "    }\n",
       "\n",
       "    .dataframe tbody tr th {\n",
       "        vertical-align: top;\n",
       "    }\n",
       "\n",
       "    .dataframe thead th {\n",
       "        text-align: right;\n",
       "    }\n",
       "</style>\n",
       "<table border=\"1\" class=\"dataframe\">\n",
       "  <thead>\n",
       "    <tr style=\"text-align: right;\">\n",
       "      <th></th>\n",
       "      <th>Colorado</th>\n",
       "      <th>Texas</th>\n",
       "      <th>New York</th>\n",
       "      <th>Califonia</th>\n",
       "    </tr>\n",
       "  </thead>\n",
       "  <tbody>\n",
       "    <tr>\n",
       "      <th>2021-06-23</th>\n",
       "      <td>-2.462441</td>\n",
       "      <td>-1.250257</td>\n",
       "      <td>-0.537822</td>\n",
       "      <td>0.194408</td>\n",
       "    </tr>\n",
       "    <tr>\n",
       "      <th>2021-06-24</th>\n",
       "      <td>-2.462441</td>\n",
       "      <td>-1.250257</td>\n",
       "      <td>-0.537822</td>\n",
       "      <td>0.194408</td>\n",
       "    </tr>\n",
       "    <tr>\n",
       "      <th>2021-06-25</th>\n",
       "      <td>-2.462441</td>\n",
       "      <td>-1.250257</td>\n",
       "      <td>-0.537822</td>\n",
       "      <td>0.194408</td>\n",
       "    </tr>\n",
       "    <tr>\n",
       "      <th>2021-06-26</th>\n",
       "      <td>-2.462441</td>\n",
       "      <td>-1.250257</td>\n",
       "      <td>-0.537822</td>\n",
       "      <td>0.194408</td>\n",
       "    </tr>\n",
       "    <tr>\n",
       "      <th>2021-06-27</th>\n",
       "      <td>-2.462441</td>\n",
       "      <td>-1.250257</td>\n",
       "      <td>-0.537822</td>\n",
       "      <td>0.194408</td>\n",
       "    </tr>\n",
       "    <tr>\n",
       "      <th>2021-06-28</th>\n",
       "      <td>-2.462441</td>\n",
       "      <td>-1.250257</td>\n",
       "      <td>-0.537822</td>\n",
       "      <td>0.194408</td>\n",
       "    </tr>\n",
       "    <tr>\n",
       "      <th>2021-06-29</th>\n",
       "      <td>-2.462441</td>\n",
       "      <td>-1.250257</td>\n",
       "      <td>-0.537822</td>\n",
       "      <td>0.194408</td>\n",
       "    </tr>\n",
       "    <tr>\n",
       "      <th>2021-06-30</th>\n",
       "      <td>0.949421</td>\n",
       "      <td>-1.097458</td>\n",
       "      <td>-1.301532</td>\n",
       "      <td>-0.073963</td>\n",
       "    </tr>\n",
       "  </tbody>\n",
       "</table>\n",
       "</div>"
      ],
      "text/plain": [
       "            Colorado     Texas  New York  Califonia\n",
       "2021-06-23 -2.462441 -1.250257 -0.537822   0.194408\n",
       "2021-06-24 -2.462441 -1.250257 -0.537822   0.194408\n",
       "2021-06-25 -2.462441 -1.250257 -0.537822   0.194408\n",
       "2021-06-26 -2.462441 -1.250257 -0.537822   0.194408\n",
       "2021-06-27 -2.462441 -1.250257 -0.537822   0.194408\n",
       "2021-06-28 -2.462441 -1.250257 -0.537822   0.194408\n",
       "2021-06-29 -2.462441 -1.250257 -0.537822   0.194408\n",
       "2021-06-30  0.949421 -1.097458 -1.301532  -0.073963"
      ]
     },
     "execution_count": 230,
     "metadata": {},
     "output_type": "execute_result"
    }
   ],
   "source": [
    "long_df.resample('D').ffill()"
   ]
  },
  {
   "cell_type": "code",
   "execution_count": 231,
   "id": "0ddb6757",
   "metadata": {},
   "outputs": [
    {
     "data": {
      "text/html": [
       "<div>\n",
       "<style scoped>\n",
       "    .dataframe tbody tr th:only-of-type {\n",
       "        vertical-align: middle;\n",
       "    }\n",
       "\n",
       "    .dataframe tbody tr th {\n",
       "        vertical-align: top;\n",
       "    }\n",
       "\n",
       "    .dataframe thead th {\n",
       "        text-align: right;\n",
       "    }\n",
       "</style>\n",
       "<table border=\"1\" class=\"dataframe\">\n",
       "  <thead>\n",
       "    <tr style=\"text-align: right;\">\n",
       "      <th></th>\n",
       "      <th>Colorado</th>\n",
       "      <th>Texas</th>\n",
       "      <th>New York</th>\n",
       "      <th>Califonia</th>\n",
       "    </tr>\n",
       "  </thead>\n",
       "  <tbody>\n",
       "    <tr>\n",
       "      <th>2021-06-23</th>\n",
       "      <td>-2.462441</td>\n",
       "      <td>-1.250257</td>\n",
       "      <td>-0.537822</td>\n",
       "      <td>0.194408</td>\n",
       "    </tr>\n",
       "    <tr>\n",
       "      <th>2021-06-24</th>\n",
       "      <td>-2.462441</td>\n",
       "      <td>-1.250257</td>\n",
       "      <td>-0.537822</td>\n",
       "      <td>0.194408</td>\n",
       "    </tr>\n",
       "    <tr>\n",
       "      <th>2021-06-25</th>\n",
       "      <td>-2.462441</td>\n",
       "      <td>-1.250257</td>\n",
       "      <td>-0.537822</td>\n",
       "      <td>0.194408</td>\n",
       "    </tr>\n",
       "    <tr>\n",
       "      <th>2021-06-26</th>\n",
       "      <td>NaN</td>\n",
       "      <td>NaN</td>\n",
       "      <td>NaN</td>\n",
       "      <td>NaN</td>\n",
       "    </tr>\n",
       "    <tr>\n",
       "      <th>2021-06-27</th>\n",
       "      <td>NaN</td>\n",
       "      <td>NaN</td>\n",
       "      <td>NaN</td>\n",
       "      <td>NaN</td>\n",
       "    </tr>\n",
       "    <tr>\n",
       "      <th>2021-06-28</th>\n",
       "      <td>NaN</td>\n",
       "      <td>NaN</td>\n",
       "      <td>NaN</td>\n",
       "      <td>NaN</td>\n",
       "    </tr>\n",
       "    <tr>\n",
       "      <th>2021-06-29</th>\n",
       "      <td>NaN</td>\n",
       "      <td>NaN</td>\n",
       "      <td>NaN</td>\n",
       "      <td>NaN</td>\n",
       "    </tr>\n",
       "    <tr>\n",
       "      <th>2021-06-30</th>\n",
       "      <td>0.949421</td>\n",
       "      <td>-1.097458</td>\n",
       "      <td>-1.301532</td>\n",
       "      <td>-0.073963</td>\n",
       "    </tr>\n",
       "  </tbody>\n",
       "</table>\n",
       "</div>"
      ],
      "text/plain": [
       "            Colorado     Texas  New York  Califonia\n",
       "2021-06-23 -2.462441 -1.250257 -0.537822   0.194408\n",
       "2021-06-24 -2.462441 -1.250257 -0.537822   0.194408\n",
       "2021-06-25 -2.462441 -1.250257 -0.537822   0.194408\n",
       "2021-06-26       NaN       NaN       NaN        NaN\n",
       "2021-06-27       NaN       NaN       NaN        NaN\n",
       "2021-06-28       NaN       NaN       NaN        NaN\n",
       "2021-06-29       NaN       NaN       NaN        NaN\n",
       "2021-06-30  0.949421 -1.097458 -1.301532  -0.073963"
      ]
     },
     "execution_count": 231,
     "metadata": {},
     "output_type": "execute_result"
    }
   ],
   "source": [
    "long_df.resample('D').ffill(limit=2)"
   ]
  },
  {
   "cell_type": "code",
   "execution_count": 235,
   "id": "afce5573",
   "metadata": {},
   "outputs": [],
   "source": [
    "long_df.ffill?"
   ]
  },
  {
   "cell_type": "code",
   "execution_count": 236,
   "id": "8250425f",
   "metadata": {},
   "outputs": [
    {
     "data": {
      "text/html": [
       "<div>\n",
       "<style scoped>\n",
       "    .dataframe tbody tr th:only-of-type {\n",
       "        vertical-align: middle;\n",
       "    }\n",
       "\n",
       "    .dataframe tbody tr th {\n",
       "        vertical-align: top;\n",
       "    }\n",
       "\n",
       "    .dataframe thead th {\n",
       "        text-align: right;\n",
       "    }\n",
       "</style>\n",
       "<table border=\"1\" class=\"dataframe\">\n",
       "  <thead>\n",
       "    <tr style=\"text-align: right;\">\n",
       "      <th></th>\n",
       "      <th>Colorado</th>\n",
       "      <th>Texas</th>\n",
       "      <th>New York</th>\n",
       "      <th>Califonia</th>\n",
       "    </tr>\n",
       "  </thead>\n",
       "  <tbody>\n",
       "    <tr>\n",
       "      <th>2021-06-23</th>\n",
       "      <td>-2.462441</td>\n",
       "      <td>-1.250257</td>\n",
       "      <td>-0.537822</td>\n",
       "      <td>0.194408</td>\n",
       "    </tr>\n",
       "    <tr>\n",
       "      <th>2021-06-24</th>\n",
       "      <td>0.949421</td>\n",
       "      <td>-1.097458</td>\n",
       "      <td>-1.301532</td>\n",
       "      <td>-0.073963</td>\n",
       "    </tr>\n",
       "    <tr>\n",
       "      <th>2021-06-25</th>\n",
       "      <td>0.949421</td>\n",
       "      <td>-1.097458</td>\n",
       "      <td>-1.301532</td>\n",
       "      <td>-0.073963</td>\n",
       "    </tr>\n",
       "    <tr>\n",
       "      <th>2021-06-26</th>\n",
       "      <td>0.949421</td>\n",
       "      <td>-1.097458</td>\n",
       "      <td>-1.301532</td>\n",
       "      <td>-0.073963</td>\n",
       "    </tr>\n",
       "    <tr>\n",
       "      <th>2021-06-27</th>\n",
       "      <td>0.949421</td>\n",
       "      <td>-1.097458</td>\n",
       "      <td>-1.301532</td>\n",
       "      <td>-0.073963</td>\n",
       "    </tr>\n",
       "    <tr>\n",
       "      <th>2021-06-28</th>\n",
       "      <td>0.949421</td>\n",
       "      <td>-1.097458</td>\n",
       "      <td>-1.301532</td>\n",
       "      <td>-0.073963</td>\n",
       "    </tr>\n",
       "    <tr>\n",
       "      <th>2021-06-29</th>\n",
       "      <td>0.949421</td>\n",
       "      <td>-1.097458</td>\n",
       "      <td>-1.301532</td>\n",
       "      <td>-0.073963</td>\n",
       "    </tr>\n",
       "    <tr>\n",
       "      <th>2021-06-30</th>\n",
       "      <td>0.949421</td>\n",
       "      <td>-1.097458</td>\n",
       "      <td>-1.301532</td>\n",
       "      <td>-0.073963</td>\n",
       "    </tr>\n",
       "  </tbody>\n",
       "</table>\n",
       "</div>"
      ],
      "text/plain": [
       "            Colorado     Texas  New York  Califonia\n",
       "2021-06-23 -2.462441 -1.250257 -0.537822   0.194408\n",
       "2021-06-24  0.949421 -1.097458 -1.301532  -0.073963\n",
       "2021-06-25  0.949421 -1.097458 -1.301532  -0.073963\n",
       "2021-06-26  0.949421 -1.097458 -1.301532  -0.073963\n",
       "2021-06-27  0.949421 -1.097458 -1.301532  -0.073963\n",
       "2021-06-28  0.949421 -1.097458 -1.301532  -0.073963\n",
       "2021-06-29  0.949421 -1.097458 -1.301532  -0.073963\n",
       "2021-06-30  0.949421 -1.097458 -1.301532  -0.073963"
      ]
     },
     "execution_count": 236,
     "metadata": {},
     "output_type": "execute_result"
    }
   ],
   "source": [
    "long_df.resample('D').backfill()"
   ]
  },
  {
   "cell_type": "code",
   "execution_count": 238,
   "id": "42c5985b",
   "metadata": {},
   "outputs": [
    {
     "data": {
      "text/html": [
       "<div>\n",
       "<style scoped>\n",
       "    .dataframe tbody tr th:only-of-type {\n",
       "        vertical-align: middle;\n",
       "    }\n",
       "\n",
       "    .dataframe tbody tr th {\n",
       "        vertical-align: top;\n",
       "    }\n",
       "\n",
       "    .dataframe thead th {\n",
       "        text-align: right;\n",
       "    }\n",
       "</style>\n",
       "<table border=\"1\" class=\"dataframe\">\n",
       "  <thead>\n",
       "    <tr style=\"text-align: right;\">\n",
       "      <th></th>\n",
       "      <th>Colorado</th>\n",
       "      <th>Texas</th>\n",
       "      <th>New York</th>\n",
       "      <th>Califonia</th>\n",
       "    </tr>\n",
       "  </thead>\n",
       "  <tbody>\n",
       "    <tr>\n",
       "      <th>2021-06-23</th>\n",
       "      <td>-2.462441</td>\n",
       "      <td>-1.250257</td>\n",
       "      <td>-0.537822</td>\n",
       "      <td>0.194408</td>\n",
       "    </tr>\n",
       "    <tr>\n",
       "      <th>2021-06-24</th>\n",
       "      <td>0.949421</td>\n",
       "      <td>-1.097458</td>\n",
       "      <td>-1.301532</td>\n",
       "      <td>-0.073963</td>\n",
       "    </tr>\n",
       "    <tr>\n",
       "      <th>2021-06-25</th>\n",
       "      <td>0.949421</td>\n",
       "      <td>-1.097458</td>\n",
       "      <td>-1.301532</td>\n",
       "      <td>-0.073963</td>\n",
       "    </tr>\n",
       "    <tr>\n",
       "      <th>2021-06-26</th>\n",
       "      <td>0.949421</td>\n",
       "      <td>-1.097458</td>\n",
       "      <td>-1.301532</td>\n",
       "      <td>-0.073963</td>\n",
       "    </tr>\n",
       "    <tr>\n",
       "      <th>2021-06-27</th>\n",
       "      <td>0.949421</td>\n",
       "      <td>-1.097458</td>\n",
       "      <td>-1.301532</td>\n",
       "      <td>-0.073963</td>\n",
       "    </tr>\n",
       "    <tr>\n",
       "      <th>2021-06-28</th>\n",
       "      <td>0.949421</td>\n",
       "      <td>-1.097458</td>\n",
       "      <td>-1.301532</td>\n",
       "      <td>-0.073963</td>\n",
       "    </tr>\n",
       "    <tr>\n",
       "      <th>2021-06-29</th>\n",
       "      <td>0.949421</td>\n",
       "      <td>-1.097458</td>\n",
       "      <td>-1.301532</td>\n",
       "      <td>-0.073963</td>\n",
       "    </tr>\n",
       "    <tr>\n",
       "      <th>2021-06-30</th>\n",
       "      <td>0.949421</td>\n",
       "      <td>-1.097458</td>\n",
       "      <td>-1.301532</td>\n",
       "      <td>-0.073963</td>\n",
       "    </tr>\n",
       "  </tbody>\n",
       "</table>\n",
       "</div>"
      ],
      "text/plain": [
       "            Colorado     Texas  New York  Califonia\n",
       "2021-06-23 -2.462441 -1.250257 -0.537822   0.194408\n",
       "2021-06-24  0.949421 -1.097458 -1.301532  -0.073963\n",
       "2021-06-25  0.949421 -1.097458 -1.301532  -0.073963\n",
       "2021-06-26  0.949421 -1.097458 -1.301532  -0.073963\n",
       "2021-06-27  0.949421 -1.097458 -1.301532  -0.073963\n",
       "2021-06-28  0.949421 -1.097458 -1.301532  -0.073963\n",
       "2021-06-29  0.949421 -1.097458 -1.301532  -0.073963\n",
       "2021-06-30  0.949421 -1.097458 -1.301532  -0.073963"
      ]
     },
     "execution_count": 238,
     "metadata": {},
     "output_type": "execute_result"
    }
   ],
   "source": [
    "long_df.resample('D').fillna(method='bfill')"
   ]
  }
 ],
 "metadata": {
  "kernelspec": {
   "display_name": "Python 3",
   "language": "python",
   "name": "python3"
  },
  "language_info": {
   "codemirror_mode": {
    "name": "ipython",
    "version": 3
   },
   "file_extension": ".py",
   "mimetype": "text/x-python",
   "name": "python",
   "nbconvert_exporter": "python",
   "pygments_lexer": "ipython3",
   "version": "3.8.8"
  }
 },
 "nbformat": 4,
 "nbformat_minor": 5
}

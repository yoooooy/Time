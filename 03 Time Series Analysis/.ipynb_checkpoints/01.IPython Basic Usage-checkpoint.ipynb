{
 "cells": [
  {
   "cell_type": "markdown",
   "id": "19ed19fa",
   "metadata": {},
   "source": [
    "# 重要的Python库\n",
    "\n",
    "## NumPy\n",
    "- Python科学计算基础包。\n",
    "\n",
    "## Pandas\n",
    "- 提供了能够快速便捷地处理结构化数据的大量数据结构和函数。\n",
    "\n",
    "## matplotlib\n",
    "- 用于绘制图表的Python库。\n",
    "\n",
    "## IPython\n",
    "- Python科学计算标准工具集的组成部分，它将所有的东西联系到了一起。它是一个增强的Power shell，目的是提高编写、测试、调试Python代码的速度。\n",
    "\n",
    "## Scipy\n",
    "- 专门解决科学计算中各种标准问题域的包的集合。"
   ]
  },
  {
   "cell_type": "markdown",
   "id": "542dccb1",
   "metadata": {},
   "source": [
    "# Python 标准库\n",
    "\n",
    "## collections\n",
    "collections模块包含了除list、dict、和tuple之外的容器数据类型，如counter、defaultdict、deque、namedtuple、orderdict。\n",
    "\n",
    "## functools\n",
    "functools提供了一些非常有用的高阶函数（一个可以接受函数作为参数或者以函数作为返回值的函数），因为Python中函数也是对象，因此很容易支持这样的函数式特性。\n",
    "\n",
    "## itertools\n",
    "Python 内置的 itertools 模块包含了一系列用来产生不同类型迭代器的函数或类，这些函数的返回都是一个迭代器，可以通过 for 循环来遍历取值，也可以使用 next() 来取值。\n",
    "\n",
    "## operator\n",
    "operator模块输出一系列对应Python内部操作符的函数。\n",
    "\n",
    "\n",
    "---\n",
    "> Ref：\n",
    "> 1. https://so.csdn.net/so/search?q=%E6%A0%87%E5%87%86%E5%BA%93&t=blog&u=qq_27825451\n",
    "> 2. https://zhuanlan.zhihu.com/p/244847990\n"
   ]
  },
  {
   "cell_type": "code",
   "execution_count": 1,
   "id": "b95e95fd",
   "metadata": {},
   "outputs": [],
   "source": [
    "import collections"
   ]
  },
  {
   "cell_type": "code",
   "execution_count": 2,
   "id": "24681186",
   "metadata": {},
   "outputs": [
    {
     "data": {
      "text/plain": [
       "defaultdict(int, {})"
      ]
     },
     "execution_count": 2,
     "metadata": {},
     "output_type": "execute_result"
    }
   ],
   "source": [
    "collections.defaultdict(int)"
   ]
  },
  {
   "cell_type": "code",
   "execution_count": 3,
   "id": "362a41ca",
   "metadata": {},
   "outputs": [
    {
     "data": {
      "text/plain": [
       "Counter({'a': 2, 'b': 3, 'c': 1})"
      ]
     },
     "execution_count": 3,
     "metadata": {},
     "output_type": "execute_result"
    }
   ],
   "source": [
    "collections.Counter(['a', 'b', 'c', 'a', 'b', 'b'])"
   ]
  },
  {
   "cell_type": "code",
   "execution_count": 6,
   "id": "f15273f9",
   "metadata": {},
   "outputs": [
    {
     "name": "stdout",
     "output_type": "stream",
     "text": [
      "a A\n",
      "b B\n",
      "c C\n",
      "d D\n",
      "e E\n"
     ]
    }
   ],
   "source": [
    "# OrderedDict是字典子类，记得其内容被添加的顺序\n",
    "d = collections.OrderedDict()\n",
    "d['a'] = 'A'\n",
    "d['b'] = 'B'\n",
    "d['c'] = 'C'\n",
    "d['d'] = 'D'\n",
    "d['e'] = 'E'\n",
    "for k, v in d.items():\n",
    "    print (k, v)"
   ]
  },
  {
   "cell_type": "code",
   "execution_count": 9,
   "id": "2ca3dac0",
   "metadata": {},
   "outputs": [
    {
     "name": "stdout",
     "output_type": "stream",
     "text": [
      "Type of Person: <class 'type'>\n",
      "\n",
      "Representation: Person(name='Bob', age=30, gender='male')\n",
      "\n",
      "Field by name: Jane\n",
      "\n",
      "Fields by index:\n",
      "Bob is a 30 year old male\n",
      "Jane is a 29 year old female\n"
     ]
    }
   ],
   "source": [
    "# namedtuple 标准的元组使用数值索引来访问其成员\n",
    "Person = collections.namedtuple('Person', 'name age gender')\n",
    "print('Type of Person:', type(Person))\n",
    "bob = Person(name='Bob', age=30, gender='male')\n",
    "print('\\nRepresentation:', bob)\n",
    "jane = Person(name='Jane', age=29, gender='female')\n",
    "print('\\nField by name:', jane.name)\n",
    "print('\\nFields by index:')\n",
    "for p in [bob, jane]:\n",
    "    print('%s is a %d year old %s' % p)"
   ]
  },
  {
   "cell_type": "markdown",
   "id": "7a7d4609",
   "metadata": {},
   "source": [
    "# 1. IPython\n",
    "\n",
    "## 1.1 IPython 基本使用\n",
    "IPython设计的目的是在交互式计算和软件开发这两个方面最大化地提高生产力。它鼓励一种“执行-探索（execute explore）”的工作模式，而不是传统的编程语言那样“编辑-编译-运行”的工作模式。此外，它跟操作系统shell和文件系统之间也有非常紧密的集成。"
   ]
  },
  {
   "cell_type": "markdown",
   "id": "6ea7077a",
   "metadata": {},
   "source": [
    "### 1) 内省 introspection\n",
    "变量的前面或后面加上一个 `?` 就可以将有关该对象的一些通用信息显示出来。\n",
    "\n",
    "![1](./images/ipython_introspection1.jpg)\n",
    "\n",
    "如果该对象是一个函数或实例方法，则其docstring也会被显示出来。\n",
    "使用 `??` 可以将源代码显示出来！\n",
    "\n",
    "![2](./images/ipython_introspection2.jpg)\n"
   ]
  },
  {
   "cell_type": "code",
   "execution_count": 13,
   "id": "0e39ba5f",
   "metadata": {},
   "outputs": [],
   "source": [
    "d?"
   ]
  },
  {
   "cell_type": "code",
   "execution_count": 11,
   "id": "71cbc659",
   "metadata": {},
   "outputs": [],
   "source": [
    "def func():\n",
    "    \"\"\"\n",
    "    this is a function.\n",
    "    \"\"\"\n",
    "    pass"
   ]
  },
  {
   "cell_type": "code",
   "execution_count": 12,
   "id": "34638b8f",
   "metadata": {},
   "outputs": [],
   "source": [
    "func??"
   ]
  },
  {
   "cell_type": "markdown",
   "id": "8ca6f1aa",
   "metadata": {},
   "source": [
    "### 2) `%run` 命令运行 `.py` 文件\n",
    "\n",
    "例如：`%run test.py`"
   ]
  },
  {
   "cell_type": "code",
   "execution_count": 16,
   "id": "caa614f5",
   "metadata": {},
   "outputs": [
    {
     "name": "stdout",
     "output_type": "stream",
     "text": [
      "This is a test.py file.\n"
     ]
    }
   ],
   "source": [
    "%run test.py"
   ]
  },
  {
   "cell_type": "markdown",
   "id": "e2220f42",
   "metadata": {},
   "source": [
    "### 3) `%paste` 执行剪切板的代码"
   ]
  },
  {
   "cell_type": "code",
   "execution_count": 17,
   "id": "fff522a6",
   "metadata": {},
   "outputs": [
    {
     "name": "stderr",
     "output_type": "stream",
     "text": [
      "UsageError: Line magic function `%paste` not found.\n"
     ]
    }
   ],
   "source": [
    "%paste"
   ]
  },
  {
   "cell_type": "markdown",
   "id": "3a578674",
   "metadata": {},
   "source": [
    "### 4) `%timeit` 检测语句平均执行时间"
   ]
  },
  {
   "cell_type": "code",
   "execution_count": 3,
   "id": "b41b6950",
   "metadata": {},
   "outputs": [],
   "source": [
    "import numpy as np"
   ]
  },
  {
   "cell_type": "code",
   "execution_count": 4,
   "id": "e45470d3",
   "metadata": {
    "scrolled": true
   },
   "outputs": [
    {
     "data": {
      "text/plain": [
       "array([[0.68216954, 0.02045429, 0.04452798, 0.16709157, 0.74246296,\n",
       "        0.70789123, 0.99893585, 0.83249045, 0.56672167, 0.51918134],\n",
       "       [0.91647946, 0.60987656, 0.62675504, 0.23961273, 0.90922254,\n",
       "        0.44472987, 0.1375724 , 0.97513874, 0.80903717, 0.8313713 ],\n",
       "       [0.50491409, 0.71581532, 0.09444927, 0.63016299, 0.26572256,\n",
       "        0.77655057, 0.18698726, 0.01418773, 0.17057344, 0.12296946],\n",
       "       [0.72104167, 0.86580735, 0.72644613, 0.76766519, 0.55940892,\n",
       "        0.54471309, 0.06403912, 0.25187665, 0.06718267, 0.83510037],\n",
       "       [0.24930091, 0.7160797 , 0.62739625, 0.7127527 , 0.88522844,\n",
       "        0.85377325, 0.36774153, 0.844001  , 0.87300194, 0.96467638],\n",
       "       [0.06148292, 0.14966148, 0.57747147, 0.60511828, 0.60303436,\n",
       "        0.24172286, 0.41565129, 0.66419023, 0.85486698, 0.55219541],\n",
       "       [0.39802836, 0.92123387, 0.43180787, 0.92108499, 0.65140406,\n",
       "        0.92492042, 0.83561941, 0.68989275, 0.99979517, 0.2293044 ],\n",
       "       [0.87030006, 0.75069027, 0.21006615, 0.28185802, 0.28527944,\n",
       "        0.1891731 , 0.089269  , 0.99975763, 0.17152896, 0.24324401],\n",
       "       [0.60839339, 0.03776375, 0.27582904, 0.37536043, 0.86587444,\n",
       "        0.97218225, 0.12605992, 0.01185954, 0.22049899, 0.79886572],\n",
       "       [0.80511252, 0.6062537 , 0.50118914, 0.09319257, 0.01418745,\n",
       "        0.37553201, 0.69690813, 0.35169517, 0.12989029, 0.99748829]])"
      ]
     },
     "execution_count": 4,
     "metadata": {},
     "output_type": "execute_result"
    }
   ],
   "source": [
    "a = np.random.rand(10, 10)\n",
    "a"
   ]
  },
  {
   "cell_type": "code",
   "execution_count": 5,
   "id": "df9a610a",
   "metadata": {},
   "outputs": [
    {
     "name": "stdout",
     "output_type": "stream",
     "text": [
      "Wall time: 7.26 ms\n"
     ]
    },
    {
     "data": {
      "text/plain": [
       "array([[2.74059432, 2.72193067, 2.06614235, 2.6486242 , 3.10079874,\n",
       "        3.2499491 , 2.61286285, 3.43813944, 3.00921956, 3.02548992],\n",
       "       [3.99235656, 3.15776714, 2.3876548 , 2.57806008, 3.68872898,\n",
       "        3.8314482 , 2.53454202, 3.86148639, 2.90093277, 4.12704644],\n",
       "       [1.90607289, 1.63049464, 1.74537593, 1.71017384, 2.38213492,\n",
       "        1.89458793, 1.34607818, 2.20692231, 2.06250365, 2.38551191],\n",
       "       [3.33655139, 2.96643549, 2.3842002 , 2.33638561, 2.95230584,\n",
       "        2.97282697, 2.12296532, 3.0726342 , 2.46912406, 3.6276283 ],\n",
       "       [4.11893147, 3.85986269, 3.14573401, 3.29753869, 3.95001089,\n",
       "        4.04332926, 2.35589124, 3.8555704 , 3.20842475, 4.67182741],\n",
       "       [2.78035192, 2.74637534, 1.9401528 , 2.39305   , 2.56154898,\n",
       "        3.0099632 , 1.45018285, 2.18237124, 1.81788736, 2.93850551],\n",
       "       [3.94314224, 3.74590867, 3.14426511, 3.65119832, 4.50762079,\n",
       "        4.26971934, 2.33374592, 3.99063627, 3.66980365, 4.32081885],\n",
       "       [2.87954908, 2.08931893, 1.43985841, 1.44291681, 2.40415268,\n",
       "        2.08567962, 1.5685009 , 3.04562388, 1.89624435, 2.36013671],\n",
       "       [1.97301721, 1.94111698, 1.97227183, 2.05478362, 2.40983272,\n",
       "        2.47359283, 2.1019912 , 2.40067407, 2.31505845, 3.07156673],\n",
       "       [2.91730548, 2.40768126, 1.66718658, 1.78727249, 2.25423431,\n",
       "        2.59438234, 2.47392827, 2.7381667 , 2.28721857, 2.62663043]])"
      ]
     },
     "execution_count": 5,
     "metadata": {},
     "output_type": "execute_result"
    }
   ],
   "source": [
    "%time np.dot(a, a)"
   ]
  },
  {
   "cell_type": "code",
   "execution_count": 26,
   "id": "c4a038e8",
   "metadata": {},
   "outputs": [
    {
     "name": "stdout",
     "output_type": "stream",
     "text": [
      "1.92 µs ± 29 ns per loop (mean ± std. dev. of 7 runs, 1000000 loops each)\n"
     ]
    }
   ],
   "source": [
    "%timeit np.dot(a, a)"
   ]
  },
  {
   "cell_type": "markdown",
   "id": "f059a495",
   "metadata": {},
   "source": [
    "### 5) 魔术命令之后添加 `?` 查看帮助"
   ]
  },
  {
   "cell_type": "code",
   "execution_count": 27,
   "id": "b5cf1555",
   "metadata": {},
   "outputs": [],
   "source": [
    "%timeit?"
   ]
  },
  {
   "cell_type": "markdown",
   "id": "9318780b",
   "metadata": {},
   "source": [
    "## 1.2  常用的IPython魔术命令"
   ]
  },
  {
   "cell_type": "code",
   "execution_count": 32,
   "id": "0b0c9e3a",
   "metadata": {},
   "outputs": [],
   "source": [
    "# 显示IPython的快速参考\n",
    "%quickref"
   ]
  },
  {
   "cell_type": "code",
   "execution_count": 33,
   "id": "9e41918e",
   "metadata": {},
   "outputs": [],
   "source": [
    "# 显示所有魔术命令的文档\n",
    "%magic"
   ]
  },
  {
   "cell_type": "code",
   "execution_count": 9,
   "id": "8a39fe12",
   "metadata": {},
   "outputs": [
    {
     "ename": "ValueError",
     "evalue": "Test",
     "output_type": "error",
     "traceback": [
      "\u001b[1;31m---------------------------------------------------------------------------\u001b[0m",
      "\u001b[1;31mValueError\u001b[0m                                Traceback (most recent call last)",
      "\u001b[1;32m<ipython-input-9-4766714038f4>\u001b[0m in \u001b[0;36m<module>\u001b[1;34m\u001b[0m\n\u001b[1;32m----> 1\u001b[1;33m \u001b[1;32mraise\u001b[0m \u001b[0mValueError\u001b[0m\u001b[1;33m(\u001b[0m\u001b[1;34m\"Test\"\u001b[0m\u001b[1;33m)\u001b[0m\u001b[1;33m\u001b[0m\u001b[1;33m\u001b[0m\u001b[0m\n\u001b[0m",
      "\u001b[1;31mValueError\u001b[0m: Test"
     ]
    }
   ],
   "source": [
    "raise ValueError(\"Test\")"
   ]
  },
  {
   "cell_type": "code",
   "execution_count": 10,
   "id": "963e9d08",
   "metadata": {},
   "outputs": [
    {
     "name": "stdout",
     "output_type": "stream",
     "text": [
      "> \u001b[1;32m<ipython-input-9-4766714038f4>\u001b[0m(1)\u001b[0;36m<module>\u001b[1;34m()\u001b[0m\n",
      "\u001b[1;32m----> 1 \u001b[1;33m\u001b[1;32mraise\u001b[0m \u001b[0mValueError\u001b[0m\u001b[1;33m(\u001b[0m\u001b[1;34m\"Test\"\u001b[0m\u001b[1;33m)\u001b[0m\u001b[1;33m\u001b[0m\u001b[1;33m\u001b[0m\u001b[0m\n",
      "\u001b[0m\n",
      "ipdb> return\n"
     ]
    }
   ],
   "source": [
    "# 从最新的异常跟踪的底部进入交互式调试器\n",
    "%debug"
   ]
  },
  {
   "cell_type": "code",
   "execution_count": 12,
   "id": "dc154eb7",
   "metadata": {},
   "outputs": [
    {
     "name": "stdout",
     "output_type": "stream",
     "text": [
      "# 从最新的异常跟踪的底部进入交互式调试器\n",
      "%debug\n",
      "# 从最新的异常跟踪的底部进入交互式调试器\n",
      "%debug\n",
      "import numpy as np\n",
      "a = np.random.rand(10, 10)\n",
      "a\n",
      "%time np.dot(a, a)\n",
      "# 从最新的异常跟踪的底部进入交互式调试器\n",
      "%debug\n",
      "raise ValueError\n",
      "\n",
      "# 从最新的异常跟踪的底部进入交互式调试器\n",
      "%debug\n",
      "raise ValueError(\"Test\")\n",
      "\n",
      "# 从最新的异常跟踪的底部进入交互式调试器\n",
      "%debug\n",
      "raise ValueError(\"Test\")\n",
      "# 从最新的异常跟踪的底部进入交互式调试器\n",
      "%debug\n",
      "# hist\n",
      "打印命令的输入（可选输出）的历史\n",
      "%hist\n",
      "# 打印命令的输入（可选输出）的历史\n",
      "%hist\n"
     ]
    }
   ],
   "source": [
    "# 打印命令的输入（可选输出）的历史\n",
    "%hist"
   ]
  },
  {
   "cell_type": "code",
   "execution_count": 13,
   "id": "7340ebb6",
   "metadata": {},
   "outputs": [
    {
     "name": "stdout",
     "output_type": "stream",
     "text": [
      "Once deleted, variables cannot be recovered. Proceed (y/[n])? n\n",
      "Nothing done.\n"
     ]
    }
   ],
   "source": [
    "# 删除交互式命令空间中的全部变量/名称\n",
    "%reset"
   ]
  },
  {
   "cell_type": "code",
   "execution_count": 14,
   "id": "3eaf6fe1",
   "metadata": {},
   "outputs": [],
   "source": [
    "# 通过分页打印输出对象\n",
    "%page a"
   ]
  },
  {
   "cell_type": "code",
   "execution_count": 18,
   "id": "eea5e5ef",
   "metadata": {},
   "outputs": [
    {
     "name": "stdout",
     "output_type": "stream",
     "text": [
      "a\t np\t \n"
     ]
    }
   ],
   "source": [
    "# 显示交互式命名空间中定义的变量，信息级别/冗余度可变\n",
    "%who"
   ]
  },
  {
   "cell_type": "code",
   "execution_count": 19,
   "id": "f7000c08",
   "metadata": {},
   "outputs": [
    {
     "data": {
      "text/plain": [
       "['a', 'np']"
      ]
     },
     "execution_count": 19,
     "metadata": {},
     "output_type": "execute_result"
    }
   ],
   "source": [
    "%who_ls"
   ]
  },
  {
   "cell_type": "code",
   "execution_count": 20,
   "id": "be069c12",
   "metadata": {},
   "outputs": [
    {
     "name": "stdout",
     "output_type": "stream",
     "text": [
      "Variable   Type       Data/Info\n",
      "-------------------------------\n",
      "a          ndarray    10x10: 100 elems, type `float64`, 800 bytes\n",
      "np         module     <module 'numpy' from 'D:\\<...>ges\\\\numpy\\\\__init__.py'>\n"
     ]
    }
   ],
   "source": [
    "%whos"
   ]
  },
  {
   "cell_type": "code",
   "execution_count": 22,
   "id": "d483b3ce",
   "metadata": {},
   "outputs": [],
   "source": [
    "b = 10\n",
    "c = b"
   ]
  },
  {
   "cell_type": "code",
   "execution_count": 23,
   "id": "794d4190",
   "metadata": {},
   "outputs": [],
   "source": [
    "# 删除变量，并尝试清楚其在IPython中的一切引用\n",
    "%xdel b"
   ]
  },
  {
   "cell_type": "code",
   "execution_count": 24,
   "id": "da79c628",
   "metadata": {},
   "outputs": [
    {
     "ename": "NameError",
     "evalue": "name 'c' is not defined",
     "output_type": "error",
     "traceback": [
      "\u001b[1;31m---------------------------------------------------------------------------\u001b[0m",
      "\u001b[1;31mNameError\u001b[0m                                 Traceback (most recent call last)",
      "\u001b[1;32m<ipython-input-24-2b66fd261ee5>\u001b[0m in \u001b[0;36m<module>\u001b[1;34m\u001b[0m\n\u001b[1;32m----> 1\u001b[1;33m \u001b[0mc\u001b[0m\u001b[1;33m\u001b[0m\u001b[1;33m\u001b[0m\u001b[0m\n\u001b[0m",
      "\u001b[1;31mNameError\u001b[0m: name 'c' is not defined"
     ]
    }
   ],
   "source": [
    "# 变量b被删除，并把b的引用c一并删除！\n",
    "c"
   ]
  },
  {
   "cell_type": "markdown",
   "id": "42b51923",
   "metadata": {},
   "source": [
    "## 1.3 使用命令历史"
   ]
  },
  {
   "cell_type": "markdown",
   "id": "3839b9e1",
   "metadata": {},
   "source": [
    "### 1) 搜索并重用命令历史\n",
    "在win10 pycharm ipython console 和 jupyter notebook都测试了，发现然并卵。"
   ]
  },
  {
   "cell_type": "markdown",
   "id": "403582d4",
   "metadata": {},
   "source": [
    "### 2) 记录输入和输出！\n",
    "IPython能够记录整个控制台会话，包括输入和输出。执行 `%logstart` 即可开始记录日志："
   ]
  },
  {
   "cell_type": "code",
   "execution_count": 25,
   "id": "2841ad70",
   "metadata": {},
   "outputs": [
    {
     "name": "stdout",
     "output_type": "stream",
     "text": [
      "Activating auto-logging. Current session state plus future input saved.\n",
      "Filename       : ipython_log.py\n",
      "Mode           : rotate\n",
      "Output logging : False\n",
      "Raw input log  : False\n",
      "Timestamping   : False\n",
      "State          : active\n"
     ]
    }
   ],
   "source": [
    "%logstart"
   ]
  },
  {
   "cell_type": "code",
   "execution_count": 27,
   "id": "bc64fd13",
   "metadata": {},
   "outputs": [],
   "source": [
    "%logstart?"
   ]
  },
  {
   "cell_type": "markdown",
   "id": "65db904e",
   "metadata": {},
   "source": [
    "几个相似的命令\n",
    "- %logoff\n",
    "- %logon\n",
    "- %logstate\n",
    "- %logstop"
   ]
  },
  {
   "cell_type": "code",
   "execution_count": 28,
   "id": "b35b5a2d",
   "metadata": {},
   "outputs": [
    {
     "name": "stdout",
     "output_type": "stream",
     "text": [
      "Logging is already ON\n"
     ]
    }
   ],
   "source": [
    "%logon"
   ]
  },
  {
   "cell_type": "code",
   "execution_count": 29,
   "id": "8541c1c0",
   "metadata": {},
   "outputs": [
    {
     "name": "stdout",
     "output_type": "stream",
     "text": [
      "Filename       : ipython_log.py\n",
      "Mode           : rotate\n",
      "Output logging : False\n",
      "Raw input log  : False\n",
      "Timestamping   : False\n",
      "State          : active\n"
     ]
    }
   ],
   "source": [
    "%logstate"
   ]
  },
  {
   "cell_type": "markdown",
   "id": "e3ab4ac7",
   "metadata": {},
   "source": [
    "## 1.4 与操作系统交互\n",
    "IPython与操作系统shell结合得非常紧密。也就是说，可以直接在其中实现标准的windows或unix命令行活动。比如执行shell命令、更改目录、将命令的执行结果保存到Python对象中等。此外，还提供了shell命令别名以及目录书签等功能。"
   ]
  },
  {
   "cell_type": "markdown",
   "id": "b4ed5c53",
   "metadata": {},
   "source": [
    "### 1) shell命令和别名\n",
    "以 `!` 开头的命令行表示其后的所有内容都需要在系统shell中执行。"
   ]
  },
  {
   "cell_type": "code",
   "execution_count": 35,
   "id": "60981a80",
   "metadata": {},
   "outputs": [
    {
     "name": "stdout",
     "output_type": "stream",
     "text": [
      "^C\n"
     ]
    }
   ],
   "source": [
    "# pycharm ipython console测试可用\n",
    "# jupyter notebook不可用\n",
    "!python"
   ]
  },
  {
   "cell_type": "code",
   "execution_count": 36,
   "id": "61217960",
   "metadata": {},
   "outputs": [
    {
     "name": "stdout",
     "output_type": "stream",
     "text": [
      "^C\n"
     ]
    }
   ],
   "source": [
    "# pycharm ipython console测试可用\n",
    "# jupyter notebook不可用\n",
    "!cmd"
   ]
  },
  {
   "cell_type": "code",
   "execution_count": 32,
   "id": "44ee67fa",
   "metadata": {},
   "outputs": [
    {
     "data": {
      "text/plain": [
       "[]"
      ]
     },
     "execution_count": 32,
     "metadata": {},
     "output_type": "execute_result"
    }
   ],
   "source": [
    "%dirs"
   ]
  },
  {
   "cell_type": "markdown",
   "id": "3aa6a2b9",
   "metadata": {},
   "source": [
    "### 2) 目录书签系统\n",
    "IPython有一个简单的目录书签系统，它使你能够保存常用目录的别名以便实现快速跳转。首先定义书签："
   ]
  },
  {
   "cell_type": "code",
   "execution_count": 37,
   "id": "df98542e",
   "metadata": {},
   "outputs": [],
   "source": [
    "%bookmark bm ./bookmarks/"
   ]
  },
  {
   "cell_type": "code",
   "execution_count": 38,
   "id": "f0e84f0f",
   "metadata": {},
   "outputs": [
    {
     "name": "stdout",
     "output_type": "stream",
     "text": [
      "(bookmark:bm) -> ./bookmarks/\n",
      "D:\\Github\\Time-Series-Analysis-Tutorial\\03 Time Series Analysis\\bookmarks\n"
     ]
    }
   ],
   "source": [
    "cd bm"
   ]
  },
  {
   "cell_type": "code",
   "execution_count": 63,
   "id": "7c1563f7",
   "metadata": {},
   "outputs": [
    {
     "name": "stdout",
     "output_type": "stream",
     "text": [
      "Current bookmarks:\n",
      "bm -> ./bookmarks/\n"
     ]
    }
   ],
   "source": [
    "# 列出所有书签\n",
    "%bookmark -l"
   ]
  },
  {
   "cell_type": "markdown",
   "id": "11cc093d",
   "metadata": {},
   "source": [
    "### 3) 与系统相关的魔术命令 "
   ]
  },
  {
   "cell_type": "code",
   "execution_count": 40,
   "id": "440344f8",
   "metadata": {},
   "outputs": [
    {
     "name": "stdout",
     "output_type": "stream",
     "text": [
      " 驱动器 D 中的卷是 本地磁盘\n",
      " 卷的序列号是 A094-EFBB\n",
      "\n",
      " D:\\Github\\Time-Series-Analysis-Tutorial\\03 Time Series Analysis\\bookmarks 的目录\n",
      "\n",
      "2021/06/01  18:20    <DIR>          .\n",
      "2021/06/01  18:20    <DIR>          ..\n",
      "               0 个文件              0 字节\n",
      "               2 个目录 153,008,041,984 可用字节\n"
     ]
    }
   ],
   "source": [
    "ls"
   ]
  },
  {
   "cell_type": "code",
   "execution_count": 44,
   "id": "57280317",
   "metadata": {},
   "outputs": [
    {
     "name": "stdout",
     "output_type": "stream",
     "text": [
      "[WinError 2] 系统找不到指定的文件。: './bookmarks'\n",
      "D:\\Github\\Time-Series-Analysis-Tutorial\\03 Time Series Analysis\\bookmarks\n"
     ]
    },
    {
     "data": {
      "text/plain": [
       "['D:\\\\Github\\\\Time-Series-Analysis-Tutorial\\\\03 Time Series Analysis\\\\bookmarks',\n",
       " 'D:\\\\Github\\\\Time-Series-Analysis-Tutorial\\\\03 Time Series Analysis\\\\bookmarks']"
      ]
     },
     "execution_count": 44,
     "metadata": {},
     "output_type": "execute_result"
    }
   ],
   "source": [
    "# 将当前目录入栈，并专项目标目录\n",
    "%pushd ./bookmarks"
   ]
  },
  {
   "cell_type": "code",
   "execution_count": 45,
   "id": "8ae656b2",
   "metadata": {},
   "outputs": [
    {
     "name": "stdout",
     "output_type": "stream",
     "text": [
      "D:\\Github\\Time-Series-Analysis-Tutorial\\03 Time Series Analysis\\bookmarks\n",
      "popd -> D:\\Github\\Time-Series-Analysis-Tutorial\\03 Time Series Analysis\\bookmarks\n"
     ]
    }
   ],
   "source": [
    "# 弹出栈顶项目录，并转向目标目录\n",
    "%popd"
   ]
  },
  {
   "cell_type": "code",
   "execution_count": 46,
   "id": "b926ec18",
   "metadata": {},
   "outputs": [
    {
     "name": "stdout",
     "output_type": "stream",
     "text": [
      "D:\\Github\\Time-Series-Analysis-Tutorial\\03 Time Series Analysis\n"
     ]
    }
   ],
   "source": [
    "# 返回上级目录\n",
    "cd .."
   ]
  },
  {
   "cell_type": "code",
   "execution_count": 47,
   "id": "f0b2af91",
   "metadata": {},
   "outputs": [
    {
     "data": {
      "text/plain": [
       "['D:\\\\Github\\\\Time-Series-Analysis-Tutorial\\\\03 Time Series Analysis\\\\bookmarks']"
      ]
     },
     "execution_count": 47,
     "metadata": {},
     "output_type": "execute_result"
    }
   ],
   "source": [
    "# 返回一个含有当前目录栈的列表\n",
    "%dirs"
   ]
  },
  {
   "cell_type": "code",
   "execution_count": 48,
   "id": "b9d7574a",
   "metadata": {},
   "outputs": [
    {
     "name": "stdout",
     "output_type": "stream",
     "text": [
      "Directory history (kept in _dh)\n",
      "0: D:\\Github\\Time-Series-Analysis-Tutorial\\03 Time Series Analysis\n",
      "1: D:\\Github\\Time-Series-Analysis-Tutorial\\03 Time Series Analysis\\bookmarks\n",
      "2: D:\\Github\\Time-Series-Analysis-Tutorial\\03 Time Series Analysis\n"
     ]
    }
   ],
   "source": [
    "# 打印目录访问历史\n",
    "%dhist"
   ]
  },
  {
   "cell_type": "code",
   "execution_count": 49,
   "id": "03498e23",
   "metadata": {},
   "outputs": [
    {
     "data": {
      "text/plain": [
       "{'ALLUSERSPROFILE': 'C:\\\\ProgramData',\n",
       " 'ANDROID_HOME': 'C:\\\\Users\\\\34123\\\\AppData\\\\Local\\\\Android\\\\Sdk',\n",
       " 'APPDATA': 'C:\\\\Users\\\\34123\\\\AppData\\\\Roaming',\n",
       " 'ASL.LOG': 'Destination=file',\n",
       " 'CLASSPATH': '.;C:\\\\Program Files\\\\Java\\\\jdk1.8.0_281\\\\lib\\\\dt.jar;C:\\\\Program Files\\\\Java\\\\jdk1.8.0_281\\\\lib\\\\tools.jar',\n",
       " 'CLION': 'C:\\\\Project\\\\CLion 2020.2.3\\\\bin;',\n",
       " 'COMMONPROGRAMFILES': 'C:\\\\Program Files\\\\Common Files',\n",
       " 'COMMONPROGRAMFILES(X86)': 'C:\\\\Program Files (x86)\\\\Common Files',\n",
       " 'COMMONPROGRAMW6432': 'C:\\\\Program Files\\\\Common Files',\n",
       " 'COMPUTERNAME': 'DESKTOP-QGMPJ0Q',\n",
       " 'COMSPEC': 'C:\\\\WINDOWS\\\\system32\\\\cmd.exe',\n",
       " 'CONDA_DEFAULT_ENV': 'tensorflow',\n",
       " 'CONDA_EXE': 'D:\\\\anaconda\\\\Scripts\\\\conda.exe',\n",
       " 'CONDA_PREFIX': 'D:\\\\anaconda\\\\envs\\\\tensorflow',\n",
       " 'CONDA_PREFIX_1': 'D:\\\\anaconda',\n",
       " 'CONDA_PROMPT_MODIFIER': '(tensorflow) ',\n",
       " 'CONDA_PYTHON_EXE': 'D:\\\\anaconda\\\\python.exe',\n",
       " 'CONDA_SHLVL': '2',\n",
       " 'CUDA_BIN_PATH': 'C:\\\\Program Files\\\\NVIDIA GPU Computing Toolkit\\\\CUDA\\\\v11.0\\\\bin',\n",
       " 'CUDA_LIB_PATH': 'C:\\\\Program Files\\\\NVIDIA GPU Computing Toolkit\\\\CUDA\\\\v11.0\\\\lib\\\\x64',\n",
       " 'CUDA_PATH': 'C:\\\\Program Files\\\\NVIDIA GPU Computing Toolkit\\\\CUDA\\\\v11.0',\n",
       " 'CUDA_PATH_V11_0': 'C:\\\\Program Files\\\\NVIDIA GPU Computing Toolkit\\\\CUDA\\\\v11.0',\n",
       " 'CUDA_SDK_BIN_PATH': 'C:\\\\ProgramData\\\\NVIDIA Corporation\\\\CUDA Samples\\\\v9.0 \\\\bin\\\\win64',\n",
       " 'CUDA_SDK_LIB_PATH': 'C:\\\\ProgramData\\\\NVIDIA Corporation\\\\CUDA Samples\\\\v9.0 \\\\common\\\\lib\\\\x64',\n",
       " 'CUDA_SDK_PATH': 'C:\\\\ProgramData\\\\NVIDIA Corporation\\\\CUDA Samples\\\\v9.0 ',\n",
       " 'DRIVERDATA': 'C:\\\\Windows\\\\System32\\\\Drivers\\\\DriverData',\n",
       " 'FPS_BROWSER_APP_PROFILE_STRING': 'Internet Explorer',\n",
       " 'FPS_BROWSER_USER_PROFILE_STRING': 'Default',\n",
       " 'HOMEDRIVE': 'C:',\n",
       " 'HOMEPATH': '\\\\Users\\\\34123',\n",
       " 'JAVA_HOME': 'C:\\\\Program Files\\\\Java\\\\jdk1.8.0_281',\n",
       " 'LOCALAPPDATA': 'C:\\\\Users\\\\34123\\\\AppData\\\\Local',\n",
       " 'LOGONSERVER': '\\\\\\\\DESKTOP-QGMPJ0Q',\n",
       " 'NUMBER_OF_PROCESSORS': '8',\n",
       " 'NVCUDASAMPLES11_0_ROOT': 'C:\\\\ProgramData\\\\NVIDIA Corporation\\\\CUDA Samples\\\\v11.0',\n",
       " 'NVCUDASAMPLES_ROOT': 'C:\\\\ProgramData\\\\NVIDIA Corporation\\\\CUDA Samples\\\\v11.0',\n",
       " 'NVTOOLSEXT_PATH': 'C:\\\\Program Files\\\\NVIDIA Corporation\\\\NvToolsExt\\\\',\n",
       " 'ONEDRIVE': 'C:\\\\Users\\\\34123\\\\OneDrive',\n",
       " 'OPENCV_DIR': 'C:\\\\Project\\\\opencv\\\\build\\\\install\\\\x64\\\\vc15\\\\bin',\n",
       " 'OPENCV_VIDEOIO_PRIORITY_MSMF': '0',\n",
       " 'OS': 'Windows_NT',\n",
       " 'PATH': 'D:\\\\anaconda\\\\envs\\\\tensorflow;D:\\\\anaconda\\\\envs\\\\tensorflow\\\\Library\\\\mingw-w64\\\\bin;D:\\\\anaconda\\\\envs\\\\tensorflow\\\\Library\\\\usr\\\\bin;D:\\\\anaconda\\\\envs\\\\tensorflow\\\\Library\\\\bin;D:\\\\anaconda\\\\envs\\\\tensorflow\\\\Scripts;D:\\\\anaconda\\\\envs\\\\tensorflow\\\\bin;D:\\\\anaconda\\\\condabin;C:\\\\Program Files (x86)\\\\Common Files\\\\Oracle\\\\Java\\\\javapath;D:\\\\VMware\\\\bin;C:\\\\Program Files\\\\NVIDIA GPU Computing Toolkit\\\\CUDA\\\\v11.0\\\\bin;C:\\\\Program Files\\\\NVIDIA GPU Computing Toolkit\\\\CUDA\\\\v11.0\\\\libnvvp;D:\\\\Project\\\\ImageMagick;C:\\\\Program Files\\\\NVIDIA GPU Computing Toolkit\\\\CUDA\\\\v9.0\\\\lib\\\\x64;C:\\\\Program Files\\\\NVIDIA GPU Computing Toolkit\\\\CUDA\\\\v9.0\\\\include;C:\\\\WINDOWS\\\\system32;C:\\\\WINDOWS;C:\\\\WINDOWS\\\\System32\\\\Wbem;C:\\\\WINDOWS\\\\System32\\\\WindowsPowerShell\\\\v1.0;C:\\\\Program Files\\\\dotnet;C:\\\\Program Files\\\\Microsoft SQL Server\\\\130\\\\Tools\\\\Binn;C:\\\\Project\\\\matlab2018a\\\\runtime\\\\win64;C:\\\\Project\\\\matlab2018a\\\\bin;C:\\\\WINDOWS\\\\System32\\\\OpenSSH;C:\\\\Project\\\\cmake\\\\bin;C:\\\\Project\\\\opencv\\\\build\\\\install\\\\x64\\\\vc15\\\\bin;C:\\\\Project\\\\opencv\\\\build\\\\bin\\\\Release;C:\\\\Project\\\\wget;C:\\\\Users\\\\34123\\\\AppData\\\\Local\\\\Android\\\\Sdk\\\\tools;C:\\\\Program Files\\\\Java\\\\jdk1.8.0_281\\\\bin;C:\\\\Program Files\\\\Java\\\\jdk1.8.0_281\\\\jre\\\\lib;C:\\\\Users\\\\34123\\\\AppData\\\\Local\\\\Android\\\\Sdk\\\\platform-tools;C:\\\\Program Files\\\\SourceGear\\\\Common\\\\DiffMerge;C:\\\\Project\\\\MySQL\\\\bin;C:\\\\Program Files (x86)\\\\NVIDIA Corporation\\\\PhysX\\\\Common;C:\\\\Program Files\\\\NVIDIA Corporation\\\\NVIDIA NvDLISR;C:\\\\Users\\\\34123\\\\AppData\\\\Roaming\\\\nvm;C:\\\\Project\\\\nodejs;C:\\\\anaconda3\\\\Scripts;C:\\\\anaconda3;C:\\\\anaconda3\\\\Library\\\\bin;D:\\\\Project\\\\ffmpeg-4.2.2\\\\bin;D:\\\\APP\\\\MiKTeX\\\\miktex\\\\bin\\\\x64;D:\\\\APP\\\\TeXstudio\\\\texstudio.exe;C:\\\\Program Files\\\\NVIDIA Corporation\\\\Nsight Compute 2020.1.2;C:\\\\WINDOWS\\\\system32;C:\\\\WINDOWS;C:\\\\WINDOWS\\\\System32\\\\Wbem;C:\\\\WINDOWS\\\\System32\\\\WindowsPowerShell\\\\v1.0;C:\\\\WINDOWS\\\\System32\\\\OpenSSH;C:\\\\Program Files\\\\Graphviz\\\\bin;C:\\\\Program Files\\\\mingw-w64\\\\x86_64-8.1.0-win32-seh-rt_v6-rev0\\\\mingw64\\\\bin;C:\\\\Program Files\\\\Git\\\\cmd;C:\\\\Program Files\\\\Docker\\\\Docker\\\\resources\\\\bin;C:\\\\ProgramData\\\\DockerDesktop\\\\version-bin;D:\\\\anaconda;D:\\\\anaconda\\\\Library\\\\mingw-w64\\\\bin;D:\\\\anaconda\\\\Library\\\\usr\\\\bin;D:\\\\anaconda\\\\Library\\\\bin;D:\\\\anaconda\\\\Scripts;C:\\\\Users\\\\34123\\\\AppData\\\\Local\\\\Microsoft\\\\WindowsApps;C:\\\\Project\\\\opencv\\\\build\\\\install\\\\x64\\\\vc15\\\\bin;C:\\\\Project\\\\Microsoft VS Code\\\\bin;C:\\\\texlive\\\\2018\\\\bin\\\\win32;C:\\\\Users\\\\34123\\\\AppData\\\\Roaming\\\\nvm;C:\\\\Project\\\\nodejs;C:\\\\Project\\\\PyCharm\\\\PyCharm 2019.3.3\\\\bin;C:\\\\Users\\\\34123\\\\AppData\\\\Local\\\\Microsoft\\\\WindowsApps;C:\\\\Project\\\\CLion 2020.2.3\\\\bin;C:\\\\Project\\\\PyCharm\\\\PyCharm Community Edition 2020.3.4\\\\bin;C:\\\\Users\\\\34123\\\\AppData\\\\Local\\\\gitkraken\\\\bin;C:\\\\Users\\\\34123\\\\AppData\\\\Local\\\\atom\\\\bin',\n",
       " 'PATHEXT': '.COM;.EXE;.BAT;.CMD;.VBS;.VBE;.JS;.JSE;.WSF;.WSH;.MSC',\n",
       " 'PROCESSOR_ARCHITECTURE': 'AMD64',\n",
       " 'PROCESSOR_IDENTIFIER': 'Intel64 Family 6 Model 94 Stepping 3, GenuineIntel',\n",
       " 'PROCESSOR_LEVEL': '6',\n",
       " 'PROCESSOR_REVISION': '5e03',\n",
       " 'PROGRAMDATA': 'C:\\\\ProgramData',\n",
       " 'PROGRAMFILES': 'C:\\\\Program Files',\n",
       " 'PROGRAMFILES(X86)': 'C:\\\\Program Files (x86)',\n",
       " 'PROGRAMW6432': 'C:\\\\Program Files',\n",
       " 'PROMPT': '(tensorflow) $P$G',\n",
       " 'PSMODULEPATH': 'C:\\\\Program Files\\\\WindowsPowerShell\\\\Modules;C:\\\\WINDOWS\\\\system32\\\\WindowsPowerShell\\\\v1.0\\\\Modules',\n",
       " 'PUBLIC': 'C:\\\\Users\\\\Public',\n",
       " 'PYCHARM': 'C:\\\\Project\\\\PyCharm\\\\PyCharm 2019.3.3\\\\bin;',\n",
       " 'PYCHARM COMMUNITY EDITION': 'C:\\\\Project\\\\PyCharm\\\\PyCharm Community Edition 2020.3.4\\\\bin;',\n",
       " 'SESSIONNAME': 'Console',\n",
       " 'SYSTEMDRIVE': 'C:',\n",
       " 'SYSTEMROOT': 'C:\\\\WINDOWS',\n",
       " 'TEMP': 'C:\\\\Users\\\\34123\\\\AppData\\\\Local\\\\Temp',\n",
       " 'TMP': 'C:\\\\Users\\\\34123\\\\AppData\\\\Local\\\\Temp',\n",
       " 'USERDOMAIN': 'DESKTOP-QGMPJ0Q',\n",
       " 'USERDOMAIN_ROAMINGPROFILE': 'DESKTOP-QGMPJ0Q',\n",
       " 'USERNAME': '34123',\n",
       " 'USERPROFILE': 'C:\\\\Users\\\\34123',\n",
       " 'VS140COMNTOOLS': 'D:\\\\Program Files (x86)\\\\Microsoft Visual Studio 14.0\\\\Common7\\\\Tools\\\\',\n",
       " 'WINDIR': 'C:\\\\WINDOWS',\n",
       " 'JPY_INTERRUPT_EVENT': '3468',\n",
       " 'IPY_INTERRUPT_EVENT': '3468',\n",
       " 'JPY_PARENT_PID': '3832',\n",
       " 'TERM': 'xterm-color',\n",
       " 'CLICOLOR': '1',\n",
       " 'PAGER': 'cat',\n",
       " 'GIT_PAGER': 'cat',\n",
       " 'MPLBACKEND': 'module://ipykernel.pylab.backend_inline'}"
      ]
     },
     "execution_count": 49,
     "metadata": {},
     "output_type": "execute_result"
    }
   ],
   "source": [
    "# 以字典形式返回系统环境变量\n",
    "%env"
   ]
  },
  {
   "cell_type": "code",
   "execution_count": 52,
   "id": "2641dbdf",
   "metadata": {},
   "outputs": [
    {
     "name": "stdout",
     "output_type": "stream",
     "text": [
      "nvcc: NVIDIA (R) Cuda compiler driver\n",
      "Copyright (c) 2005-2020 NVIDIA Corporation\n",
      "Built on Wed_Jul_22_19:09:35_Pacific_Daylight_Time_2020\n",
      "Cuda compilation tools, release 11.0, V11.0.221\n",
      "Build cuda_11.0_bu.relgpu_drvr445TC445_37.28845127_0\n"
     ]
    }
   ],
   "source": [
    "!nvcc -V"
   ]
  },
  {
   "cell_type": "code",
   "execution_count": 41,
   "id": "d811725a",
   "metadata": {},
   "outputs": [
    {
     "data": {
      "text/plain": [
       "'D:\\\\Github\\\\Time-Series-Analysis-Tutorial\\\\03 Time Series Analysis\\\\bookmarks'"
      ]
     },
     "execution_count": 41,
     "metadata": {},
     "output_type": "execute_result"
    }
   ],
   "source": [
    "# 返回系统的当前工作目录\n",
    "pwd"
   ]
  },
  {
   "cell_type": "code",
   "execution_count": 60,
   "id": "519eabff",
   "metadata": {},
   "outputs": [
    {
     "name": "stderr",
     "output_type": "stream",
     "text": [
      "'htop' 不是内部或外部命令，也不是可运行的程序\n",
      "或批处理文件。\n"
     ]
    }
   ],
   "source": [
    "!htop"
   ]
  }
 ],
 "metadata": {
  "kernelspec": {
   "display_name": "Python 3",
   "language": "python",
   "name": "python3"
  },
  "language_info": {
   "codemirror_mode": {
    "name": "ipython",
    "version": 3
   },
   "file_extension": ".py",
   "mimetype": "text/x-python",
   "name": "python",
   "nbconvert_exporter": "python",
   "pygments_lexer": "ipython3",
   "version": "3.8.8"
  }
 },
 "nbformat": 4,
 "nbformat_minor": 5
}

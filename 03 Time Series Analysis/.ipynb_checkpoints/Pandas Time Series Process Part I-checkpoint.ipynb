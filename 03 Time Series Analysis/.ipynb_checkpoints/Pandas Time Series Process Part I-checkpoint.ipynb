{
 "cells": [
  {
   "cell_type": "code",
   "execution_count": 1,
   "id": "085b17ba",
   "metadata": {},
   "outputs": [],
   "source": [
    "import pandas as pd\n",
    "import numpy as np\n",
    "from datetime import datetime"
   ]
  },
  {
   "cell_type": "code",
   "execution_count": 2,
   "id": "ceda8b34",
   "metadata": {},
   "outputs": [],
   "source": [
    "rootdir = 'D:/Github/BigDataAnalysis/01 Data Analysis and Pre-processing/Dataset/'\n",
    "filenames = ['Auxiliary_Info.xlsx']\n",
    "au_info = pd.read_excel(rootdir + filenames[0])"
   ]
  },
  {
   "cell_type": "code",
   "execution_count": 3,
   "id": "f4a9f6a2",
   "metadata": {},
   "outputs": [
    {
     "data": {
      "text/html": [
       "<div>\n",
       "<style scoped>\n",
       "    .dataframe tbody tr th:only-of-type {\n",
       "        vertical-align: middle;\n",
       "    }\n",
       "\n",
       "    .dataframe tbody tr th {\n",
       "        vertical-align: top;\n",
       "    }\n",
       "\n",
       "    .dataframe thead th {\n",
       "        text-align: right;\n",
       "    }\n",
       "</style>\n",
       "<table border=\"1\" class=\"dataframe\">\n",
       "  <thead>\n",
       "    <tr style=\"text-align: right;\">\n",
       "      <th></th>\n",
       "      <th>Semester Start Week</th>\n",
       "      <th>Holiday Date</th>\n",
       "      <th>Attendance period Start</th>\n",
       "      <th>Attendance period End</th>\n",
       "      <th>Attendance period Description</th>\n",
       "      <th>Make up lessons ID</th>\n",
       "      <th>Original lessons Date</th>\n",
       "      <th>Make up lessons Date</th>\n",
       "      <th>Make up lessons Week</th>\n",
       "      <th>Make up lessons Weekday</th>\n",
       "      <th>Make up lessons Schedule</th>\n",
       "      <th>Make up lessons Description</th>\n",
       "    </tr>\n",
       "  </thead>\n",
       "  <tbody>\n",
       "    <tr>\n",
       "      <th>0</th>\n",
       "      <td>2021-03-01</td>\n",
       "      <td>2021-05-01</td>\n",
       "      <td>07:00:00</td>\n",
       "      <td>08:30:00</td>\n",
       "      <td>上午第1节课前一小时内考勤均认为正常考勤，可以按照自己的逻辑修改。</td>\n",
       "      <td>ML2020001</td>\n",
       "      <td>2021-03-15</td>\n",
       "      <td>2021-05-28</td>\n",
       "      <td>13.0</td>\n",
       "      <td>Fri</td>\n",
       "      <td>1--2</td>\n",
       "      <td>补课日期，补第几周的课，补周几的课，补第几节课</td>\n",
       "    </tr>\n",
       "    <tr>\n",
       "      <th>1</th>\n",
       "      <td>NaT</td>\n",
       "      <td>2021-05-02</td>\n",
       "      <td>10:05:00</td>\n",
       "      <td>10:25:00</td>\n",
       "      <td>上午1-2节下课到第3节课上课之间的时间被认为正常考勤。</td>\n",
       "      <td>DL2020001</td>\n",
       "      <td>2021-03-22</td>\n",
       "      <td>2021-05-24</td>\n",
       "      <td>13.0</td>\n",
       "      <td>Mon</td>\n",
       "      <td>3--4</td>\n",
       "      <td>NaN</td>\n",
       "    </tr>\n",
       "    <tr>\n",
       "      <th>2</th>\n",
       "      <td>NaT</td>\n",
       "      <td>2021-05-03</td>\n",
       "      <td>13:00:00</td>\n",
       "      <td>14:00:00</td>\n",
       "      <td>下午第1节课前一小时内考勤均认为正常考勤，可以按照自己的逻辑修改。</td>\n",
       "      <td>CV2020001</td>\n",
       "      <td>2021-05-24</td>\n",
       "      <td>2021-05-28</td>\n",
       "      <td>13.0</td>\n",
       "      <td>Fri</td>\n",
       "      <td>5--6</td>\n",
       "      <td>NaN</td>\n",
       "    </tr>\n",
       "    <tr>\n",
       "      <th>3</th>\n",
       "      <td>NaT</td>\n",
       "      <td>2021-05-04</td>\n",
       "      <td>15:35:00</td>\n",
       "      <td>15:55:00</td>\n",
       "      <td>下午1-2节下课到第3节课上课之间的时间被认为正常考勤。</td>\n",
       "      <td>NaN</td>\n",
       "      <td>NaT</td>\n",
       "      <td>NaT</td>\n",
       "      <td>NaN</td>\n",
       "      <td>NaN</td>\n",
       "      <td>NaN</td>\n",
       "      <td>NaN</td>\n",
       "    </tr>\n",
       "    <tr>\n",
       "      <th>4</th>\n",
       "      <td>NaT</td>\n",
       "      <td>2021-05-05</td>\n",
       "      <td>17:30:00</td>\n",
       "      <td>18:00:00</td>\n",
       "      <td>下午3-4节下课到晚上第1节课上课之间的时间被认为正常考勤。</td>\n",
       "      <td>NaN</td>\n",
       "      <td>NaT</td>\n",
       "      <td>NaT</td>\n",
       "      <td>NaN</td>\n",
       "      <td>NaN</td>\n",
       "      <td>NaN</td>\n",
       "      <td>NaN</td>\n",
       "    </tr>\n",
       "    <tr>\n",
       "      <th>5</th>\n",
       "      <td>NaT</td>\n",
       "      <td>NaT</td>\n",
       "      <td>19:35:00</td>\n",
       "      <td>19:55:00</td>\n",
       "      <td>晚上1-2节课下课到第3节课上课之间的时间被认为正常考勤。</td>\n",
       "      <td>NaN</td>\n",
       "      <td>NaT</td>\n",
       "      <td>NaT</td>\n",
       "      <td>NaN</td>\n",
       "      <td>NaN</td>\n",
       "      <td>NaN</td>\n",
       "      <td>NaN</td>\n",
       "    </tr>\n",
       "  </tbody>\n",
       "</table>\n",
       "</div>"
      ],
      "text/plain": [
       "  Semester Start Week Holiday Date Attendance period Start  \\\n",
       "0          2021-03-01   2021-05-01                07:00:00   \n",
       "1                 NaT   2021-05-02                10:05:00   \n",
       "2                 NaT   2021-05-03                13:00:00   \n",
       "3                 NaT   2021-05-04                15:35:00   \n",
       "4                 NaT   2021-05-05                17:30:00   \n",
       "5                 NaT          NaT                19:35:00   \n",
       "\n",
       "  Attendance period End      Attendance period Description Make up lessons ID  \\\n",
       "0              08:30:00  上午第1节课前一小时内考勤均认为正常考勤，可以按照自己的逻辑修改。          ML2020001   \n",
       "1              10:25:00       上午1-2节下课到第3节课上课之间的时间被认为正常考勤。          DL2020001   \n",
       "2              14:00:00  下午第1节课前一小时内考勤均认为正常考勤，可以按照自己的逻辑修改。          CV2020001   \n",
       "3              15:55:00       下午1-2节下课到第3节课上课之间的时间被认为正常考勤。                NaN   \n",
       "4              18:00:00     下午3-4节下课到晚上第1节课上课之间的时间被认为正常考勤。                NaN   \n",
       "5              19:55:00      晚上1-2节课下课到第3节课上课之间的时间被认为正常考勤。                NaN   \n",
       "\n",
       "  Original lessons Date Make up lessons Date  Make up lessons Week  \\\n",
       "0            2021-03-15           2021-05-28                  13.0   \n",
       "1            2021-03-22           2021-05-24                  13.0   \n",
       "2            2021-05-24           2021-05-28                  13.0   \n",
       "3                   NaT                  NaT                   NaN   \n",
       "4                   NaT                  NaT                   NaN   \n",
       "5                   NaT                  NaT                   NaN   \n",
       "\n",
       "  Make up lessons Weekday Make up lessons Schedule Make up lessons Description  \n",
       "0                     Fri                     1--2     补课日期，补第几周的课，补周几的课，补第几节课  \n",
       "1                     Mon                     3--4                         NaN  \n",
       "2                     Fri                     5--6                         NaN  \n",
       "3                     NaN                      NaN                         NaN  \n",
       "4                     NaN                      NaN                         NaN  \n",
       "5                     NaN                      NaN                         NaN  "
      ]
     },
     "execution_count": 3,
     "metadata": {},
     "output_type": "execute_result"
    }
   ],
   "source": [
    "au_info"
   ]
  },
  {
   "cell_type": "code",
   "execution_count": 4,
   "id": "636ec6ec",
   "metadata": {},
   "outputs": [
    {
     "data": {
      "text/plain": [
       "Index(['Semester Start Week', 'Holiday Date', 'Attendance period Start',\n",
       "       'Attendance period End', 'Attendance period Description',\n",
       "       'Make up lessons ID', 'Original lessons Date', 'Make up lessons Date',\n",
       "       'Make up lessons Week', 'Make up lessons Weekday',\n",
       "       'Make up lessons Schedule', 'Make up lessons Description'],\n",
       "      dtype='object')"
      ]
     },
     "execution_count": 4,
     "metadata": {},
     "output_type": "execute_result"
    }
   ],
   "source": [
    "au_info.columns"
   ]
  },
  {
   "cell_type": "code",
   "execution_count": 5,
   "id": "62670f59",
   "metadata": {},
   "outputs": [
    {
     "data": {
      "text/plain": [
       "Timestamp('2021-03-01 00:00:00')"
      ]
     },
     "execution_count": 5,
     "metadata": {},
     "output_type": "execute_result"
    }
   ],
   "source": [
    "semester_start_week_date = au_info['Semester Start Week'][0]\n",
    "semester_start_week_date"
   ]
  },
  {
   "cell_type": "code",
   "execution_count": 6,
   "id": "11e8f8ec",
   "metadata": {},
   "outputs": [
    {
     "data": {
      "text/plain": [
       "datetime.date(2021, 3, 1)"
      ]
     },
     "execution_count": 6,
     "metadata": {},
     "output_type": "execute_result"
    }
   ],
   "source": [
    "# 获取年月日\n",
    "semester_start_week_date.date()"
   ]
  },
  {
   "cell_type": "code",
   "execution_count": 7,
   "id": "26ac8f5e",
   "metadata": {},
   "outputs": [
    {
     "data": {
      "text/plain": [
       "datetime.time(0, 0)"
      ]
     },
     "execution_count": 7,
     "metadata": {},
     "output_type": "execute_result"
    }
   ],
   "source": [
    "# 获取时分秒\n",
    "semester_start_week_date.time()"
   ]
  },
  {
   "cell_type": "markdown",
   "id": "8c4eb825",
   "metadata": {},
   "source": [
    "## Datetime Format\n",
    "- %Y: 4位数的年\n",
    "- %y: 2位数的年\n",
    "- %m: 2位数的月 [01,12]\n",
    "- %d: 2位数的日 [01,31]\n",
    "- %H: 24小时制 时 [00,23] \n",
    "- %I: 12小时制 时 [01,12]\n",
    "- %M: 2位数的 分 [00,59]\n",
    "- %S: 秒 [00,61] (60和61用于闰秒)\n",
    "\n",
    "---\n",
    "- %w: 用整数表示的星期几 [0(星期天),6]\n",
    "- %U: 每年的第几周 [0, 53]。星期天被认为是每周的第一天，每年第一个星期天之前的那几天被认为是第0周。\n",
    "- %W: 每年的第几周 [0, 53]。星期一被认为是每周的第一天，每年第一个星期天之前的那几天被认为是第0周。\n",
    "\n",
    "---\n",
    "- %F: %Y-%m-%d的简写形式，例如2021-5-23\n",
    "- %D: %m/%d/%y的简写形式，例如23/05/21\n",
    "\n",
    "---\n",
    "限于当前环境的日期格式\n",
    "\n",
    "- %a: 星期几的简写\n",
    "- %A: 星期几的全称\n",
    "- %b: 月份的简写\n",
    "- %B: 月份的全称\n",
    "- %c: 完整的日期和时间\n",
    "- %p: 不同环境的AM和PM\n",
    "- %x: 适用于当前环境的日期格式\n",
    "- %X: 适用于当前环境的时间格式"
   ]
  },
  {
   "cell_type": "code",
   "execution_count": 8,
   "id": "2e93fcd3",
   "metadata": {},
   "outputs": [
    {
     "data": {
      "text/plain": [
       "datetime.datetime(2021, 5, 24, 22, 22, 17, 163101)"
      ]
     },
     "execution_count": 8,
     "metadata": {},
     "output_type": "execute_result"
    }
   ],
   "source": [
    "datetime.now()"
   ]
  },
  {
   "cell_type": "code",
   "execution_count": 9,
   "id": "3959c2a6",
   "metadata": {},
   "outputs": [
    {
     "data": {
      "text/plain": [
       "'Mon May 24 22:22:17 2021'"
      ]
     },
     "execution_count": 9,
     "metadata": {},
     "output_type": "execute_result"
    }
   ],
   "source": [
    "# 完整的日期和时间\n",
    "datetime.now().strftime('%c')"
   ]
  },
  {
   "cell_type": "code",
   "execution_count": 10,
   "id": "5e003bdb",
   "metadata": {},
   "outputs": [
    {
     "data": {
      "text/plain": [
       "0"
      ]
     },
     "execution_count": 10,
     "metadata": {},
     "output_type": "execute_result"
    }
   ],
   "source": [
    "# 获取当前日期是周几(0-6, 0代表周一)\n",
    "datetime.now().weekday()"
   ]
  },
  {
   "cell_type": "code",
   "execution_count": 11,
   "id": "8cb8e01a",
   "metadata": {},
   "outputs": [
    {
     "data": {
      "text/plain": [
       "'21'"
      ]
     },
     "execution_count": 11,
     "metadata": {},
     "output_type": "execute_result"
    }
   ],
   "source": [
    "# 获取当前日期是一年中的第几周\n",
    "datetime.now().strftime('%W')"
   ]
  },
  {
   "cell_type": "code",
   "execution_count": 12,
   "id": "c9b6eae5",
   "metadata": {},
   "outputs": [
    {
     "data": {
      "text/plain": [
       "datetime.datetime(2021, 3, 8, 8, 0)"
      ]
     },
     "execution_count": 12,
     "metadata": {},
     "output_type": "execute_result"
    }
   ],
   "source": [
    "# 格式化日期\n",
    "value = '2021-3-08 08:00:00'\n",
    "\n",
    "datetime.strptime(value, '%Y-%m-%d %H:%M:%S')"
   ]
  },
  {
   "cell_type": "code",
   "execution_count": 13,
   "id": "14bbf627",
   "metadata": {},
   "outputs": [
    {
     "data": {
      "text/plain": [
       "'1'"
      ]
     },
     "execution_count": 13,
     "metadata": {},
     "output_type": "execute_result"
    }
   ],
   "source": [
    "# 获取指定日期属于周几\n",
    "datetime.strptime(value, '%Y-%m-%d %H:%M:%S').strftime('%w')"
   ]
  },
  {
   "cell_type": "code",
   "execution_count": 14,
   "id": "17d4ae85",
   "metadata": {},
   "outputs": [
    {
     "data": {
      "text/plain": [
       "'10'"
      ]
     },
     "execution_count": 14,
     "metadata": {},
     "output_type": "execute_result"
    }
   ],
   "source": [
    "# 获取指定日期属于当年的第几周\n",
    "datetime.strptime(value, '%Y-%m-%d %H:%M:%S').strftime('%W')"
   ]
  },
  {
   "cell_type": "code",
   "execution_count": 15,
   "id": "4bcbfc5a",
   "metadata": {},
   "outputs": [
    {
     "data": {
      "text/plain": [
       "10"
      ]
     },
     "execution_count": 15,
     "metadata": {},
     "output_type": "execute_result"
    }
   ],
   "source": [
    "# 获取指定日期属于当年的第几周\n",
    "int(datetime.strptime(value, '%Y-%m-%d %H:%M:%S').strftime('%W'))"
   ]
  },
  {
   "cell_type": "code",
   "execution_count": 16,
   "id": "98e149c6",
   "metadata": {},
   "outputs": [
    {
     "data": {
      "text/plain": [
       "Timedelta('84 days 22:22:17.288096')"
      ]
     },
     "execution_count": 16,
     "metadata": {},
     "output_type": "execute_result"
    }
   ],
   "source": [
    "# 两个datetime时间对象的差\n",
    "datetime.now() - semester_start_week_date"
   ]
  },
  {
   "cell_type": "code",
   "execution_count": 17,
   "id": "4810e33c",
   "metadata": {},
   "outputs": [
    {
     "data": {
      "text/plain": [
       "'Mon'"
      ]
     },
     "execution_count": 17,
     "metadata": {},
     "output_type": "execute_result"
    }
   ],
   "source": [
    "# 获取指定时间属于星期几\n",
    "datetime.strptime(value, '%Y-%m-%d %H:%M:%S').strftime('%a')"
   ]
  },
  {
   "cell_type": "code",
   "execution_count": 18,
   "id": "ca7c394e",
   "metadata": {},
   "outputs": [
    {
     "data": {
      "text/plain": [
       "'Monday'"
      ]
     },
     "execution_count": 18,
     "metadata": {},
     "output_type": "execute_result"
    }
   ],
   "source": [
    "datetime.strptime(value, '%Y-%m-%d %H:%M:%S').strftime('%A')"
   ]
  },
  {
   "cell_type": "code",
   "execution_count": 19,
   "id": "397c2550",
   "metadata": {},
   "outputs": [
    {
     "data": {
      "text/plain": [
       "'Mar'"
      ]
     },
     "execution_count": 19,
     "metadata": {},
     "output_type": "execute_result"
    }
   ],
   "source": [
    "# 获取指定时间属于月份\n",
    "datetime.strptime(value, '%Y-%m-%d %H:%M:%S').strftime('%b')"
   ]
  },
  {
   "cell_type": "code",
   "execution_count": 20,
   "id": "9860ff6e",
   "metadata": {},
   "outputs": [
    {
     "data": {
      "text/plain": [
       "'March'"
      ]
     },
     "execution_count": 20,
     "metadata": {},
     "output_type": "execute_result"
    }
   ],
   "source": [
    "datetime.strptime(value, '%Y-%m-%d %H:%M:%S').strftime('%B')"
   ]
  },
  {
   "cell_type": "code",
   "execution_count": 21,
   "id": "8a6013e4",
   "metadata": {},
   "outputs": [
    {
     "data": {
      "text/plain": [
       "0   2021-05-01\n",
       "1   2021-05-02\n",
       "2   2021-05-03\n",
       "3   2021-05-04\n",
       "4   2021-05-05\n",
       "5          NaT\n",
       "Name: Holiday Date, dtype: datetime64[ns]"
      ]
     },
     "execution_count": 21,
     "metadata": {},
     "output_type": "execute_result"
    }
   ],
   "source": [
    "au_info['Holiday Date']"
   ]
  },
  {
   "cell_type": "code",
   "execution_count": 22,
   "id": "da37f67e",
   "metadata": {},
   "outputs": [
    {
     "data": {
      "text/plain": [
       "[Timestamp('2021-05-01 00:00:00'),\n",
       " Timestamp('2021-05-02 00:00:00'),\n",
       " Timestamp('2021-05-03 00:00:00'),\n",
       " Timestamp('2021-05-04 00:00:00'),\n",
       " Timestamp('2021-05-05 00:00:00'),\n",
       " NaT]"
      ]
     },
     "execution_count": 22,
     "metadata": {},
     "output_type": "execute_result"
    }
   ],
   "source": [
    "list(au_info['Holiday Date'])"
   ]
  },
  {
   "cell_type": "code",
   "execution_count": 23,
   "id": "d8477ba1",
   "metadata": {},
   "outputs": [
    {
     "data": {
      "text/plain": [
       "(5, int)"
      ]
     },
     "execution_count": 23,
     "metadata": {},
     "output_type": "execute_result"
    }
   ],
   "source": [
    "au_info['Holiday Date'][0].month, type(au_info['Holiday Date'][0].month)"
   ]
  },
  {
   "cell_type": "code",
   "execution_count": 24,
   "id": "c99870ac",
   "metadata": {},
   "outputs": [
    {
     "data": {
      "text/plain": [
       "(NaT, pandas._libs.tslibs.nattype.NaTType)"
      ]
     },
     "execution_count": 24,
     "metadata": {},
     "output_type": "execute_result"
    }
   ],
   "source": [
    "au_info['Holiday Date'].iloc[-1], type(au_info['Holiday Date'].iloc[-1])"
   ]
  },
  {
   "cell_type": "code",
   "execution_count": 25,
   "id": "fa5eb2fd",
   "metadata": {},
   "outputs": [
    {
     "data": {
      "text/plain": [
       "NaT"
      ]
     },
     "execution_count": 25,
     "metadata": {},
     "output_type": "execute_result"
    }
   ],
   "source": [
    "pd.NaT"
   ]
  },
  {
   "cell_type": "code",
   "execution_count": 26,
   "id": "ee5a95bd",
   "metadata": {},
   "outputs": [
    {
     "data": {
      "text/plain": [
       "NaT"
      ]
     },
     "execution_count": 26,
     "metadata": {},
     "output_type": "execute_result"
    }
   ],
   "source": [
    "au_info['Holiday Date'].iloc[-1]"
   ]
  },
  {
   "cell_type": "code",
   "execution_count": 27,
   "id": "4cfdebb9",
   "metadata": {},
   "outputs": [
    {
     "data": {
      "text/plain": [
       "True"
      ]
     },
     "execution_count": 27,
     "metadata": {},
     "output_type": "execute_result"
    }
   ],
   "source": [
    "type(au_info['Holiday Date'].iloc[-1]) == type(pd.NaT)"
   ]
  },
  {
   "cell_type": "code",
   "execution_count": 28,
   "id": "2af5b332",
   "metadata": {},
   "outputs": [
    {
     "data": {
      "text/plain": [
       "[Timestamp('2021-05-01 00:00:00'),\n",
       " Timestamp('2021-05-02 00:00:00'),\n",
       " Timestamp('2021-05-03 00:00:00'),\n",
       " Timestamp('2021-05-04 00:00:00'),\n",
       " Timestamp('2021-05-05 00:00:00')]"
      ]
     },
     "execution_count": 28,
     "metadata": {},
     "output_type": "execute_result"
    }
   ],
   "source": [
    "# 因为表中有 NaT类型，这在遍历时会导致错误，因此需要先过滤掉NaT值\n",
    "holidays = au_info['Holiday Date']\n",
    "# 不包含 NaT 的索引\n",
    "indexes_without_nat = [(type(holiday) != type(pd.NaT)) for holiday in au_info['Holiday Date']]\n",
    "# 不包含 NaT 的假期列表\n",
    "holidays_pure = list(holidays[indexes_without_nat])\n",
    "holidays_pure"
   ]
  },
  {
   "cell_type": "code",
   "execution_count": 29,
   "id": "b452ba4d",
   "metadata": {},
   "outputs": [],
   "source": [
    "# 获取完整的时间格式\n",
    "now = datetime.now()\n",
    "# 分别获取当前的年，月，日，时，分，秒，均为int类型\n",
    "judg_time = now\n",
    "now_y = judg_time.year\n",
    "now_m = judg_time.month\n",
    "now_d = judg_time.day\n",
    "\n",
    "# 用于存放包含年月日的datetime对象\n",
    "attd_start_time_list = []\n",
    "attd_end_time_list   = []\n",
    "\n",
    "for attd_start_time, attd_end_time in zip(au_info['Attendance period Start'], au_info['Attendance period End']):\n",
    "    attd_sh = attd_start_time.hour\n",
    "    attd_sm = attd_start_time.minute\n",
    "    attd_ss = attd_start_time.second\n",
    "    \n",
    "    attd_eh = attd_end_time.hour\n",
    "    attd_em = attd_end_time.minute\n",
    "    attd_es = attd_end_time.second\n",
    "    # 转换为datetime.datetime类型的对象才能直接进行相加减运算\n",
    "    # 因此，将au_info表格中的只有时分的数据添加年月日，并生成新的列表\n",
    "    attd_start_time_list.append(datetime(now_y, now_m, now_d, attd_sh, attd_sm, attd_ss))\n",
    "    attd_end_time_list.append(  datetime(now_y, now_m, now_d, attd_eh, attd_em, attd_es))"
   ]
  },
  {
   "cell_type": "code",
   "execution_count": 30,
   "id": "332b4ca3",
   "metadata": {},
   "outputs": [
    {
     "data": {
      "text/plain": [
       "[datetime.datetime(2021, 5, 24, 7, 0),\n",
       " datetime.datetime(2021, 5, 24, 10, 5),\n",
       " datetime.datetime(2021, 5, 24, 13, 0),\n",
       " datetime.datetime(2021, 5, 24, 15, 35),\n",
       " datetime.datetime(2021, 5, 24, 17, 30),\n",
       " datetime.datetime(2021, 5, 24, 19, 35)]"
      ]
     },
     "execution_count": 30,
     "metadata": {},
     "output_type": "execute_result"
    }
   ],
   "source": [
    "attd_start_time_list"
   ]
  },
  {
   "cell_type": "code",
   "execution_count": 31,
   "id": "429c6eda",
   "metadata": {},
   "outputs": [
    {
     "data": {
      "text/plain": [
       "[datetime.datetime(2021, 5, 24, 8, 30),\n",
       " datetime.datetime(2021, 5, 24, 10, 25),\n",
       " datetime.datetime(2021, 5, 24, 14, 0),\n",
       " datetime.datetime(2021, 5, 24, 15, 55),\n",
       " datetime.datetime(2021, 5, 24, 18, 0),\n",
       " datetime.datetime(2021, 5, 24, 19, 55)]"
      ]
     },
     "execution_count": 31,
     "metadata": {},
     "output_type": "execute_result"
    }
   ],
   "source": [
    "attd_end_time_list"
   ]
  },
  {
   "cell_type": "code",
   "execution_count": 32,
   "id": "e8f2fc43",
   "metadata": {},
   "outputs": [
    {
     "data": {
      "text/plain": [
       "datetime.datetime(2021, 5, 24, 22, 22, 17, 543096)"
      ]
     },
     "execution_count": 32,
     "metadata": {},
     "output_type": "execute_result"
    }
   ],
   "source": [
    "now = datetime.now()\n",
    "now"
   ]
  },
  {
   "cell_type": "code",
   "execution_count": 33,
   "id": "6a99b170",
   "metadata": {},
   "outputs": [
    {
     "data": {
      "text/plain": [
       "22"
      ]
     },
     "execution_count": 33,
     "metadata": {},
     "output_type": "execute_result"
    }
   ],
   "source": [
    "now.hour"
   ]
  },
  {
   "cell_type": "code",
   "execution_count": 34,
   "id": "9ca362ae",
   "metadata": {},
   "outputs": [
    {
     "data": {
      "text/plain": [
       "22"
      ]
     },
     "execution_count": 34,
     "metadata": {},
     "output_type": "execute_result"
    }
   ],
   "source": [
    "now.minute"
   ]
  },
  {
   "cell_type": "code",
   "execution_count": 35,
   "id": "b5349858",
   "metadata": {},
   "outputs": [
    {
     "data": {
      "text/plain": [
       "17"
      ]
     },
     "execution_count": 35,
     "metadata": {},
     "output_type": "execute_result"
    }
   ],
   "source": [
    "now.second"
   ]
  },
  {
   "cell_type": "code",
   "execution_count": null,
   "id": "13d3ebca",
   "metadata": {},
   "outputs": [],
   "source": []
  },
  {
   "cell_type": "code",
   "execution_count": null,
   "id": "328daffc",
   "metadata": {},
   "outputs": [],
   "source": []
  }
 ],
 "metadata": {
  "kernelspec": {
   "display_name": "Python 3",
   "language": "python",
   "name": "python3"
  },
  "language_info": {
   "codemirror_mode": {
    "name": "ipython",
    "version": 3
   },
   "file_extension": ".py",
   "mimetype": "text/x-python",
   "name": "python",
   "nbconvert_exporter": "python",
   "pygments_lexer": "ipython3",
   "version": "3.8.8"
  }
 },
 "nbformat": 4,
 "nbformat_minor": 5
}

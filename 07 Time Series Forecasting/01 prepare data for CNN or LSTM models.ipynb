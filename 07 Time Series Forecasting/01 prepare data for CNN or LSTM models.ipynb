{
 "cells": [
  {
   "cell_type": "code",
   "execution_count": 1,
   "metadata": {},
   "outputs": [
    {
     "name": "stdout",
     "output_type": "stream",
     "text": [
      "(7, 3) (7,)\n",
      "(array([1, 2, 3]), 4)\n",
      "(array([2, 3, 4]), 5)\n",
      "(array([3, 4, 5]), 6)\n",
      "(array([4, 5, 6]), 7)\n",
      "(array([5, 6, 7]), 8)\n",
      "(array([6, 7, 8]), 9)\n",
      "(array([7, 8, 9]), 10)\n",
      "[1 2 3] 4\n",
      "[2 3 4] 5\n",
      "[3 4 5] 6\n",
      "[4 5 6] 7\n",
      "[5 6 7] 8\n",
      "[6 7 8] 9\n",
      "[7 8 9] 10\n"
     ]
    }
   ],
   "source": [
    "import numpy as np\n",
    "\n",
    "def split_sequence(sequence, sliding_window_width):\n",
    "    X, y = [], []\n",
    "    for i in range(len(sequence)):\n",
    "        # 找到最后一次滑动所截取数据中最后一个元素的索引，\n",
    "        # 如果这个索引超过原序列中元素的索引则不截取；\n",
    "        end_element_index = i + sliding_window_width\n",
    "        if end_element_index > len(sequence) - 1: # 序列中最后一个元素的索引\n",
    "            break\n",
    "        sequence_x, sequence_y = sequence[i:end_element_index], sequence[end_element_index] # 取最后一个元素作为预测值y\n",
    "        X.append(sequence_x)\n",
    "        y.append(sequence_y)\n",
    "    \n",
    "    #return X,y\n",
    "    return np.array(X), np.array(y)\n",
    "\n",
    "if __name__ == '__main__':\n",
    "    seq_test = [1,2,3,4,5,6,7,8,9,10]\n",
    "    sw_width = 3\n",
    "    seq_test_x, seq_test_y = split_sequence(seq_test, sw_width)\n",
    "    print(seq_test_x.shape,seq_test_y.shape)\n",
    "    for i in zip(seq_test_x,seq_test_y):\n",
    "        print(i)\n",
    "    for i in range(len(seq_test_x)):\n",
    "        print(seq_test_x[i], seq_test_y[i])"
   ]
  },
  {
   "cell_type": "code",
   "execution_count": 3,
   "metadata": {},
   "outputs": [],
   "source": [
    "from tensorflow.keras.models import Sequential\n",
    "from tensorflow.keras.layers import LSTM, Dense\n",
    "model = Sequential()\n",
    "model.add(LSTM(32))\n",
    "model.add(Dense(1))"
   ]
  },
  {
   "cell_type": "code",
   "execution_count": 4,
   "metadata": {},
   "outputs": [],
   "source": [
    "seq_test_x_1 = seq_test_x.reshape((7,3,1))"
   ]
  },
  {
   "cell_type": "code",
   "execution_count": 5,
   "metadata": {},
   "outputs": [
    {
     "data": {
      "text/plain": [
       "array([[[1],\n",
       "        [2],\n",
       "        [3]],\n",
       "\n",
       "       [[2],\n",
       "        [3],\n",
       "        [4]],\n",
       "\n",
       "       [[3],\n",
       "        [4],\n",
       "        [5]],\n",
       "\n",
       "       [[4],\n",
       "        [5],\n",
       "        [6]],\n",
       "\n",
       "       [[5],\n",
       "        [6],\n",
       "        [7]],\n",
       "\n",
       "       [[6],\n",
       "        [7],\n",
       "        [8]],\n",
       "\n",
       "       [[7],\n",
       "        [8],\n",
       "        [9]]])"
      ]
     },
     "execution_count": 5,
     "metadata": {},
     "output_type": "execute_result"
    }
   ],
   "source": [
    "seq_test_x_1"
   ]
  },
  {
   "cell_type": "code",
   "execution_count": 6,
   "metadata": {},
   "outputs": [
    {
     "data": {
      "text/plain": [
       "7"
      ]
     },
     "execution_count": 6,
     "metadata": {},
     "output_type": "execute_result"
    }
   ],
   "source": [
    "seq_test_x.shape[0]"
   ]
  },
  {
   "cell_type": "code",
   "execution_count": 7,
   "metadata": {},
   "outputs": [
    {
     "data": {
      "text/plain": [
       "3"
      ]
     },
     "execution_count": 7,
     "metadata": {},
     "output_type": "execute_result"
    }
   ],
   "source": [
    "seq_test_x.shape[1]"
   ]
  },
  {
   "cell_type": "code",
   "execution_count": 8,
   "metadata": {},
   "outputs": [
    {
     "data": {
      "text/plain": [
       "array([[[1],\n",
       "        [2],\n",
       "        [3]],\n",
       "\n",
       "       [[2],\n",
       "        [3],\n",
       "        [4]],\n",
       "\n",
       "       [[3],\n",
       "        [4],\n",
       "        [5]],\n",
       "\n",
       "       [[4],\n",
       "        [5],\n",
       "        [6]],\n",
       "\n",
       "       [[5],\n",
       "        [6],\n",
       "        [7]],\n",
       "\n",
       "       [[6],\n",
       "        [7],\n",
       "        [8]],\n",
       "\n",
       "       [[7],\n",
       "        [8],\n",
       "        [9]]])"
      ]
     },
     "execution_count": 8,
     "metadata": {},
     "output_type": "execute_result"
    }
   ],
   "source": [
    "seq_test_x_2 = seq_test_x.reshape((seq_test_x.shape[0], seq_test_x.shape[1], 1))\n",
    "seq_test_x_2"
   ]
  },
  {
   "cell_type": "code",
   "execution_count": 10,
   "metadata": {},
   "outputs": [
    {
     "name": "stdout",
     "output_type": "stream",
     "text": [
      "[[ 1 10]\n",
      " [ 2 20]\n",
      " [ 3 30]\n",
      " [ 4 40]\n",
      " [ 5 50]]\n",
      "(5000, 2)\n"
     ]
    }
   ],
   "source": [
    "import numpy as np\n",
    "\n",
    "simul_data = []\n",
    "n = 5000\n",
    "for i in range(n):\n",
    "    simul_data.append([i+1, (i+1)*10]) # 第一列是时间列，第二列是特征数据列\n",
    "\n",
    "simul_data = np.array(simul_data)\n",
    "print(simul_data[:5, :]) # 取前5组数据\n",
    "print(simul_data.shape)"
   ]
  },
  {
   "cell_type": "code",
   "execution_count": 15,
   "metadata": {},
   "outputs": [
    {
     "data": {
      "text/plain": [
       "(5000,)"
      ]
     },
     "execution_count": 15,
     "metadata": {},
     "output_type": "execute_result"
    }
   ],
   "source": [
    "# 删除时间列\n",
    "#simul_data = simul_data[:, 1]\n",
    "simul_data.shape"
   ]
  },
  {
   "cell_type": "code",
   "execution_count": 18,
   "metadata": {},
   "outputs": [
    {
     "name": "stdout",
     "output_type": "stream",
     "text": [
      "25\n"
     ]
    }
   ],
   "source": [
    "samples = []\n",
    "sw_steps = 200 # 滑动窗口步长\n",
    "\n",
    "for i in range(0, n, sw_steps):\n",
    "    sample = simul_data[i:i+sw_steps] # 截取 i 到 i + 200 的数据\n",
    "    samples.append(sample)\n",
    "print(len(samples))"
   ]
  },
  {
   "cell_type": "code",
   "execution_count": 22,
   "metadata": {},
   "outputs": [
    {
     "name": "stdout",
     "output_type": "stream",
     "text": [
      "[[   10    20    30 ...  1980  1990  2000]\n",
      " [ 2010  2020  2030 ...  3980  3990  4000]\n",
      " [ 4010  4020  4030 ...  5980  5990  6000]\n",
      " ...\n",
      " [44010 44020 44030 ... 45980 45990 46000]\n",
      " [46010 46020 46030 ... 47980 47990 48000]\n",
      " [48010 48020 48030 ... 49980 49990 50000]] (25, 200)\n"
     ]
    }
   ],
   "source": [
    "simul_data = np.array(samples)\n",
    "print(simul_data,simul_data.shape)"
   ]
  },
  {
   "cell_type": "code",
   "execution_count": 21,
   "metadata": {},
   "outputs": [
    {
     "data": {
      "text/plain": [
       "(25, 200)"
      ]
     },
     "execution_count": 21,
     "metadata": {},
     "output_type": "execute_result"
    }
   ],
   "source": [
    "simul_data.shape"
   ]
  },
  {
   "cell_type": "code",
   "execution_count": 24,
   "metadata": {},
   "outputs": [
    {
     "name": "stdout",
     "output_type": "stream",
     "text": [
      "(25, 200, 1)\n"
     ]
    }
   ],
   "source": [
    "simul_data = simul_data.reshape((len(samples), sw_steps, 1))\n",
    "print(simul_data.shape)"
   ]
  },
  {
   "cell_type": "code",
   "execution_count": null,
   "metadata": {},
   "outputs": [],
   "source": []
  }
 ],
 "metadata": {
  "kernelspec": {
   "display_name": "Python 3",
   "language": "python",
   "name": "python3"
  },
  "language_info": {
   "codemirror_mode": {
    "name": "ipython",
    "version": 3
   },
   "file_extension": ".py",
   "mimetype": "text/x-python",
   "name": "python",
   "nbconvert_exporter": "python",
   "pygments_lexer": "ipython3",
   "version": "3.8.6"
  }
 },
 "nbformat": 4,
 "nbformat_minor": 4
}

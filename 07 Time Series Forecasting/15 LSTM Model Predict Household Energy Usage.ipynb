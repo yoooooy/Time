{
 "cells": [
  {
   "cell_type": "code",
   "execution_count": 46,
   "metadata": {},
   "outputs": [],
   "source": [
    "import numpy as np\n",
    "import pandas as pd\n",
    "import matplotlib.pyplot as plt\n",
    "\n",
    "from tensorflow.keras.models import Sequential\n",
    "from tensorflow.keras.layers import LSTM, Dense, Dropout, Flatten\n",
    "from tensorflow.keras.models import load_model"
   ]
  },
  {
   "cell_type": "code",
   "execution_count": 2,
   "metadata": {},
   "outputs": [
    {
     "data": {
      "text/html": [
       "<div>\n",
       "<style scoped>\n",
       "    .dataframe tbody tr th:only-of-type {\n",
       "        vertical-align: middle;\n",
       "    }\n",
       "\n",
       "    .dataframe tbody tr th {\n",
       "        vertical-align: top;\n",
       "    }\n",
       "\n",
       "    .dataframe thead th {\n",
       "        text-align: right;\n",
       "    }\n",
       "</style>\n",
       "<table border=\"1\" class=\"dataframe\">\n",
       "  <thead>\n",
       "    <tr style=\"text-align: right;\">\n",
       "      <th></th>\n",
       "      <th>测点编码</th>\n",
       "      <th>测点值</th>\n",
       "      <th>测点时间</th>\n",
       "    </tr>\n",
       "  </thead>\n",
       "  <tbody>\n",
       "    <tr>\n",
       "      <th>0</th>\n",
       "      <td>xny_gt.nycg_s_xxxx_a_gfgf110kvcgxfhygz</td>\n",
       "      <td>0.000</td>\n",
       "      <td>2019-02-16 00:00:00</td>\n",
       "    </tr>\n",
       "    <tr>\n",
       "      <th>1</th>\n",
       "      <td>xny_gt.nycg_s_xxxx_a_gfgf110kvcgxfhygz</td>\n",
       "      <td>-0.085</td>\n",
       "      <td>2019-02-16 00:15:00</td>\n",
       "    </tr>\n",
       "    <tr>\n",
       "      <th>2</th>\n",
       "      <td>xny_gt.nycg_s_xxxx_a_gfgf110kvcgxfhygz</td>\n",
       "      <td>-0.061</td>\n",
       "      <td>2019-02-16 00:30:00</td>\n",
       "    </tr>\n",
       "    <tr>\n",
       "      <th>3</th>\n",
       "      <td>xny_gt.nycg_s_xxxx_a_gfgf110kvcgxfhygz</td>\n",
       "      <td>-0.036</td>\n",
       "      <td>2019-02-16 00:45:00</td>\n",
       "    </tr>\n",
       "    <tr>\n",
       "      <th>4</th>\n",
       "      <td>xny_gt.nycg_s_xxxx_a_gfgf110kvcgxfhygz</td>\n",
       "      <td>-0.011</td>\n",
       "      <td>2019-02-16 01:00:00</td>\n",
       "    </tr>\n",
       "    <tr>\n",
       "      <th>...</th>\n",
       "      <td>...</td>\n",
       "      <td>...</td>\n",
       "      <td>...</td>\n",
       "    </tr>\n",
       "    <tr>\n",
       "      <th>21787</th>\n",
       "      <td>xny_gt.nycg_s_xxxx_a_gfgf110kvcgxfhygz</td>\n",
       "      <td>-0.043</td>\n",
       "      <td>2019-09-30 22:45:00</td>\n",
       "    </tr>\n",
       "    <tr>\n",
       "      <th>21788</th>\n",
       "      <td>xny_gt.nycg_s_xxxx_a_gfgf110kvcgxfhygz</td>\n",
       "      <td>-0.089</td>\n",
       "      <td>2019-09-30 23:00:00</td>\n",
       "    </tr>\n",
       "    <tr>\n",
       "      <th>21789</th>\n",
       "      <td>xny_gt.nycg_s_xxxx_a_gfgf110kvcgxfhygz</td>\n",
       "      <td>-0.068</td>\n",
       "      <td>2019-09-30 23:15:00</td>\n",
       "    </tr>\n",
       "    <tr>\n",
       "      <th>21790</th>\n",
       "      <td>xny_gt.nycg_s_xxxx_a_gfgf110kvcgxfhygz</td>\n",
       "      <td>-0.097</td>\n",
       "      <td>2019-09-30 23:30:00</td>\n",
       "    </tr>\n",
       "    <tr>\n",
       "      <th>21791</th>\n",
       "      <td>xny_gt.nycg_s_xxxx_a_gfgf110kvcgxfhygz</td>\n",
       "      <td>-0.089</td>\n",
       "      <td>2019-09-30 23:45:00</td>\n",
       "    </tr>\n",
       "  </tbody>\n",
       "</table>\n",
       "<p>21792 rows × 3 columns</p>\n",
       "</div>"
      ],
      "text/plain": [
       "                                         测点编码    测点值                 测点时间\n",
       "0      xny_gt.nycg_s_xxxx_a_gfgf110kvcgxfhygz  0.000  2019-02-16 00:00:00\n",
       "1      xny_gt.nycg_s_xxxx_a_gfgf110kvcgxfhygz -0.085  2019-02-16 00:15:00\n",
       "2      xny_gt.nycg_s_xxxx_a_gfgf110kvcgxfhygz -0.061  2019-02-16 00:30:00\n",
       "3      xny_gt.nycg_s_xxxx_a_gfgf110kvcgxfhygz -0.036  2019-02-16 00:45:00\n",
       "4      xny_gt.nycg_s_xxxx_a_gfgf110kvcgxfhygz -0.011  2019-02-16 01:00:00\n",
       "...                                       ...    ...                  ...\n",
       "21787  xny_gt.nycg_s_xxxx_a_gfgf110kvcgxfhygz -0.043  2019-09-30 22:45:00\n",
       "21788  xny_gt.nycg_s_xxxx_a_gfgf110kvcgxfhygz -0.089  2019-09-30 23:00:00\n",
       "21789  xny_gt.nycg_s_xxxx_a_gfgf110kvcgxfhygz -0.068  2019-09-30 23:15:00\n",
       "21790  xny_gt.nycg_s_xxxx_a_gfgf110kvcgxfhygz -0.097  2019-09-30 23:30:00\n",
       "21791  xny_gt.nycg_s_xxxx_a_gfgf110kvcgxfhygz -0.089  2019-09-30 23:45:00\n",
       "\n",
       "[21792 rows x 3 columns]"
      ]
     },
     "execution_count": 2,
     "metadata": {},
     "output_type": "execute_result"
    }
   ],
   "source": [
    "dataset = pd.read_excel('Active Power.xlsx',sheet_name=0, header=0)\n",
    "dataset"
   ]
  },
  {
   "cell_type": "code",
   "execution_count": 3,
   "metadata": {},
   "outputs": [
    {
     "data": {
      "text/plain": [
       "Index(['测点编码', '测点值', '测点时间'], dtype='object')"
      ]
     },
     "execution_count": 3,
     "metadata": {},
     "output_type": "execute_result"
    }
   ],
   "source": [
    "dataset.columns"
   ]
  },
  {
   "cell_type": "code",
   "execution_count": 4,
   "metadata": {},
   "outputs": [],
   "source": [
    "dataset = pd.read_excel('Active Power.xlsx', sheet_name=0, header=0,\n",
    "                        parse_dates={'datetime':[2]}, index_col=0)"
   ]
  },
  {
   "cell_type": "code",
   "execution_count": 5,
   "metadata": {},
   "outputs": [
    {
     "data": {
      "text/html": [
       "<div>\n",
       "<style scoped>\n",
       "    .dataframe tbody tr th:only-of-type {\n",
       "        vertical-align: middle;\n",
       "    }\n",
       "\n",
       "    .dataframe tbody tr th {\n",
       "        vertical-align: top;\n",
       "    }\n",
       "\n",
       "    .dataframe thead th {\n",
       "        text-align: right;\n",
       "    }\n",
       "</style>\n",
       "<table border=\"1\" class=\"dataframe\">\n",
       "  <thead>\n",
       "    <tr style=\"text-align: right;\">\n",
       "      <th></th>\n",
       "      <th>测点编码</th>\n",
       "      <th>测点值</th>\n",
       "    </tr>\n",
       "    <tr>\n",
       "      <th>datetime</th>\n",
       "      <th></th>\n",
       "      <th></th>\n",
       "    </tr>\n",
       "  </thead>\n",
       "  <tbody>\n",
       "    <tr>\n",
       "      <th>2019-02-16 00:00:00</th>\n",
       "      <td>xny_gt.nycg_s_xxxx_a_gfgf110kvcgxfhygz</td>\n",
       "      <td>0.000</td>\n",
       "    </tr>\n",
       "    <tr>\n",
       "      <th>2019-02-16 00:15:00</th>\n",
       "      <td>xny_gt.nycg_s_xxxx_a_gfgf110kvcgxfhygz</td>\n",
       "      <td>-0.085</td>\n",
       "    </tr>\n",
       "    <tr>\n",
       "      <th>2019-02-16 00:30:00</th>\n",
       "      <td>xny_gt.nycg_s_xxxx_a_gfgf110kvcgxfhygz</td>\n",
       "      <td>-0.061</td>\n",
       "    </tr>\n",
       "    <tr>\n",
       "      <th>2019-02-16 00:45:00</th>\n",
       "      <td>xny_gt.nycg_s_xxxx_a_gfgf110kvcgxfhygz</td>\n",
       "      <td>-0.036</td>\n",
       "    </tr>\n",
       "    <tr>\n",
       "      <th>2019-02-16 01:00:00</th>\n",
       "      <td>xny_gt.nycg_s_xxxx_a_gfgf110kvcgxfhygz</td>\n",
       "      <td>-0.011</td>\n",
       "    </tr>\n",
       "    <tr>\n",
       "      <th>...</th>\n",
       "      <td>...</td>\n",
       "      <td>...</td>\n",
       "    </tr>\n",
       "    <tr>\n",
       "      <th>2019-09-30 22:45:00</th>\n",
       "      <td>xny_gt.nycg_s_xxxx_a_gfgf110kvcgxfhygz</td>\n",
       "      <td>-0.043</td>\n",
       "    </tr>\n",
       "    <tr>\n",
       "      <th>2019-09-30 23:00:00</th>\n",
       "      <td>xny_gt.nycg_s_xxxx_a_gfgf110kvcgxfhygz</td>\n",
       "      <td>-0.089</td>\n",
       "    </tr>\n",
       "    <tr>\n",
       "      <th>2019-09-30 23:15:00</th>\n",
       "      <td>xny_gt.nycg_s_xxxx_a_gfgf110kvcgxfhygz</td>\n",
       "      <td>-0.068</td>\n",
       "    </tr>\n",
       "    <tr>\n",
       "      <th>2019-09-30 23:30:00</th>\n",
       "      <td>xny_gt.nycg_s_xxxx_a_gfgf110kvcgxfhygz</td>\n",
       "      <td>-0.097</td>\n",
       "    </tr>\n",
       "    <tr>\n",
       "      <th>2019-09-30 23:45:00</th>\n",
       "      <td>xny_gt.nycg_s_xxxx_a_gfgf110kvcgxfhygz</td>\n",
       "      <td>-0.089</td>\n",
       "    </tr>\n",
       "  </tbody>\n",
       "</table>\n",
       "<p>21792 rows × 2 columns</p>\n",
       "</div>"
      ],
      "text/plain": [
       "                                                       测点编码    测点值\n",
       "datetime                                                          \n",
       "2019-02-16 00:00:00  xny_gt.nycg_s_xxxx_a_gfgf110kvcgxfhygz  0.000\n",
       "2019-02-16 00:15:00  xny_gt.nycg_s_xxxx_a_gfgf110kvcgxfhygz -0.085\n",
       "2019-02-16 00:30:00  xny_gt.nycg_s_xxxx_a_gfgf110kvcgxfhygz -0.061\n",
       "2019-02-16 00:45:00  xny_gt.nycg_s_xxxx_a_gfgf110kvcgxfhygz -0.036\n",
       "2019-02-16 01:00:00  xny_gt.nycg_s_xxxx_a_gfgf110kvcgxfhygz -0.011\n",
       "...                                                     ...    ...\n",
       "2019-09-30 22:45:00  xny_gt.nycg_s_xxxx_a_gfgf110kvcgxfhygz -0.043\n",
       "2019-09-30 23:00:00  xny_gt.nycg_s_xxxx_a_gfgf110kvcgxfhygz -0.089\n",
       "2019-09-30 23:15:00  xny_gt.nycg_s_xxxx_a_gfgf110kvcgxfhygz -0.068\n",
       "2019-09-30 23:30:00  xny_gt.nycg_s_xxxx_a_gfgf110kvcgxfhygz -0.097\n",
       "2019-09-30 23:45:00  xny_gt.nycg_s_xxxx_a_gfgf110kvcgxfhygz -0.089\n",
       "\n",
       "[21792 rows x 2 columns]"
      ]
     },
     "execution_count": 5,
     "metadata": {},
     "output_type": "execute_result"
    }
   ],
   "source": [
    "dataset"
   ]
  },
  {
   "cell_type": "code",
   "execution_count": 6,
   "metadata": {},
   "outputs": [],
   "source": [
    "dataset.drop(columns=['测点编码'], inplace=True)"
   ]
  },
  {
   "cell_type": "code",
   "execution_count": 7,
   "metadata": {},
   "outputs": [
    {
     "data": {
      "text/html": [
       "<div>\n",
       "<style scoped>\n",
       "    .dataframe tbody tr th:only-of-type {\n",
       "        vertical-align: middle;\n",
       "    }\n",
       "\n",
       "    .dataframe tbody tr th {\n",
       "        vertical-align: top;\n",
       "    }\n",
       "\n",
       "    .dataframe thead th {\n",
       "        text-align: right;\n",
       "    }\n",
       "</style>\n",
       "<table border=\"1\" class=\"dataframe\">\n",
       "  <thead>\n",
       "    <tr style=\"text-align: right;\">\n",
       "      <th></th>\n",
       "      <th>测点值</th>\n",
       "    </tr>\n",
       "    <tr>\n",
       "      <th>datetime</th>\n",
       "      <th></th>\n",
       "    </tr>\n",
       "  </thead>\n",
       "  <tbody>\n",
       "    <tr>\n",
       "      <th>2019-02-16 00:00:00</th>\n",
       "      <td>0.000</td>\n",
       "    </tr>\n",
       "    <tr>\n",
       "      <th>2019-02-16 00:15:00</th>\n",
       "      <td>-0.085</td>\n",
       "    </tr>\n",
       "    <tr>\n",
       "      <th>2019-02-16 00:30:00</th>\n",
       "      <td>-0.061</td>\n",
       "    </tr>\n",
       "    <tr>\n",
       "      <th>2019-02-16 00:45:00</th>\n",
       "      <td>-0.036</td>\n",
       "    </tr>\n",
       "    <tr>\n",
       "      <th>2019-02-16 01:00:00</th>\n",
       "      <td>-0.011</td>\n",
       "    </tr>\n",
       "    <tr>\n",
       "      <th>...</th>\n",
       "      <td>...</td>\n",
       "    </tr>\n",
       "    <tr>\n",
       "      <th>2019-09-30 22:45:00</th>\n",
       "      <td>-0.043</td>\n",
       "    </tr>\n",
       "    <tr>\n",
       "      <th>2019-09-30 23:00:00</th>\n",
       "      <td>-0.089</td>\n",
       "    </tr>\n",
       "    <tr>\n",
       "      <th>2019-09-30 23:15:00</th>\n",
       "      <td>-0.068</td>\n",
       "    </tr>\n",
       "    <tr>\n",
       "      <th>2019-09-30 23:30:00</th>\n",
       "      <td>-0.097</td>\n",
       "    </tr>\n",
       "    <tr>\n",
       "      <th>2019-09-30 23:45:00</th>\n",
       "      <td>-0.089</td>\n",
       "    </tr>\n",
       "  </tbody>\n",
       "</table>\n",
       "<p>21792 rows × 1 columns</p>\n",
       "</div>"
      ],
      "text/plain": [
       "                       测点值\n",
       "datetime                  \n",
       "2019-02-16 00:00:00  0.000\n",
       "2019-02-16 00:15:00 -0.085\n",
       "2019-02-16 00:30:00 -0.061\n",
       "2019-02-16 00:45:00 -0.036\n",
       "2019-02-16 01:00:00 -0.011\n",
       "...                    ...\n",
       "2019-09-30 22:45:00 -0.043\n",
       "2019-09-30 23:00:00 -0.089\n",
       "2019-09-30 23:15:00 -0.068\n",
       "2019-09-30 23:30:00 -0.097\n",
       "2019-09-30 23:45:00 -0.089\n",
       "\n",
       "[21792 rows x 1 columns]"
      ]
     },
     "execution_count": 7,
     "metadata": {},
     "output_type": "execute_result"
    }
   ],
   "source": [
    "dataset"
   ]
  },
  {
   "cell_type": "code",
   "execution_count": 8,
   "metadata": {},
   "outputs": [
    {
     "data": {
      "text/plain": [
       "Index(['测点值'], dtype='object')"
      ]
     },
     "execution_count": 8,
     "metadata": {},
     "output_type": "execute_result"
    }
   ],
   "source": [
    "dataset.columns"
   ]
  },
  {
   "cell_type": "code",
   "execution_count": 9,
   "metadata": {},
   "outputs": [],
   "source": [
    "dataset.columns = [ 'value']"
   ]
  },
  {
   "cell_type": "code",
   "execution_count": 10,
   "metadata": {},
   "outputs": [
    {
     "data": {
      "text/html": [
       "<div>\n",
       "<style scoped>\n",
       "    .dataframe tbody tr th:only-of-type {\n",
       "        vertical-align: middle;\n",
       "    }\n",
       "\n",
       "    .dataframe tbody tr th {\n",
       "        vertical-align: top;\n",
       "    }\n",
       "\n",
       "    .dataframe thead th {\n",
       "        text-align: right;\n",
       "    }\n",
       "</style>\n",
       "<table border=\"1\" class=\"dataframe\">\n",
       "  <thead>\n",
       "    <tr style=\"text-align: right;\">\n",
       "      <th></th>\n",
       "      <th>value</th>\n",
       "    </tr>\n",
       "    <tr>\n",
       "      <th>datetime</th>\n",
       "      <th></th>\n",
       "    </tr>\n",
       "  </thead>\n",
       "  <tbody>\n",
       "    <tr>\n",
       "      <th>2019-02-16 00:00:00</th>\n",
       "      <td>0.000</td>\n",
       "    </tr>\n",
       "    <tr>\n",
       "      <th>2019-02-16 00:15:00</th>\n",
       "      <td>-0.085</td>\n",
       "    </tr>\n",
       "    <tr>\n",
       "      <th>2019-02-16 00:30:00</th>\n",
       "      <td>-0.061</td>\n",
       "    </tr>\n",
       "    <tr>\n",
       "      <th>2019-02-16 00:45:00</th>\n",
       "      <td>-0.036</td>\n",
       "    </tr>\n",
       "    <tr>\n",
       "      <th>2019-02-16 01:00:00</th>\n",
       "      <td>-0.011</td>\n",
       "    </tr>\n",
       "    <tr>\n",
       "      <th>...</th>\n",
       "      <td>...</td>\n",
       "    </tr>\n",
       "    <tr>\n",
       "      <th>2019-09-30 22:45:00</th>\n",
       "      <td>-0.043</td>\n",
       "    </tr>\n",
       "    <tr>\n",
       "      <th>2019-09-30 23:00:00</th>\n",
       "      <td>-0.089</td>\n",
       "    </tr>\n",
       "    <tr>\n",
       "      <th>2019-09-30 23:15:00</th>\n",
       "      <td>-0.068</td>\n",
       "    </tr>\n",
       "    <tr>\n",
       "      <th>2019-09-30 23:30:00</th>\n",
       "      <td>-0.097</td>\n",
       "    </tr>\n",
       "    <tr>\n",
       "      <th>2019-09-30 23:45:00</th>\n",
       "      <td>-0.089</td>\n",
       "    </tr>\n",
       "  </tbody>\n",
       "</table>\n",
       "<p>21792 rows × 1 columns</p>\n",
       "</div>"
      ],
      "text/plain": [
       "                     value\n",
       "datetime                  \n",
       "2019-02-16 00:00:00  0.000\n",
       "2019-02-16 00:15:00 -0.085\n",
       "2019-02-16 00:30:00 -0.061\n",
       "2019-02-16 00:45:00 -0.036\n",
       "2019-02-16 01:00:00 -0.011\n",
       "...                    ...\n",
       "2019-09-30 22:45:00 -0.043\n",
       "2019-09-30 23:00:00 -0.089\n",
       "2019-09-30 23:15:00 -0.068\n",
       "2019-09-30 23:30:00 -0.097\n",
       "2019-09-30 23:45:00 -0.089\n",
       "\n",
       "[21792 rows x 1 columns]"
      ]
     },
     "execution_count": 10,
     "metadata": {},
     "output_type": "execute_result"
    }
   ],
   "source": [
    "dataset"
   ]
  },
  {
   "cell_type": "code",
   "execution_count": 11,
   "metadata": {},
   "outputs": [
    {
     "data": {
      "text/plain": [
       "value    0\n",
       "dtype: int64"
      ]
     },
     "execution_count": 11,
     "metadata": {},
     "output_type": "execute_result"
    }
   ],
   "source": [
    "dataset.isnull().sum()"
   ]
  },
  {
   "cell_type": "code",
   "execution_count": 12,
   "metadata": {},
   "outputs": [
    {
     "data": {
      "text/plain": [
       "value    0\n",
       "dtype: int64"
      ]
     },
     "execution_count": 12,
     "metadata": {},
     "output_type": "execute_result"
    }
   ],
   "source": [
    "dataset.isna().sum()"
   ]
  },
  {
   "cell_type": "code",
   "execution_count": 13,
   "metadata": {},
   "outputs": [],
   "source": [
    "dataset.to_csv('ActivePower_Processed.csv')"
   ]
  },
  {
   "cell_type": "code",
   "execution_count": 14,
   "metadata": {},
   "outputs": [],
   "source": [
    "dataset = pd.read_csv('ActivePower_Processed.csv', header=0,\n",
    "                      infer_datetime_format=True, engine='c',\n",
    "                      parse_dates=['datetime'], index_col=['datetime'])"
   ]
  },
  {
   "cell_type": "code",
   "execution_count": 15,
   "metadata": {},
   "outputs": [
    {
     "data": {
      "text/html": [
       "<div>\n",
       "<style scoped>\n",
       "    .dataframe tbody tr th:only-of-type {\n",
       "        vertical-align: middle;\n",
       "    }\n",
       "\n",
       "    .dataframe tbody tr th {\n",
       "        vertical-align: top;\n",
       "    }\n",
       "\n",
       "    .dataframe thead th {\n",
       "        text-align: right;\n",
       "    }\n",
       "</style>\n",
       "<table border=\"1\" class=\"dataframe\">\n",
       "  <thead>\n",
       "    <tr style=\"text-align: right;\">\n",
       "      <th></th>\n",
       "      <th>value</th>\n",
       "    </tr>\n",
       "    <tr>\n",
       "      <th>datetime</th>\n",
       "      <th></th>\n",
       "    </tr>\n",
       "  </thead>\n",
       "  <tbody>\n",
       "    <tr>\n",
       "      <th>2019-02-16 00:00:00</th>\n",
       "      <td>0.000</td>\n",
       "    </tr>\n",
       "    <tr>\n",
       "      <th>2019-02-16 00:15:00</th>\n",
       "      <td>-0.085</td>\n",
       "    </tr>\n",
       "    <tr>\n",
       "      <th>2019-02-16 00:30:00</th>\n",
       "      <td>-0.061</td>\n",
       "    </tr>\n",
       "    <tr>\n",
       "      <th>2019-02-16 00:45:00</th>\n",
       "      <td>-0.036</td>\n",
       "    </tr>\n",
       "    <tr>\n",
       "      <th>2019-02-16 01:00:00</th>\n",
       "      <td>-0.011</td>\n",
       "    </tr>\n",
       "    <tr>\n",
       "      <th>...</th>\n",
       "      <td>...</td>\n",
       "    </tr>\n",
       "    <tr>\n",
       "      <th>2019-09-30 22:45:00</th>\n",
       "      <td>-0.043</td>\n",
       "    </tr>\n",
       "    <tr>\n",
       "      <th>2019-09-30 23:00:00</th>\n",
       "      <td>-0.089</td>\n",
       "    </tr>\n",
       "    <tr>\n",
       "      <th>2019-09-30 23:15:00</th>\n",
       "      <td>-0.068</td>\n",
       "    </tr>\n",
       "    <tr>\n",
       "      <th>2019-09-30 23:30:00</th>\n",
       "      <td>-0.097</td>\n",
       "    </tr>\n",
       "    <tr>\n",
       "      <th>2019-09-30 23:45:00</th>\n",
       "      <td>-0.089</td>\n",
       "    </tr>\n",
       "  </tbody>\n",
       "</table>\n",
       "<p>21792 rows × 1 columns</p>\n",
       "</div>"
      ],
      "text/plain": [
       "                     value\n",
       "datetime                  \n",
       "2019-02-16 00:00:00  0.000\n",
       "2019-02-16 00:15:00 -0.085\n",
       "2019-02-16 00:30:00 -0.061\n",
       "2019-02-16 00:45:00 -0.036\n",
       "2019-02-16 01:00:00 -0.011\n",
       "...                    ...\n",
       "2019-09-30 22:45:00 -0.043\n",
       "2019-09-30 23:00:00 -0.089\n",
       "2019-09-30 23:15:00 -0.068\n",
       "2019-09-30 23:30:00 -0.097\n",
       "2019-09-30 23:45:00 -0.089\n",
       "\n",
       "[21792 rows x 1 columns]"
      ]
     },
     "execution_count": 15,
     "metadata": {},
     "output_type": "execute_result"
    }
   ],
   "source": [
    "dataset"
   ]
  },
  {
   "cell_type": "code",
   "execution_count": 16,
   "metadata": {},
   "outputs": [],
   "source": [
    "datasetX, evaluateX = dataset.iloc[:-35,:], dataset.iloc[-35:,:]"
   ]
  },
  {
   "cell_type": "code",
   "execution_count": 17,
   "metadata": {},
   "outputs": [
    {
     "data": {
      "text/html": [
       "<div>\n",
       "<style scoped>\n",
       "    .dataframe tbody tr th:only-of-type {\n",
       "        vertical-align: middle;\n",
       "    }\n",
       "\n",
       "    .dataframe tbody tr th {\n",
       "        vertical-align: top;\n",
       "    }\n",
       "\n",
       "    .dataframe thead th {\n",
       "        text-align: right;\n",
       "    }\n",
       "</style>\n",
       "<table border=\"1\" class=\"dataframe\">\n",
       "  <thead>\n",
       "    <tr style=\"text-align: right;\">\n",
       "      <th></th>\n",
       "      <th>value</th>\n",
       "    </tr>\n",
       "    <tr>\n",
       "      <th>datetime</th>\n",
       "      <th></th>\n",
       "    </tr>\n",
       "  </thead>\n",
       "  <tbody>\n",
       "    <tr>\n",
       "      <th>2019-02-16 00:00:00</th>\n",
       "      <td>0.000</td>\n",
       "    </tr>\n",
       "    <tr>\n",
       "      <th>2019-02-16 00:15:00</th>\n",
       "      <td>-0.085</td>\n",
       "    </tr>\n",
       "    <tr>\n",
       "      <th>2019-02-16 00:30:00</th>\n",
       "      <td>-0.061</td>\n",
       "    </tr>\n",
       "    <tr>\n",
       "      <th>2019-02-16 00:45:00</th>\n",
       "      <td>-0.036</td>\n",
       "    </tr>\n",
       "    <tr>\n",
       "      <th>2019-02-16 01:00:00</th>\n",
       "      <td>-0.011</td>\n",
       "    </tr>\n",
       "    <tr>\n",
       "      <th>...</th>\n",
       "      <td>...</td>\n",
       "    </tr>\n",
       "    <tr>\n",
       "      <th>2019-09-30 14:00:00</th>\n",
       "      <td>33.669</td>\n",
       "    </tr>\n",
       "    <tr>\n",
       "      <th>2019-09-30 14:15:00</th>\n",
       "      <td>31.499</td>\n",
       "    </tr>\n",
       "    <tr>\n",
       "      <th>2019-09-30 14:30:00</th>\n",
       "      <td>29.780</td>\n",
       "    </tr>\n",
       "    <tr>\n",
       "      <th>2019-09-30 14:45:00</th>\n",
       "      <td>27.740</td>\n",
       "    </tr>\n",
       "    <tr>\n",
       "      <th>2019-09-30 15:00:00</th>\n",
       "      <td>24.925</td>\n",
       "    </tr>\n",
       "  </tbody>\n",
       "</table>\n",
       "<p>21757 rows × 1 columns</p>\n",
       "</div>"
      ],
      "text/plain": [
       "                      value\n",
       "datetime                   \n",
       "2019-02-16 00:00:00   0.000\n",
       "2019-02-16 00:15:00  -0.085\n",
       "2019-02-16 00:30:00  -0.061\n",
       "2019-02-16 00:45:00  -0.036\n",
       "2019-02-16 01:00:00  -0.011\n",
       "...                     ...\n",
       "2019-09-30 14:00:00  33.669\n",
       "2019-09-30 14:15:00  31.499\n",
       "2019-09-30 14:30:00  29.780\n",
       "2019-09-30 14:45:00  27.740\n",
       "2019-09-30 15:00:00  24.925\n",
       "\n",
       "[21757 rows x 1 columns]"
      ]
     },
     "execution_count": 17,
     "metadata": {},
     "output_type": "execute_result"
    }
   ],
   "source": [
    "datasetX"
   ]
  },
  {
   "cell_type": "code",
   "execution_count": 18,
   "metadata": {},
   "outputs": [
    {
     "data": {
      "text/html": [
       "<div>\n",
       "<style scoped>\n",
       "    .dataframe tbody tr th:only-of-type {\n",
       "        vertical-align: middle;\n",
       "    }\n",
       "\n",
       "    .dataframe tbody tr th {\n",
       "        vertical-align: top;\n",
       "    }\n",
       "\n",
       "    .dataframe thead th {\n",
       "        text-align: right;\n",
       "    }\n",
       "</style>\n",
       "<table border=\"1\" class=\"dataframe\">\n",
       "  <thead>\n",
       "    <tr style=\"text-align: right;\">\n",
       "      <th></th>\n",
       "      <th>value</th>\n",
       "    </tr>\n",
       "    <tr>\n",
       "      <th>datetime</th>\n",
       "      <th></th>\n",
       "    </tr>\n",
       "  </thead>\n",
       "  <tbody>\n",
       "    <tr>\n",
       "      <th>2019-09-30 15:15:00</th>\n",
       "      <td>22.733</td>\n",
       "    </tr>\n",
       "    <tr>\n",
       "      <th>2019-09-30 15:30:00</th>\n",
       "      <td>20.452</td>\n",
       "    </tr>\n",
       "    <tr>\n",
       "      <th>2019-09-30 15:45:00</th>\n",
       "      <td>17.526</td>\n",
       "    </tr>\n",
       "    <tr>\n",
       "      <th>2019-09-30 16:00:00</th>\n",
       "      <td>14.660</td>\n",
       "    </tr>\n",
       "    <tr>\n",
       "      <th>2019-09-30 16:15:00</th>\n",
       "      <td>12.062</td>\n",
       "    </tr>\n",
       "    <tr>\n",
       "      <th>2019-09-30 16:30:00</th>\n",
       "      <td>9.724</td>\n",
       "    </tr>\n",
       "    <tr>\n",
       "      <th>2019-09-30 16:45:00</th>\n",
       "      <td>7.139</td>\n",
       "    </tr>\n",
       "    <tr>\n",
       "      <th>2019-09-30 17:00:00</th>\n",
       "      <td>4.733</td>\n",
       "    </tr>\n",
       "    <tr>\n",
       "      <th>2019-09-30 17:15:00</th>\n",
       "      <td>2.923</td>\n",
       "    </tr>\n",
       "    <tr>\n",
       "      <th>2019-09-30 17:30:00</th>\n",
       "      <td>1.392</td>\n",
       "    </tr>\n",
       "    <tr>\n",
       "      <th>2019-09-30 17:45:00</th>\n",
       "      <td>0.357</td>\n",
       "    </tr>\n",
       "    <tr>\n",
       "      <th>2019-09-30 18:00:00</th>\n",
       "      <td>-0.089</td>\n",
       "    </tr>\n",
       "    <tr>\n",
       "      <th>2019-09-30 18:15:00</th>\n",
       "      <td>-0.089</td>\n",
       "    </tr>\n",
       "    <tr>\n",
       "      <th>2019-09-30 18:30:00</th>\n",
       "      <td>-0.089</td>\n",
       "    </tr>\n",
       "    <tr>\n",
       "      <th>2019-09-30 18:45:00</th>\n",
       "      <td>-0.089</td>\n",
       "    </tr>\n",
       "    <tr>\n",
       "      <th>2019-09-30 19:00:00</th>\n",
       "      <td>-0.089</td>\n",
       "    </tr>\n",
       "    <tr>\n",
       "      <th>2019-09-30 19:15:00</th>\n",
       "      <td>-0.089</td>\n",
       "    </tr>\n",
       "    <tr>\n",
       "      <th>2019-09-30 19:30:00</th>\n",
       "      <td>-0.089</td>\n",
       "    </tr>\n",
       "    <tr>\n",
       "      <th>2019-09-30 19:45:00</th>\n",
       "      <td>-0.022</td>\n",
       "    </tr>\n",
       "    <tr>\n",
       "      <th>2019-09-30 20:00:00</th>\n",
       "      <td>-0.084</td>\n",
       "    </tr>\n",
       "    <tr>\n",
       "      <th>2019-09-30 20:15:00</th>\n",
       "      <td>0.000</td>\n",
       "    </tr>\n",
       "    <tr>\n",
       "      <th>2019-09-30 20:30:00</th>\n",
       "      <td>-0.122</td>\n",
       "    </tr>\n",
       "    <tr>\n",
       "      <th>2019-09-30 20:45:00</th>\n",
       "      <td>-0.089</td>\n",
       "    </tr>\n",
       "    <tr>\n",
       "      <th>2019-09-30 21:00:00</th>\n",
       "      <td>-0.089</td>\n",
       "    </tr>\n",
       "    <tr>\n",
       "      <th>2019-09-30 21:15:00</th>\n",
       "      <td>-0.089</td>\n",
       "    </tr>\n",
       "    <tr>\n",
       "      <th>2019-09-30 21:30:00</th>\n",
       "      <td>-0.179</td>\n",
       "    </tr>\n",
       "    <tr>\n",
       "      <th>2019-09-30 21:45:00</th>\n",
       "      <td>-0.089</td>\n",
       "    </tr>\n",
       "    <tr>\n",
       "      <th>2019-09-30 22:00:00</th>\n",
       "      <td>-0.089</td>\n",
       "    </tr>\n",
       "    <tr>\n",
       "      <th>2019-09-30 22:15:00</th>\n",
       "      <td>-0.089</td>\n",
       "    </tr>\n",
       "    <tr>\n",
       "      <th>2019-09-30 22:30:00</th>\n",
       "      <td>-0.130</td>\n",
       "    </tr>\n",
       "    <tr>\n",
       "      <th>2019-09-30 22:45:00</th>\n",
       "      <td>-0.043</td>\n",
       "    </tr>\n",
       "    <tr>\n",
       "      <th>2019-09-30 23:00:00</th>\n",
       "      <td>-0.089</td>\n",
       "    </tr>\n",
       "    <tr>\n",
       "      <th>2019-09-30 23:15:00</th>\n",
       "      <td>-0.068</td>\n",
       "    </tr>\n",
       "    <tr>\n",
       "      <th>2019-09-30 23:30:00</th>\n",
       "      <td>-0.097</td>\n",
       "    </tr>\n",
       "    <tr>\n",
       "      <th>2019-09-30 23:45:00</th>\n",
       "      <td>-0.089</td>\n",
       "    </tr>\n",
       "  </tbody>\n",
       "</table>\n",
       "</div>"
      ],
      "text/plain": [
       "                      value\n",
       "datetime                   \n",
       "2019-09-30 15:15:00  22.733\n",
       "2019-09-30 15:30:00  20.452\n",
       "2019-09-30 15:45:00  17.526\n",
       "2019-09-30 16:00:00  14.660\n",
       "2019-09-30 16:15:00  12.062\n",
       "2019-09-30 16:30:00   9.724\n",
       "2019-09-30 16:45:00   7.139\n",
       "2019-09-30 17:00:00   4.733\n",
       "2019-09-30 17:15:00   2.923\n",
       "2019-09-30 17:30:00   1.392\n",
       "2019-09-30 17:45:00   0.357\n",
       "2019-09-30 18:00:00  -0.089\n",
       "2019-09-30 18:15:00  -0.089\n",
       "2019-09-30 18:30:00  -0.089\n",
       "2019-09-30 18:45:00  -0.089\n",
       "2019-09-30 19:00:00  -0.089\n",
       "2019-09-30 19:15:00  -0.089\n",
       "2019-09-30 19:30:00  -0.089\n",
       "2019-09-30 19:45:00  -0.022\n",
       "2019-09-30 20:00:00  -0.084\n",
       "2019-09-30 20:15:00   0.000\n",
       "2019-09-30 20:30:00  -0.122\n",
       "2019-09-30 20:45:00  -0.089\n",
       "2019-09-30 21:00:00  -0.089\n",
       "2019-09-30 21:15:00  -0.089\n",
       "2019-09-30 21:30:00  -0.179\n",
       "2019-09-30 21:45:00  -0.089\n",
       "2019-09-30 22:00:00  -0.089\n",
       "2019-09-30 22:15:00  -0.089\n",
       "2019-09-30 22:30:00  -0.130\n",
       "2019-09-30 22:45:00  -0.043\n",
       "2019-09-30 23:00:00  -0.089\n",
       "2019-09-30 23:15:00  -0.068\n",
       "2019-09-30 23:30:00  -0.097\n",
       "2019-09-30 23:45:00  -0.089"
      ]
     },
     "execution_count": 18,
     "metadata": {},
     "output_type": "execute_result"
    }
   ],
   "source": [
    "evaluateX"
   ]
  },
  {
   "cell_type": "code",
   "execution_count": 19,
   "metadata": {},
   "outputs": [
    {
     "data": {
      "text/plain": [
       "(21757, 1)"
      ]
     },
     "execution_count": 19,
     "metadata": {},
     "output_type": "execute_result"
    }
   ],
   "source": [
    "datasetX.shape"
   ]
  },
  {
   "cell_type": "code",
   "execution_count": 20,
   "metadata": {},
   "outputs": [
    {
     "data": {
      "text/plain": [
       "(35, 1)"
      ]
     },
     "execution_count": 20,
     "metadata": {},
     "output_type": "execute_result"
    }
   ],
   "source": [
    "evaluateX.shape"
   ]
  },
  {
   "cell_type": "code",
   "execution_count": 21,
   "metadata": {},
   "outputs": [
    {
     "data": {
      "text/plain": [
       "15229.9"
      ]
     },
     "execution_count": 21,
     "metadata": {},
     "output_type": "execute_result"
    }
   ],
   "source": [
    "21757*0.7"
   ]
  },
  {
   "cell_type": "code",
   "execution_count": 22,
   "metadata": {},
   "outputs": [],
   "source": [
    "trainX, testX = datasetX.iloc[:15230,:], datasetX.iloc[15230:,:]"
   ]
  },
  {
   "cell_type": "code",
   "execution_count": 23,
   "metadata": {},
   "outputs": [
    {
     "data": {
      "text/plain": [
       "(15230, 1)"
      ]
     },
     "execution_count": 23,
     "metadata": {},
     "output_type": "execute_result"
    }
   ],
   "source": [
    "trainX.shape"
   ]
  },
  {
   "cell_type": "code",
   "execution_count": 24,
   "metadata": {},
   "outputs": [
    {
     "data": {
      "text/plain": [
       "(6527, 1)"
      ]
     },
     "execution_count": 24,
     "metadata": {},
     "output_type": "execute_result"
    }
   ],
   "source": [
    "testX.shape"
   ]
  },
  {
   "cell_type": "code",
   "execution_count": 25,
   "metadata": {},
   "outputs": [],
   "source": [
    "def sliding_window(data, sw_width=7, n_out=7, in_start=0):\n",
    "    '''\n",
    "    该函数实现窗口宽度为7、滑动步长为1的滑动窗口截取序列数据\n",
    "    '''\n",
    "    X, y = [], []\n",
    "    \n",
    "    for _ in range(len(data)):\n",
    "        in_end = in_start + sw_width\n",
    "        out_end = in_end + n_out\n",
    "        \n",
    "        # 保证截取样本完整，最大元素索引不超过原序列索引，则截取数据；否则丢弃该样本\n",
    "        if out_end < len(data):\n",
    "            # 训练数据以滑动步长1截取\n",
    "            train_seq = data[in_start:in_end, 0]\n",
    "            train_seq = train_seq.reshape((len(train_seq), 1))\n",
    "            X.append(train_seq)\n",
    "            y.append(data[in_end:out_end, 0])\n",
    "        in_start += 1\n",
    "        \n",
    "    return np.array(X), np.array(y)"
   ]
  },
  {
   "cell_type": "code",
   "execution_count": 55,
   "metadata": {},
   "outputs": [],
   "source": [
    "def lstm_model(train, test, sw_width, in_start=0, verbose_set=1, epochs_num=5, batch_size_set=4):\n",
    "    '''\n",
    "    该函数定义 LSTM 模型\n",
    "    单变量\n",
    "    '''\n",
    "    train_x, train_y = sliding_window(train, sw_width, in_start=0)\n",
    "    test_x, test_y = sliding_window(test, sw_width, in_start=0)\n",
    "    \n",
    "    print('train_x.shape:{}, train_y.shape:{}'.format(train_x.shape, train_y.shape))\n",
    "    print('test_x.shape:{}, test_y.shape:{}'.format(test_x.shape, test_y.shape))\n",
    "    \n",
    "    n_timesteps, n_features, n_outputs = train_x.shape[1], train_x.shape[2], train_y.shape[1]\n",
    "    \n",
    "    model = Sequential()\n",
    "    model.add(LSTM(200, activation='relu',\n",
    "                   input_shape=(n_timesteps, n_features)))\n",
    "    \n",
    "    model.add(Dense(128, activation='relu'))\n",
    "    model.add(Dense(n_outputs))\n",
    "    \n",
    "    model.compile(loss='mse', optimizer='adam', metrics=['accuracy'])\n",
    "    \n",
    "    print(model.summary())\n",
    "    \n",
    "    model.save('lstm_active_power.h5')\n",
    "    \n",
    "    model.fit(train_x, train_y,\n",
    "              validation_data = (test_x, test_y),\n",
    "              epochs=epochs_num, batch_size=batch_size_set, verbose=verbose_set)\n",
    "    \n",
    "    return model"
   ]
  },
  {
   "cell_type": "code",
   "execution_count": null,
   "metadata": {},
   "outputs": [
    {
     "name": "stdout",
     "output_type": "stream",
     "text": [
      "train_x.shape:(15216, 7, 1), train_y.shape:(15216, 7)\n",
      "test_x.shape:(6513, 7, 1), test_y.shape:(6513, 7)\n",
      "Model: \"sequential_10\"\n",
      "_________________________________________________________________\n",
      "Layer (type)                 Output Shape              Param #   \n",
      "=================================================================\n",
      "lstm_16 (LSTM)               (None, 200)               161600    \n",
      "_________________________________________________________________\n",
      "dense_14 (Dense)             (None, 128)               25728     \n",
      "_________________________________________________________________\n",
      "dense_15 (Dense)             (None, 7)                 903       \n",
      "=================================================================\n",
      "Total params: 188,231\n",
      "Trainable params: 188,231\n",
      "Non-trainable params: 0\n",
      "_________________________________________________________________\n",
      "None\n",
      "Train on 15216 samples, validate on 6513 samples\n",
      "Epoch 1/30\n",
      "15216/15216 [==============================] - 3s 213us/sample - loss: 56.4063 - accuracy: 0.3445 - val_loss: 25.5915 - val_accuracy: 0.2816\n",
      "Epoch 2/30\n",
      "15216/15216 [==============================] - 2s 118us/sample - loss: 21.9149 - accuracy: 0.4059 - val_loss: 25.5843 - val_accuracy: 0.4044\n",
      "Epoch 3/30\n",
      " 4864/15216 [========>.....................] - ETA: 1s - loss: 20.8904 - accuracy: 0.4291"
     ]
    }
   ],
   "source": [
    "sw_width = 7\n",
    "in_start = 0\n",
    "\n",
    "epochs_num = 30\n",
    "batch_size_set = 128\n",
    "verbose_set = 1\n",
    "\n",
    "\n",
    "model = lstm_model(trainX.values, testX.values, sw_width, in_start, verbose_set, epochs_num, batch_size_set)"
   ]
  },
  {
   "cell_type": "code",
   "execution_count": 25,
   "metadata": {},
   "outputs": [
    {
     "data": {
      "text/html": [
       "<div>\n",
       "<style scoped>\n",
       "    .dataframe tbody tr th:only-of-type {\n",
       "        vertical-align: middle;\n",
       "    }\n",
       "\n",
       "    .dataframe tbody tr th {\n",
       "        vertical-align: top;\n",
       "    }\n",
       "\n",
       "    .dataframe thead th {\n",
       "        text-align: right;\n",
       "    }\n",
       "</style>\n",
       "<table border=\"1\" class=\"dataframe\">\n",
       "  <thead>\n",
       "    <tr style=\"text-align: right;\">\n",
       "      <th></th>\n",
       "      <th>value</th>\n",
       "    </tr>\n",
       "    <tr>\n",
       "      <th>datetime</th>\n",
       "      <th></th>\n",
       "    </tr>\n",
       "  </thead>\n",
       "  <tbody>\n",
       "    <tr>\n",
       "      <th>2019-09-30 15:15:00</th>\n",
       "      <td>22.733</td>\n",
       "    </tr>\n",
       "    <tr>\n",
       "      <th>2019-09-30 15:30:00</th>\n",
       "      <td>20.452</td>\n",
       "    </tr>\n",
       "    <tr>\n",
       "      <th>2019-09-30 15:45:00</th>\n",
       "      <td>17.526</td>\n",
       "    </tr>\n",
       "    <tr>\n",
       "      <th>2019-09-30 16:00:00</th>\n",
       "      <td>14.660</td>\n",
       "    </tr>\n",
       "    <tr>\n",
       "      <th>2019-09-30 16:15:00</th>\n",
       "      <td>12.062</td>\n",
       "    </tr>\n",
       "    <tr>\n",
       "      <th>2019-09-30 16:30:00</th>\n",
       "      <td>9.724</td>\n",
       "    </tr>\n",
       "    <tr>\n",
       "      <th>2019-09-30 16:45:00</th>\n",
       "      <td>7.139</td>\n",
       "    </tr>\n",
       "    <tr>\n",
       "      <th>2019-09-30 17:00:00</th>\n",
       "      <td>4.733</td>\n",
       "    </tr>\n",
       "    <tr>\n",
       "      <th>2019-09-30 17:15:00</th>\n",
       "      <td>2.923</td>\n",
       "    </tr>\n",
       "    <tr>\n",
       "      <th>2019-09-30 17:30:00</th>\n",
       "      <td>1.392</td>\n",
       "    </tr>\n",
       "    <tr>\n",
       "      <th>2019-09-30 17:45:00</th>\n",
       "      <td>0.357</td>\n",
       "    </tr>\n",
       "    <tr>\n",
       "      <th>2019-09-30 18:00:00</th>\n",
       "      <td>-0.089</td>\n",
       "    </tr>\n",
       "    <tr>\n",
       "      <th>2019-09-30 18:15:00</th>\n",
       "      <td>-0.089</td>\n",
       "    </tr>\n",
       "    <tr>\n",
       "      <th>2019-09-30 18:30:00</th>\n",
       "      <td>-0.089</td>\n",
       "    </tr>\n",
       "    <tr>\n",
       "      <th>2019-09-30 18:45:00</th>\n",
       "      <td>-0.089</td>\n",
       "    </tr>\n",
       "    <tr>\n",
       "      <th>2019-09-30 19:00:00</th>\n",
       "      <td>-0.089</td>\n",
       "    </tr>\n",
       "    <tr>\n",
       "      <th>2019-09-30 19:15:00</th>\n",
       "      <td>-0.089</td>\n",
       "    </tr>\n",
       "    <tr>\n",
       "      <th>2019-09-30 19:30:00</th>\n",
       "      <td>-0.089</td>\n",
       "    </tr>\n",
       "    <tr>\n",
       "      <th>2019-09-30 19:45:00</th>\n",
       "      <td>-0.022</td>\n",
       "    </tr>\n",
       "    <tr>\n",
       "      <th>2019-09-30 20:00:00</th>\n",
       "      <td>-0.084</td>\n",
       "    </tr>\n",
       "    <tr>\n",
       "      <th>2019-09-30 20:15:00</th>\n",
       "      <td>0.000</td>\n",
       "    </tr>\n",
       "    <tr>\n",
       "      <th>2019-09-30 20:30:00</th>\n",
       "      <td>-0.122</td>\n",
       "    </tr>\n",
       "    <tr>\n",
       "      <th>2019-09-30 20:45:00</th>\n",
       "      <td>-0.089</td>\n",
       "    </tr>\n",
       "    <tr>\n",
       "      <th>2019-09-30 21:00:00</th>\n",
       "      <td>-0.089</td>\n",
       "    </tr>\n",
       "    <tr>\n",
       "      <th>2019-09-30 21:15:00</th>\n",
       "      <td>-0.089</td>\n",
       "    </tr>\n",
       "    <tr>\n",
       "      <th>2019-09-30 21:30:00</th>\n",
       "      <td>-0.179</td>\n",
       "    </tr>\n",
       "    <tr>\n",
       "      <th>2019-09-30 21:45:00</th>\n",
       "      <td>-0.089</td>\n",
       "    </tr>\n",
       "    <tr>\n",
       "      <th>2019-09-30 22:00:00</th>\n",
       "      <td>-0.089</td>\n",
       "    </tr>\n",
       "    <tr>\n",
       "      <th>2019-09-30 22:15:00</th>\n",
       "      <td>-0.089</td>\n",
       "    </tr>\n",
       "    <tr>\n",
       "      <th>2019-09-30 22:30:00</th>\n",
       "      <td>-0.130</td>\n",
       "    </tr>\n",
       "    <tr>\n",
       "      <th>2019-09-30 22:45:00</th>\n",
       "      <td>-0.043</td>\n",
       "    </tr>\n",
       "    <tr>\n",
       "      <th>2019-09-30 23:00:00</th>\n",
       "      <td>-0.089</td>\n",
       "    </tr>\n",
       "    <tr>\n",
       "      <th>2019-09-30 23:15:00</th>\n",
       "      <td>-0.068</td>\n",
       "    </tr>\n",
       "    <tr>\n",
       "      <th>2019-09-30 23:30:00</th>\n",
       "      <td>-0.097</td>\n",
       "    </tr>\n",
       "    <tr>\n",
       "      <th>2019-09-30 23:45:00</th>\n",
       "      <td>-0.089</td>\n",
       "    </tr>\n",
       "  </tbody>\n",
       "</table>\n",
       "</div>"
      ],
      "text/plain": [
       "                      value\n",
       "datetime                   \n",
       "2019-09-30 15:15:00  22.733\n",
       "2019-09-30 15:30:00  20.452\n",
       "2019-09-30 15:45:00  17.526\n",
       "2019-09-30 16:00:00  14.660\n",
       "2019-09-30 16:15:00  12.062\n",
       "2019-09-30 16:30:00   9.724\n",
       "2019-09-30 16:45:00   7.139\n",
       "2019-09-30 17:00:00   4.733\n",
       "2019-09-30 17:15:00   2.923\n",
       "2019-09-30 17:30:00   1.392\n",
       "2019-09-30 17:45:00   0.357\n",
       "2019-09-30 18:00:00  -0.089\n",
       "2019-09-30 18:15:00  -0.089\n",
       "2019-09-30 18:30:00  -0.089\n",
       "2019-09-30 18:45:00  -0.089\n",
       "2019-09-30 19:00:00  -0.089\n",
       "2019-09-30 19:15:00  -0.089\n",
       "2019-09-30 19:30:00  -0.089\n",
       "2019-09-30 19:45:00  -0.022\n",
       "2019-09-30 20:00:00  -0.084\n",
       "2019-09-30 20:15:00   0.000\n",
       "2019-09-30 20:30:00  -0.122\n",
       "2019-09-30 20:45:00  -0.089\n",
       "2019-09-30 21:00:00  -0.089\n",
       "2019-09-30 21:15:00  -0.089\n",
       "2019-09-30 21:30:00  -0.179\n",
       "2019-09-30 21:45:00  -0.089\n",
       "2019-09-30 22:00:00  -0.089\n",
       "2019-09-30 22:15:00  -0.089\n",
       "2019-09-30 22:30:00  -0.130\n",
       "2019-09-30 22:45:00  -0.043\n",
       "2019-09-30 23:00:00  -0.089\n",
       "2019-09-30 23:15:00  -0.068\n",
       "2019-09-30 23:30:00  -0.097\n",
       "2019-09-30 23:45:00  -0.089"
      ]
     },
     "execution_count": 25,
     "metadata": {},
     "output_type": "execute_result"
    }
   ],
   "source": [
    "evaluateX"
   ]
  },
  {
   "cell_type": "code",
   "execution_count": 26,
   "metadata": {},
   "outputs": [
    {
     "data": {
      "text/plain": [
       "array([[-0.122],\n",
       "       [-0.089],\n",
       "       [-0.089],\n",
       "       [-0.089],\n",
       "       [-0.179],\n",
       "       [-0.089],\n",
       "       [-0.089]])"
      ]
     },
     "execution_count": 26,
     "metadata": {},
     "output_type": "execute_result"
    }
   ],
   "source": [
    "evaluateX.values[-14:-7]"
   ]
  },
  {
   "cell_type": "code",
   "execution_count": 27,
   "metadata": {},
   "outputs": [],
   "source": [
    "test1 = evaluateX.values[0:7]\n",
    "test1 = test1.reshape((1, len(test1), 1))"
   ]
  },
  {
   "cell_type": "code",
   "execution_count": 31,
   "metadata": {},
   "outputs": [],
   "source": [
    "model = load_model('lstm_active_power.h5')"
   ]
  },
  {
   "cell_type": "code",
   "execution_count": 32,
   "metadata": {},
   "outputs": [
    {
     "data": {
      "text/plain": [
       "array([[-0.16130035, -0.35880083, -0.00095478, -0.3806095 , -0.4357444 ,\n",
       "        -0.7066136 ,  0.21375138]], dtype=float32)"
      ]
     },
     "execution_count": 32,
     "metadata": {},
     "output_type": "execute_result"
    }
   ],
   "source": [
    "model.predict(test1)"
   ]
  },
  {
   "cell_type": "code",
   "execution_count": 34,
   "metadata": {},
   "outputs": [
    {
     "data": {
      "text/plain": [
       "array([[ 4.733],\n",
       "       [ 2.923],\n",
       "       [ 1.392],\n",
       "       [ 0.357],\n",
       "       [-0.089],\n",
       "       [-0.089],\n",
       "       [-0.089]])"
      ]
     },
     "execution_count": 34,
     "metadata": {},
     "output_type": "execute_result"
    }
   ],
   "source": [
    "evaluateX.values[7:14]"
   ]
  },
  {
   "cell_type": "code",
   "execution_count": 35,
   "metadata": {},
   "outputs": [
    {
     "name": "stdout",
     "output_type": "stream",
     "text": [
      "[[-0.16130035 -0.35880083 -0.00095478 -0.3806095  -0.4357444  -0.7066136\n",
      "   0.21375138]]\n",
      "[[ 0.00971176 -0.01107877  0.00381662 -0.015691   -0.00548593 -0.00677311\n",
      "   0.00513768]]\n",
      "[[ 0.00207362 -0.00069692  0.00026874 -0.00121145  0.00316218 -0.00084939\n",
      "  -0.0003988 ]]\n",
      "[[ 0.00471631 -0.00096969  0.0006064  -0.00240468  0.00628805 -0.00102353\n",
      "  -0.00083284]]\n"
     ]
    }
   ],
   "source": [
    "for i in range(4):\n",
    "    test = evaluateX.values[i*7:(i+1)*7]\n",
    "    test = test.reshape((1, len(test), 1))\n",
    "    print(model.predict(test))"
   ]
  },
  {
   "cell_type": "code",
   "execution_count": 37,
   "metadata": {},
   "outputs": [
    {
     "data": {
      "text/plain": [
       "array([[ 4.733],\n",
       "       [ 2.923],\n",
       "       [ 1.392],\n",
       "       [ 0.357],\n",
       "       [-0.089],\n",
       "       [-0.089],\n",
       "       [-0.089],\n",
       "       [-0.089],\n",
       "       [-0.089],\n",
       "       [-0.089],\n",
       "       [-0.089],\n",
       "       [-0.022],\n",
       "       [-0.084],\n",
       "       [ 0.   ],\n",
       "       [-0.122],\n",
       "       [-0.089],\n",
       "       [-0.089],\n",
       "       [-0.089],\n",
       "       [-0.179],\n",
       "       [-0.089],\n",
       "       [-0.089],\n",
       "       [-0.089],\n",
       "       [-0.13 ],\n",
       "       [-0.043],\n",
       "       [-0.089],\n",
       "       [-0.068],\n",
       "       [-0.097],\n",
       "       [-0.089]])"
      ]
     },
     "execution_count": 37,
     "metadata": {},
     "output_type": "execute_result"
    }
   ],
   "source": [
    "evaluateX[7:].values"
   ]
  },
  {
   "cell_type": "code",
   "execution_count": null,
   "metadata": {},
   "outputs": [],
   "source": []
  }
 ],
 "metadata": {
  "kernelspec": {
   "display_name": "Python 3",
   "language": "python",
   "name": "python3"
  },
  "language_info": {
   "codemirror_mode": {
    "name": "ipython",
    "version": 3
   },
   "file_extension": ".py",
   "mimetype": "text/x-python",
   "name": "python",
   "nbconvert_exporter": "python",
   "pygments_lexer": "ipython3",
   "version": "3.8.6"
  }
 },
 "nbformat": 4,
 "nbformat_minor": 4
}

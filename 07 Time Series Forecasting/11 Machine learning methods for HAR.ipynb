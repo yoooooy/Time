{
 "cells": [
  {
   "cell_type": "code",
   "execution_count": 1,
   "metadata": {},
   "outputs": [],
   "source": [
    "import pandas as pd\n",
    "import numpy as np\n",
    "import matplotlib.pyplot as plt\n",
    "import os\n",
    "from sklearn.metrics import accuracy_score\n",
    "from sklearn.neighbors import KNeighborsClassifier\n",
    "from sklearn.tree import DecisionTreeClassifier\n",
    "from sklearn.svm import SVC\n",
    "from sklearn.naive_bayes import GaussianNB\n",
    "from sklearn.ensemble import BaggingClassifier\n",
    "from sklearn.ensemble import RandomForestClassifier\n",
    "from sklearn.ensemble import ExtraTreesClassifier\n",
    "from sklearn.ensemble import GradientBoostingClassifier"
   ]
  },
  {
   "cell_type": "code",
   "execution_count": 2,
   "metadata": {},
   "outputs": [],
   "source": [
    "def load_file(filepath):\n",
    "    '''\n",
    "    该函数实现加载单个文件\n",
    "    '''\n",
    "    dataframe = pd.read_csv(filepath, header=None, delim_whitespace=True)\n",
    "    return dataframe.values"
   ]
  },
  {
   "cell_type": "code",
   "execution_count": 3,
   "metadata": {},
   "outputs": [],
   "source": [
    "def load_dataset_group_raw(group, prefix=''):\n",
    "    '''\n",
    "    该函数实现加载未经处理的数据\n",
    "    '''\n",
    "    X = load_file(prefix + group + '/X_'+group+'.txt')\n",
    "    y = load_file(prefix + group + '/y_'+group+'.txt')\n",
    "    print('{}_X.shape:{},{}_y.shape:{}\\n'.format(group,X.shape,group,y.shape))\n",
    "    return X, y"
   ]
  },
  {
   "cell_type": "code",
   "execution_count": 4,
   "metadata": {},
   "outputs": [],
   "source": [
    "def load_dataset_raw(prefix='D:/GraduationCode/01 Datasets/UCI HAR Dataset/'):\n",
    "    trainX, trainy = load_dataset_group_raw('train', prefix)\n",
    "    testX, testy = load_dataset_group_raw('test', prefix)\n",
    "    trainy, testy = trainy[:,0], testy[:,0] # 展平标签\n",
    "    return trainX, trainy, testX, testy"
   ]
  },
  {
   "cell_type": "code",
   "execution_count": 5,
   "metadata": {},
   "outputs": [],
   "source": [
    "def define_models(models=dict()):\n",
    "    '''\n",
    "    创建标准模型的字典以评估 {name：object}\n",
    "    '''\n",
    "    # 非线性模型\n",
    "    models['knn'] = KNeighborsClassifier(n_neighbors=7)\n",
    "    models['cart'] = DecisionTreeClassifier()\n",
    "    models['svm'] = SVC()\n",
    "    models['bayes'] = GaussianNB()\n",
    "    # 集成学习模型\n",
    "    models['bag'] = BaggingClassifier(n_estimators=100)\n",
    "    models['rf'] = RandomForestClassifier(n_estimators=100)\n",
    "    models['et'] = ExtraTreesClassifier(n_estimators=100)\n",
    "    models['gbm'] = GradientBoostingClassifier(n_estimators=100)\n",
    "    print('Defined %d models' % len(models))\n",
    "    \n",
    "    return models"
   ]
  },
  {
   "cell_type": "code",
   "execution_count": 6,
   "metadata": {},
   "outputs": [],
   "source": [
    "def evaluate_model(trainX, trainy, testX, testy, model):\n",
    "    '''\n",
    "    评估单个模型\n",
    "    '''\n",
    "    model.fit(trainX, trainy)\n",
    "    yhat = model.predict(testX)\n",
    "    accuracy = accuracy_score(testy, yhat) # 评估预测\n",
    "    return accuracy * 100.0\n",
    "\n",
    "def evaluate_models(trainX, trainy, testX, testy, models):\n",
    "    '''\n",
    "    计算模型{name：object}的字典，返回{name：score}\n",
    "    '''\n",
    "    results = dict()\n",
    "    for name, model in models.items():\n",
    "        results[name] = evaluate_model(trainX, trainy, testX, testy, model)\n",
    "        print('>%s: %.3f' % (name, results[name]))\n",
    "    return results"
   ]
  },
  {
   "cell_type": "code",
   "execution_count": 7,
   "metadata": {},
   "outputs": [],
   "source": [
    "def summarize_results(results, maximize=True):\n",
    "    '''\n",
    "    创建一个（name,mean(scores)) 元组的列表\n",
    "    '''\n",
    "    mean_scores = [(k,v) for k,v in results.items()]\n",
    "    # 按平均分数对元组进行排序\n",
    "    mean_scores = sorted(mean_scores, key=lambda x: x[1])\n",
    "    # 反向按降序排列（例如精度）\n",
    "    if maximize:\n",
    "        mean_scores = list(reversed(mean_scores))\n",
    "    print()\n",
    "    for name, score in mean_scores:\n",
    "        print('Name=%s, Score=%.3f' % (name, score))"
   ]
  },
  {
   "cell_type": "code",
   "execution_count": 8,
   "metadata": {},
   "outputs": [
    {
     "name": "stdout",
     "output_type": "stream",
     "text": [
      "train_X.shape:(7352, 561),train_y.shape:(7352, 1)\n",
      "\n",
      "test_X.shape:(2947, 561),test_y.shape:(2947, 1)\n",
      "\n",
      "Defined 8 models\n",
      ">knn: 90.329\n",
      ">cart: 85.952\n",
      ">svm: 95.046\n",
      ">bayes: 77.027\n",
      ">bag: 90.295\n",
      ">rf: 92.704\n",
      ">et: 94.164\n",
      ">gbm: 93.756\n",
      "\n",
      "Name=svm, Score=95.046\n",
      "Name=et, Score=94.164\n",
      "Name=gbm, Score=93.756\n",
      "Name=rf, Score=92.704\n",
      "Name=knn, Score=90.329\n",
      "Name=bag, Score=90.295\n",
      "Name=cart, Score=85.952\n",
      "Name=bayes, Score=77.027\n"
     ]
    }
   ],
   "source": [
    "trainX, trainy, testX, testy = load_dataset_raw()\n",
    "models = define_models() # 模型列表\n",
    "results = evaluate_models(trainX, trainy, testX, testy, models)\n",
    "summarize_results(results)"
   ]
  },
  {
   "cell_type": "markdown",
   "metadata": {},
   "source": [
    "# Modeling Raw Data"
   ]
  },
  {
   "cell_type": "code",
   "execution_count": null,
   "metadata": {},
   "outputs": [],
   "source": [
    "def load_file(filepath):\n",
    "    dataframe = pd.read_csv(filepath, header=None, delim_whitespace=True)\n",
    "    return dataframe.values\n",
    "\n",
    "def load_dataset(data_rootdir, dirname, group):\n",
    "    '''\n",
    "    该函数实现将训练数据或测试数据文件列表堆叠为三维数组\n",
    "    '''\n",
    "    filename_list = []\n",
    "    filepath_list = []\n",
    "    X = []\n",
    "    \n",
    "    # os.walk() 方法是一个简单易用的文件、目录遍历器，可以高效的处理文件、目录。\n",
    "    for rootdir, dirnames, filenames in os.walk(data_rootdir + dirname):\n",
    "        for filename in filenames:\n",
    "            filename_list.append(filename)\n",
    "            filepath_list.append(os.path.join(rootdir, filename))\n",
    "        #print(filename_list)\n",
    "        #print(filepath_list)\n",
    "    \n",
    "    # 遍历根目录下的文件，并读取为DataFrame格式；\n",
    "    for filepath in filepath_list:\n",
    "        X.append(load_file(filepath))\n",
    "    \n",
    "    X = np.dstack(X) # dstack沿第三个维度叠加，两个二维数组叠加后，前两个维度尺寸不变，第三个维度增加；\n",
    "    y = load_file(data_rootdir+'/y_'+group+'.txt')\n",
    "    print('{}_X.shape:{},{}_y.shape:{}\\n'.format(group,X.shape,group,y.shape))\n",
    "    return X, y\n"
   ]
  },
  {
   "cell_type": "code",
   "execution_count": null,
   "metadata": {},
   "outputs": [],
   "source": [
    "def load_dataset(prefix=''):\n",
    "    trainX = trainX.reshape((trainX.shape[0], trainX.shape[1] * trainX.shape[2]))\n",
    "    testX = testX.reshape((testX.shape[0], testX.shape[1] * testX.shape[2]))\n",
    "    trainy, testy = trainy[:,0], testy[:,0]\n",
    "    print(trainX.shape, trainy.shape, testX.shape, testy.shape)\n",
    "    return trainX, trainy, testX, testy"
   ]
  },
  {
   "cell_type": "code",
   "execution_count": null,
   "metadata": {},
   "outputs": [],
   "source": [
    "results = evaluate_models(trainX, trainy, testX, testy, models)\n",
    "summarize_results(results)"
   ]
  },
  {
   "cell_type": "code",
   "execution_count": null,
   "metadata": {},
   "outputs": [],
   "source": []
  }
 ],
 "metadata": {
  "kernelspec": {
   "display_name": "Python 3",
   "language": "python",
   "name": "python3"
  },
  "language_info": {
   "codemirror_mode": {
    "name": "ipython",
    "version": 3
   },
   "file_extension": ".py",
   "mimetype": "text/x-python",
   "name": "python",
   "nbconvert_exporter": "python",
   "pygments_lexer": "ipython3",
   "version": "3.8.6"
  }
 },
 "nbformat": 4,
 "nbformat_minor": 4
}

{
 "cells": [
  {
   "cell_type": "code",
   "execution_count": 2,
   "metadata": {},
   "outputs": [
    {
     "name": "stdout",
     "output_type": "stream",
     "text": [
      "(6, 3) (6,)\n",
      "(array([10, 20, 30]), 40)\n",
      "(array([20, 30, 40]), 50)\n",
      "(array([30, 40, 50]), 60)\n",
      "(array([40, 50, 60]), 70)\n",
      "(array([50, 60, 70]), 80)\n",
      "(array([60, 70, 80]), 90)\n",
      "[10 20 30] 40\n",
      "[20 30 40] 50\n",
      "[30 40 50] 60\n",
      "[40 50 60] 70\n",
      "[50 60 70] 80\n",
      "[60 70 80] 90\n"
     ]
    }
   ],
   "source": [
    "import numpy as np\n",
    "\n",
    "def split_sequence(sequence, sliding_window_width):\n",
    "    X, y = [], []\n",
    "    for i in range(len(sequence)):\n",
    "        # 找到最后一次滑动所截取数据中最后一个元素的索引，\n",
    "        # 如果这个索引超过原序列中元素的索引则不截取；\n",
    "        end_element_index = i + sliding_window_width\n",
    "        if end_element_index > len(sequence) - 1: # 序列中最后一个元素的索引\n",
    "            break\n",
    "        sequence_x, sequence_y = sequence[i:end_element_index], sequence[end_element_index] # 取最后一个元素作为预测值y\n",
    "        X.append(sequence_x)\n",
    "        y.append(sequence_y)\n",
    "    \n",
    "    #return X,y\n",
    "    return np.array(X), np.array(y)\n",
    "\n",
    "if __name__ == '__main__':\n",
    "    seq_test = [10,20,30,40,50,60,70,80,90]\n",
    "    sw_width = 3\n",
    "    seq_test_x, seq_test_y = split_sequence(seq_test, sw_width)\n",
    "    print(seq_test_x.shape,seq_test_y.shape)\n",
    "    for i in zip(seq_test_x,seq_test_y):\n",
    "        print(i)\n",
    "    for i in range(len(seq_test_x)):\n",
    "        print(seq_test_x[i], seq_test_y[i])"
   ]
  },
  {
   "cell_type": "code",
   "execution_count": 4,
   "metadata": {},
   "outputs": [],
   "source": [
    "from tensorflow.keras.models import Sequential\n",
    "from tensorflow.keras.layers import LSTM, Dense\n",
    "model = Sequential()\n",
    "model.add(Dense(100, activation='relu', input_dim=sw_width))\n",
    "model.add(Dense(1))\n",
    "model.compile(optimizer='adam', loss='mse')"
   ]
  },
  {
   "cell_type": "code",
   "execution_count": 5,
   "metadata": {},
   "outputs": [
    {
     "data": {
      "text/plain": [
       "<tensorflow.python.keras.callbacks.History at 0x2390c65ebc8>"
      ]
     },
     "execution_count": 5,
     "metadata": {},
     "output_type": "execute_result"
    }
   ],
   "source": [
    "model.fit(seq_test_x, seq_test_y, epochs=2000, verbose=0)"
   ]
  },
  {
   "cell_type": "code",
   "execution_count": 7,
   "metadata": {},
   "outputs": [
    {
     "name": "stdout",
     "output_type": "stream",
     "text": [
      "[[101.17381]]\n"
     ]
    }
   ],
   "source": [
    "x_input = np.array([70, 80, 90])\n",
    "x_input = x_input.reshape((1, sw_width))\n",
    "yhat = model.predict(x_input, verbose=0)\n",
    "print(yhat)"
   ]
  },
  {
   "cell_type": "code",
   "execution_count": 8,
   "metadata": {},
   "outputs": [],
   "source": [
    "in_seq1 = np.array([10, 20, 30, 40, 50, 60, 70, 80, 90])\n",
    "in_seq2 = np.array([15, 25, 35, 45, 55, 65, 75, 85, 95])\n",
    "out_seq = np.array([in_seq1[i]+in_seq2[i] for i in range(len(in_seq1))])"
   ]
  },
  {
   "cell_type": "code",
   "execution_count": 9,
   "metadata": {},
   "outputs": [
    {
     "data": {
      "text/plain": [
       "array([ 25,  45,  65,  85, 105, 125, 145, 165, 185])"
      ]
     },
     "execution_count": 9,
     "metadata": {},
     "output_type": "execute_result"
    }
   ],
   "source": [
    "out_seq"
   ]
  },
  {
   "cell_type": "code",
   "execution_count": 10,
   "metadata": {},
   "outputs": [
    {
     "data": {
      "text/plain": [
       "9"
      ]
     },
     "execution_count": 10,
     "metadata": {},
     "output_type": "execute_result"
    }
   ],
   "source": [
    "len(out_seq)"
   ]
  },
  {
   "cell_type": "code",
   "execution_count": 11,
   "metadata": {},
   "outputs": [],
   "source": [
    "# 每一个数组先转换成9×1的二维数组\n",
    "in_seq1 = in_seq1.reshape((len(in_seq1), 1))\n",
    "in_seq2 = in_seq2.reshape((len(in_seq2), 1))\n",
    "out_seq = out_seq.reshape((len(out_seq), 1))\n",
    "# 使用numpy的hstack方法，沿水平方向堆叠数组，对于二维数组就是沿第二个维度（列）堆叠\n",
    "dataset = np.hstack((in_seq1, in_seq2, out_seq))"
   ]
  },
  {
   "cell_type": "code",
   "execution_count": 12,
   "metadata": {},
   "outputs": [
    {
     "data": {
      "text/plain": [
       "array([[ 10,  15,  25],\n",
       "       [ 20,  25,  45],\n",
       "       [ 30,  35,  65],\n",
       "       [ 40,  45,  85],\n",
       "       [ 50,  55, 105],\n",
       "       [ 60,  65, 125],\n",
       "       [ 70,  75, 145],\n",
       "       [ 80,  85, 165],\n",
       "       [ 90,  95, 185]])"
      ]
     },
     "execution_count": 12,
     "metadata": {},
     "output_type": "execute_result"
    }
   ],
   "source": [
    "dataset"
   ]
  },
  {
   "cell_type": "code",
   "execution_count": 18,
   "metadata": {},
   "outputs": [
    {
     "name": "stdout",
     "output_type": "stream",
     "text": [
      "(7, 3, 2) (7,)\n",
      "[[10 15]\n",
      " [20 25]\n",
      " [30 35]] 65\n",
      "[[20 25]\n",
      " [30 35]\n",
      " [40 45]] 85\n",
      "[[30 35]\n",
      " [40 45]\n",
      " [50 55]] 105\n",
      "[[40 45]\n",
      " [50 55]\n",
      " [60 65]] 125\n",
      "[[50 55]\n",
      " [60 65]\n",
      " [70 75]] 145\n",
      "[[60 65]\n",
      " [70 75]\n",
      " [80 85]] 165\n",
      "[[70 75]\n",
      " [80 85]\n",
      " [90 95]] 185\n"
     ]
    }
   ],
   "source": [
    "def split_sequences(sequences, sliding_window_width):\n",
    "    X, y = [], []\n",
    "    for i in range(len(sequences)):\n",
    "        # 找到最后一次滑动所截取数据中最后一个元素的索引，\n",
    "        # 如果这个索引超过原序列中元素的索引则不截取；\n",
    "        end_element_index = i + sliding_window_width\n",
    "        if end_element_index > len(sequences) : # 序列中最后一个元素的索引\n",
    "            break\n",
    "        \n",
    "        # 使用二维数组切片来截取输入数据X和标签y；:-1 表示截取第1,2列数据（共3列）；-1表示截取最后一列数据；\n",
    "        sequence_x, sequence_y = sequences[i:end_element_index ,:-1], sequences[end_element_index-1, -1] # 取最后一个元素作为预测值y\n",
    "        X.append(sequence_x)\n",
    "        y.append(sequence_y)\n",
    "    \n",
    "    #return X,y\n",
    "    return np.array(X), np.array(y)\n",
    "\n",
    "if __name__ == '__main__':\n",
    "    sw_width = 3\n",
    "    X, y = split_sequences(dataset, sw_width)\n",
    "    print(X.shape, y.shape)\n",
    "    for i in range(len(X)):\n",
    "        print(X[i], y[i])"
   ]
  },
  {
   "cell_type": "code",
   "execution_count": 19,
   "metadata": {},
   "outputs": [],
   "source": [
    "n_input = X.shape[1] * X.shape[2]\n",
    "X = X.reshape((X.shape[0], n_input))"
   ]
  },
  {
   "cell_type": "code",
   "execution_count": 20,
   "metadata": {},
   "outputs": [
    {
     "data": {
      "text/plain": [
       "6"
      ]
     },
     "execution_count": 20,
     "metadata": {},
     "output_type": "execute_result"
    }
   ],
   "source": [
    "n_input"
   ]
  },
  {
   "cell_type": "code",
   "execution_count": 21,
   "metadata": {},
   "outputs": [
    {
     "data": {
      "text/plain": [
       "array([[10, 15, 20, 25, 30, 35],\n",
       "       [20, 25, 30, 35, 40, 45],\n",
       "       [30, 35, 40, 45, 50, 55],\n",
       "       [40, 45, 50, 55, 60, 65],\n",
       "       [50, 55, 60, 65, 70, 75],\n",
       "       [60, 65, 70, 75, 80, 85],\n",
       "       [70, 75, 80, 85, 90, 95]])"
      ]
     },
     "execution_count": 21,
     "metadata": {},
     "output_type": "execute_result"
    }
   ],
   "source": [
    "X"
   ]
  },
  {
   "cell_type": "code",
   "execution_count": 28,
   "metadata": {},
   "outputs": [
    {
     "data": {
      "text/plain": [
       "<tensorflow.python.keras.callbacks.History at 0x2390ccfec08>"
      ]
     },
     "execution_count": 28,
     "metadata": {},
     "output_type": "execute_result"
    }
   ],
   "source": [
    "model = Sequential()\n",
    "model.add(Dense(100, activation='relu', input_dim=n_input))\n",
    "model.add(Dense(1))\n",
    "model.compile(optimizer='adam', loss='mse')\n",
    "\n",
    "model.fit(X, y, epochs=2000, verbose=0)"
   ]
  },
  {
   "cell_type": "code",
   "execution_count": 34,
   "metadata": {},
   "outputs": [],
   "source": [
    "x_input = np.array([[80, 85], [90, 95], [100, 105]])\n",
    "x_input = x_input.reshape((1, n_input))\n",
    "yhat = model.predict(x_input, verbose=0)"
   ]
  },
  {
   "cell_type": "code",
   "execution_count": 35,
   "metadata": {},
   "outputs": [
    {
     "data": {
      "text/plain": [
       "array([[ 80,  85,  90,  95, 100, 105]])"
      ]
     },
     "execution_count": 35,
     "metadata": {},
     "output_type": "execute_result"
    }
   ],
   "source": [
    "x_input"
   ]
  },
  {
   "cell_type": "code",
   "execution_count": 36,
   "metadata": {},
   "outputs": [
    {
     "name": "stdout",
     "output_type": "stream",
     "text": [
      "[[206.24257]]\n"
     ]
    }
   ],
   "source": [
    "print(yhat)"
   ]
  },
  {
   "cell_type": "code",
   "execution_count": 7,
   "metadata": {},
   "outputs": [
    {
     "name": "stdout",
     "output_type": "stream",
     "text": [
      "(7, 3, 2) (7,)\n",
      "output: Tensor(\"dense_14/Identity:0\", shape=(None, 1), dtype=float32)\n",
      "[[206.31477]]\n"
     ]
    }
   ],
   "source": [
    "from tensorflow.keras.models import Model\n",
    "from tensorflow.keras.layers import Input,Dense,concatenate\n",
    "from tensorflow.keras.utils import plot_model\n",
    "import numpy as np\n",
    "\n",
    "def split_sequences(sequences, sliding_window_width):\n",
    "    X, y = [], []\n",
    "    for i in range(len(sequences)):\n",
    "        # 找到最后一次滑动所截取数据中最后一个元素的索引，\n",
    "        # 如果这个索引超过原序列中元素的索引则不截取；\n",
    "        end_element_index = i + sliding_window_width\n",
    "        if end_element_index > len(sequences) : # 序列中最后一个元素的索引\n",
    "            break\n",
    "        \n",
    "        # 使用二维数组切片来截取输入数据X和标签y；:-1 表示截取第1,2列数据（共3列）；-1表示截取最后一列数据；\n",
    "        sequence_x, sequence_y = sequences[i:end_element_index ,:-1], sequences[end_element_index-1, -1] # 取最后一个元素作为预测值y\n",
    "        X.append(sequence_x)\n",
    "        y.append(sequence_y)\n",
    "    \n",
    "    #return X,y\n",
    "    return np.array(X), np.array(y)\n",
    "\n",
    "def multiple_input_series(X_1, X_2, y, sliding_window_width, epochs_num):\n",
    "    visible1 = Input(shape=(sliding_window_width,))\n",
    "    dense1 = Dense(100, activation='relu')(visible1)\n",
    "    \n",
    "    visible2 = Input(shape=(sliding_window_width,))\n",
    "    dense2 = Dense(100, activation='relu')(visible2)\n",
    "    \n",
    "    # 构建多输入多输出模型\n",
    "    merge = concatenate([dense1, dense2])\n",
    "    output = Dense(1)(merge)\n",
    "    print('output:',output)\n",
    "\n",
    "    model = Model(inputs=[visible1, visible2], outputs=output)\n",
    "    model.compile(optimizer='adam', loss='mse')\n",
    "    \n",
    "    plot_model(model, to_file='mis_model.png', show_shapes=True, show_layer_names=True, rankdir='TB', dpi=200)\n",
    "\n",
    "    model.fit([X_1, X_2], y, epochs=epochs_num, verbose=0)\n",
    "    \n",
    "    return model\n",
    "\n",
    "if __name__ == '__main__':\n",
    "    sw_width = 3\n",
    "    epochs_num = 2000\n",
    "    \n",
    "    # 训练数据\n",
    "    in_seq1 = np.array([10, 20, 30, 40, 50, 60, 70, 80, 90])\n",
    "    in_seq2 = np.array([15, 25, 35, 45, 55, 65, 75, 85, 95])\n",
    "    out_seq = np.array([in_seq1[i]+in_seq2[i] for i in range(len(in_seq1))])\n",
    "\n",
    "    in_seq1 = in_seq1.reshape((len(in_seq1), 1))\n",
    "    in_seq2 = in_seq2.reshape((len(in_seq2), 1))\n",
    "    out_seq = out_seq.reshape((len(out_seq), 1))\n",
    "\n",
    "    dataset = np.hstack((in_seq1, in_seq2, out_seq))\n",
    "    \n",
    "    # 训练数据和标签划分\n",
    "    X, y = split_sequences(dataset, sw_width)\n",
    "    \n",
    "    print(X.shape, y.shape)\n",
    "#     for i in range(len(X)):\n",
    "#         print(X[i], y[i])\n",
    "    \n",
    "    X1 = X[:, :, 0]\n",
    "    X2 = X[:, :, 1]\n",
    "    \n",
    "    # 训练模型\n",
    "    model = multiple_input_series(X1, X2, y, sw_width, epochs_num)\n",
    "    \n",
    "    # 构造测试数据\n",
    "    x_test = np.array([[80, 85], [90, 95], [100, 105]])\n",
    "    # 将测试数据重塑为二维数组\n",
    "    x1 = x_test[:, 0].reshape((1, sw_width))\n",
    "    x2 = x_test[:, 1].reshape((1, sw_width))\n",
    "    # 模型预测\n",
    "    yhat = model.predict([x1, x2], verbose=0)\n",
    "    print(yhat)\n"
   ]
  },
  {
   "cell_type": "code",
   "execution_count": 8,
   "metadata": {},
   "outputs": [
    {
     "data": {
      "text/plain": [
       "(3, 2)"
      ]
     },
     "execution_count": 8,
     "metadata": {},
     "output_type": "execute_result"
    }
   ],
   "source": [
    "x_test.shape"
   ]
  },
  {
   "cell_type": "code",
   "execution_count": 10,
   "metadata": {},
   "outputs": [
    {
     "data": {
      "text/plain": [
       "(1, 3)"
      ]
     },
     "execution_count": 10,
     "metadata": {},
     "output_type": "execute_result"
    }
   ],
   "source": [
    "x1.shape"
   ]
  },
  {
   "cell_type": "code",
   "execution_count": 12,
   "metadata": {},
   "outputs": [
    {
     "data": {
      "text/plain": [
       "(7, 3)"
      ]
     },
     "execution_count": 12,
     "metadata": {},
     "output_type": "execute_result"
    }
   ],
   "source": [
    "X1.shape"
   ]
  },
  {
   "cell_type": "code",
   "execution_count": 13,
   "metadata": {},
   "outputs": [
    {
     "data": {
      "text/plain": [
       "(9, 1)"
      ]
     },
     "execution_count": 13,
     "metadata": {},
     "output_type": "execute_result"
    }
   ],
   "source": [
    "in_seq1.shape"
   ]
  },
  {
   "cell_type": "code",
   "execution_count": 15,
   "metadata": {},
   "outputs": [
    {
     "data": {
      "text/plain": [
       "(9, 1)"
      ]
     },
     "execution_count": 15,
     "metadata": {},
     "output_type": "execute_result"
    }
   ],
   "source": [
    "out_seq.shape"
   ]
  },
  {
   "cell_type": "code",
   "execution_count": 14,
   "metadata": {},
   "outputs": [
    {
     "data": {
      "text/plain": [
       "(9, 3)"
      ]
     },
     "execution_count": 14,
     "metadata": {},
     "output_type": "execute_result"
    }
   ],
   "source": [
    "dataset.shape"
   ]
  },
  {
   "cell_type": "code",
   "execution_count": 16,
   "metadata": {},
   "outputs": [
    {
     "data": {
      "text/plain": [
       "(7, 3, 2)"
      ]
     },
     "execution_count": 16,
     "metadata": {},
     "output_type": "execute_result"
    }
   ],
   "source": [
    "X.shape"
   ]
  },
  {
   "cell_type": "markdown",
   "metadata": {},
   "source": [
    "###################################################################"
   ]
  },
  {
   "cell_type": "code",
   "execution_count": 20,
   "metadata": {},
   "outputs": [
    {
     "name": "stdout",
     "output_type": "stream",
     "text": [
      "(6, 3, 3) (6, 3)\n",
      "[[101.39276  105.340294 207.98416 ]]\n"
     ]
    }
   ],
   "source": [
    "from tensorflow.keras.models import Sequential\n",
    "from tensorflow.keras.layers import Dense\n",
    "import numpy as np\n",
    "\n",
    "def split_sequences(sequence, sliding_window_width):\n",
    "    X, y = [], []\n",
    "    for i in range(len(sequence)):\n",
    "        # 找到最后一次滑动所截取数据中最后一个元素的索引，\n",
    "        # 如果这个索引超过原序列中元素的索引则不截取；\n",
    "        end_element_index = i + sliding_window_width\n",
    "        if end_element_index > len(sequence) - 1: # 序列中最后一个元素的索引\n",
    "            break\n",
    "        \n",
    "        sequence_x, sequence_y = sequence[i:end_element_index], sequence[end_element_index, :] # 取最后一列元素作为预测值y\n",
    "        X.append(sequence_x)\n",
    "        y.append(sequence_y)\n",
    "    \n",
    "    #return X,y\n",
    "    return np.array(X), np.array(y)\n",
    "\n",
    "def vector_output_model(n_input, n_output, epochs_num):\n",
    "    model = Sequential()\n",
    "    model.add(Dense(100, activation='relu', input_dim=n_input))\n",
    "    model.add(Dense(n_output))\n",
    "    model.compile(optimizer='adam', loss='mse')\n",
    "\n",
    "    model.fit(X, y, epochs=epochs_num, verbose=0)\n",
    "    \n",
    "    return model\n",
    "\n",
    "if __name__ == '__main__':\n",
    "    sw_width = 3\n",
    "    epochs_num = 2000\n",
    "    \n",
    "    # 训练数据\n",
    "    in_seq1 = np.array([10, 20, 30, 40, 50, 60, 70, 80, 90])\n",
    "    in_seq2 = np.array([15, 25, 35, 45, 55, 65, 75, 85, 95])\n",
    "    out_seq = np.array([in_seq1[i]+in_seq2[i] for i in range(len(in_seq1))])\n",
    "\n",
    "    in_seq1 = in_seq1.reshape((len(in_seq1), 1))\n",
    "    in_seq2 = in_seq2.reshape((len(in_seq2), 1))\n",
    "    out_seq = out_seq.reshape((len(out_seq), 1))\n",
    "\n",
    "    dataset = np.hstack((in_seq1, in_seq2, out_seq))\n",
    "    \n",
    "    # 训练数据和标签划分\n",
    "    X, y = split_sequences(dataset, sw_width)\n",
    "    \n",
    "    print(X.shape, y.shape)\n",
    "#     for i in range(len(X)):\n",
    "#         print(X[i], y[i])\n",
    "        \n",
    "    n_input = X.shape[1] * X.shape[2]\n",
    "    X = X.reshape((X.shape[0], n_input))\n",
    "    n_output = y.shape[1]\n",
    "\n",
    "    x_input = np.array([[70,75,145], [80,85,165], [90,95,185]])\n",
    "    x_input = x_input.reshape((1, n_input))\n",
    "    \n",
    "    model = vector_output_model(n_input, n_output, epochs_num)\n",
    "    \n",
    "    yhat = model.predict(x_input, verbose=0)\n",
    "    print(yhat)"
   ]
  },
  {
   "cell_type": "markdown",
   "metadata": {},
   "source": [
    "##########################################"
   ]
  },
  {
   "cell_type": "code",
   "execution_count": 24,
   "metadata": {},
   "outputs": [
    {
     "name": "stdout",
     "output_type": "stream",
     "text": [
      "(6, 3, 3) (6, 3)\n",
      "[array([[100.50821]], dtype=float32), array([[105.74859]], dtype=float32), array([[206.86055]], dtype=float32)]\n"
     ]
    }
   ],
   "source": [
    "from tensorflow.keras.models import Model\n",
    "from tensorflow.keras.layers import Input, Dense\n",
    "from tensorflow.keras.utils import plot_model\n",
    "import numpy as np\n",
    "\n",
    "def split_sequences(sequence, sliding_window_width):\n",
    "    X, y = [], []\n",
    "    for i in range(len(sequence)):\n",
    "        # 找到最后一次滑动所截取数据中最后一个元素的索引，\n",
    "        # 如果这个索引超过原序列中元素的索引则不截取；\n",
    "        end_element_index = i + sliding_window_width\n",
    "        if end_element_index > len(sequence) - 1: # 序列中最后一个元素的索引\n",
    "            break\n",
    "        \n",
    "        sequence_x, sequence_y = sequence[i:end_element_index, :], sequence[end_element_index, :] # 取最后一列元素作为预测值y\n",
    "        X.append(sequence_x)\n",
    "        y.append(sequence_y)\n",
    "    \n",
    "    #return X,y\n",
    "    return np.array(X), np.array(y)\n",
    "\n",
    "def multi_output_model(n_input, y, epochs_num):\n",
    "    visible = Input(shape=(n_input,))\n",
    "    dense = Dense(100, activation='relu')(visible)\n",
    "\n",
    "    output1 = Dense(1)(dense)\n",
    "    output2 = Dense(1)(dense)\n",
    "    output3 = Dense(1)(dense)\n",
    "\n",
    "    model = Model(inputs=visible, outputs=[output1, output2, output3])\n",
    "    model.compile(optimizer='adam', loss='mse')\n",
    "    \n",
    "    plot_model(model, to_file='multi_output_model.png', show_shapes=True, show_layer_names=True, rankdir='TB', dpi=200)\n",
    "\n",
    "    model.fit(X, y, epochs=2000, verbose=0)\n",
    "    \n",
    "    return model\n",
    "\n",
    "if __name__ == '__main__':\n",
    "    sw_width = 3\n",
    "    epochs_num = 2000\n",
    "    \n",
    "    # 训练数据\n",
    "    in_seq1 = np.array([10, 20, 30, 40, 50, 60, 70, 80, 90])\n",
    "    in_seq2 = np.array([15, 25, 35, 45, 55, 65, 75, 85, 95])\n",
    "    out_seq = np.array([in_seq1[i]+in_seq2[i] for i in range(len(in_seq1))])\n",
    "\n",
    "    in_seq1 = in_seq1.reshape((len(in_seq1), 1))\n",
    "    in_seq2 = in_seq2.reshape((len(in_seq2), 1))\n",
    "    out_seq = out_seq.reshape((len(out_seq), 1))\n",
    "\n",
    "    dataset = np.hstack((in_seq1, in_seq2, out_seq))\n",
    "    \n",
    "    # 训练数据和标签划分\n",
    "    X, y = split_sequences(dataset, sw_width)\n",
    "    \n",
    "    print(X.shape, y.shape)\n",
    "#     for i in range(len(X)):\n",
    "#         print(X[i], y[i])\n",
    "        \n",
    "    n_input = X.shape[1] * X.shape[2]\n",
    "    X = X.reshape((X.shape[0], n_input))\n",
    "\n",
    "    y1 = y[:, 0].reshape((y.shape[0], 1))\n",
    "    y2 = y[:, 1].reshape((y.shape[0], 1))\n",
    "    y3 = y[:, 2].reshape((y.shape[0], 1))         \n",
    "    y_list = [y1,y2,y3]\n",
    "    \n",
    "    model = multi_output_model(n_input, y_list, epochs_num)\n",
    "    \n",
    "    x_input = np.array([[70,75,145], [80,85,165], [90,95,185]])\n",
    "    x_input = x_input.reshape((1, n_input))\n",
    "    yhat = model.predict(x_input, verbose=0)\n",
    "    print(yhat)"
   ]
  },
  {
   "cell_type": "code",
   "execution_count": 26,
   "metadata": {},
   "outputs": [
    {
     "name": "stdout",
     "output_type": "stream",
     "text": [
      "(5, 3) (5, 2)\n",
      "[10 20 30] [40 50]\n",
      "[20 30 40] [50 60]\n",
      "[30 40 50] [60 70]\n",
      "[40 50 60] [70 80]\n",
      "[50 60 70] [80 90]\n",
      "[[100.4229  111.65523]]\n"
     ]
    }
   ],
   "source": [
    "from tensorflow.keras.models import Sequential\n",
    "from tensorflow.keras.layers import Dense\n",
    "import numpy as np\n",
    "\n",
    "def split_sequence(sequence, m_steps_in, n_steps_out):\n",
    "    X, y = [], []\n",
    "    for i in range(len(sequence)):\n",
    "\n",
    "        end_element_index = i + n_steps_in\n",
    "        out_end_index = end_element_index + n_steps_out\n",
    "        if out_end_index > len(sequence): \n",
    "            break\n",
    "        \n",
    "        sequence_x, sequence_y = sequence[i:end_element_index], sequence[end_element_index:out_end_index]\n",
    "        X.append(sequence_x)\n",
    "        y.append(sequence_y)\n",
    "\n",
    "    return np.array(X), np.array(y)\n",
    "\n",
    "def vector_output_model(n_steps_in, n_steps_out, X, y, epochs_num):\n",
    "    model = Sequential()\n",
    "    model.add(Dense(100, activation='relu', input_dim=n_steps_in))\n",
    "    model.add(Dense(n_steps_out))\n",
    "    model.compile(optimizer='adam', loss='mse')\n",
    "    \n",
    "    model.fit(X, y, epochs=2000, verbose=0)\n",
    "    return model\n",
    "\n",
    "if __name__ == '__main__':\n",
    "    epochs_num = 2000\n",
    "    n_steps_in, n_steps_out = 3, 2\n",
    "    \n",
    "    raw_seq = [10, 20, 30, 40, 50, 60, 70, 80, 90]\n",
    "    X, y = split_sequence(raw_seq, n_steps_in, n_steps_out)\n",
    "    \n",
    "    print(X.shape, y.shape)\n",
    "    for i in range(len(X)):\n",
    "        print(X[i], y[i])\n",
    "    \n",
    "    model = vector_output_model(n_steps_in, n_steps_out, X, y, epochs_num)\n",
    "    \n",
    "    x_input = np.array([70, 80, 90])\n",
    "    x_input = x_input.reshape((1, n_steps_in))\n",
    "    yhat = model.predict(x_input, verbose=0)\n",
    "    print(yhat)"
   ]
  },
  {
   "cell_type": "code",
   "execution_count": 34,
   "metadata": {},
   "outputs": [
    {
     "name": "stdout",
     "output_type": "stream",
     "text": [
      "(6, 6) (6, 2)\n",
      "[10 15 20 25 30 35] [65 85]\n",
      "[20 25 30 35 40 45] [ 85 105]\n",
      "[30 35 40 45 50 55] [105 125]\n",
      "[40 45 50 55 60 65] [125 145]\n",
      "[50 55 60 65 70 75] [145 165]\n",
      "[60 65 70 75 80 85] [165 185]\n",
      "[[186.31998 206.29776]]\n"
     ]
    }
   ],
   "source": [
    "from tensorflow.keras.models import Sequential\n",
    "from tensorflow.keras.layers import Dense\n",
    "import numpy as np\n",
    "\n",
    "def split_sequences(sequences, n_steps_in, n_steps_out):\n",
    "    X, y = [], []\n",
    "    for i in range(len(sequences)):\n",
    "\n",
    "        end_element_index = i + n_steps_in\n",
    "        out_end_index = end_element_index + n_steps_out - 1\n",
    "        \n",
    "        if out_end_index > len(sequences): \n",
    "            break\n",
    "        \n",
    "        sequence_x, sequence_y = sequences[i:end_element_index,:-1], sequences[end_element_index-1:out_end_index,-1]\n",
    "        X.append(sequence_x)\n",
    "        y.append(sequence_y)\n",
    "\n",
    "    return np.array(X), np.array(y)\n",
    "\n",
    "def multi_step_output_model(n_input, n_steps_out, X, y, epochs_num):\n",
    "    model = Sequential()\n",
    "    model.add(Dense(100, activation='relu', input_dim=n_input))\n",
    "    model.add(Dense(n_steps_out))\n",
    "    model.compile(optimizer='adam', loss='mse')\n",
    "    \n",
    "    model.fit(X, y, epochs=epochs_num, verbose=0)\n",
    "    return model\n",
    "\n",
    "if __name__ == '__main__':\n",
    "    epochs_num = 2000\n",
    "    \n",
    "    in_seq1 = np.array([10, 20, 30, 40, 50, 60, 70, 80, 90])\n",
    "    in_seq2 = np.array([15, 25, 35, 45, 55, 65, 75, 85, 95])\n",
    "    out_seq = np.array([in_seq1[i]+in_seq2[i] for i in range(len(in_seq1))])\n",
    "\n",
    "    in_seq1 = in_seq1.reshape((len(in_seq1), 1))\n",
    "    in_seq2 = in_seq2.reshape((len(in_seq2), 1))\n",
    "    out_seq = out_seq.reshape((len(out_seq), 1))\n",
    "\n",
    "    dataset = np.hstack((in_seq1, in_seq2, out_seq))\n",
    "\n",
    "    n_steps_in, n_steps_out = 3, 2\n",
    "\n",
    "    X, y = split_sequences(dataset, n_steps_in, n_steps_out)\n",
    "\n",
    "    n_input = X.shape[1] * X.shape[2]\n",
    "    X = X.reshape((X.shape[0], n_input))\n",
    "    \n",
    "    print(X.shape, y.shape)\n",
    "    for i in range(len(X)):\n",
    "        print(X[i], y[i])\n",
    "    \n",
    "    model = multi_step_output_model(n_input, n_steps_out, X, y, epochs_num)\n",
    "    \n",
    "    x_input = np.array([[70, 75], [80, 85], [90, 95]])\n",
    "    x_input = x_input.reshape((1, n_input))\n",
    "    yhat = model.predict(x_input, verbose=0)\n",
    "    print(yhat)"
   ]
  },
  {
   "cell_type": "code",
   "execution_count": 37,
   "metadata": {},
   "outputs": [
    {
     "name": "stdout",
     "output_type": "stream",
     "text": [
      "(5, 9) (5, 6)\n",
      "[10 15 25 20 25 45 30 35 65] [ 40  45  85  50  55 105]\n",
      "[20 25 45 30 35 65 40 45 85] [ 50  55 105  60  65 125]\n",
      "[ 30  35  65  40  45  85  50  55 105] [ 60  65 125  70  75 145]\n",
      "[ 40  45  85  50  55 105  60  65 125] [ 70  75 145  80  85 165]\n",
      "[ 50  55 105  60  65 125  70  75 145] [ 80  85 165  90  95 185]\n",
      "[[ 92.22672   96.749825 188.34888  102.91172  108.4422   209.61449 ]]\n"
     ]
    }
   ],
   "source": [
    "from tensorflow.keras.models import Sequential\n",
    "from tensorflow.keras.layers import Dense\n",
    "import numpy as np\n",
    "\n",
    "def split_sequences(sequences, n_steps_in, n_steps_out):\n",
    "    X, y = [], []\n",
    "    for i in range(len(sequences)):\n",
    "\n",
    "        end_element_index = i + n_steps_in\n",
    "        out_end_index = end_element_index + n_steps_out\n",
    "        \n",
    "        if out_end_index > len(sequences): \n",
    "            break\n",
    "        \n",
    "        sequence_x, sequence_y = sequences[i:end_element_index,:], sequences[end_element_index:out_end_index,:]\n",
    "        X.append(sequence_x)\n",
    "        y.append(sequence_y)\n",
    "\n",
    "    return np.array(X), np.array(y)\n",
    "\n",
    "def multi_parallel_output_model(n_input, n_output, X, y, epochs_num):\n",
    "    model = Sequential()\n",
    "    model.add(Dense(100, activation='relu', input_dim=n_input))\n",
    "    model.add(Dense(n_output))\n",
    "    model.compile(optimizer='adam', loss='mse')\n",
    "    \n",
    "    model.fit(X, y, epochs=epochs_num, verbose=0)\n",
    "    return model\n",
    "\n",
    "if __name__ == '__main__':\n",
    "    epochs_num = 2000\n",
    "    \n",
    "    in_seq1 = np.array([10, 20, 30, 40, 50, 60, 70, 80, 90])\n",
    "    in_seq2 = np.array([15, 25, 35, 45, 55, 65, 75, 85, 95])\n",
    "    out_seq = np.array([in_seq1[i]+in_seq2[i] for i in range(len(in_seq1))])\n",
    "\n",
    "    in_seq1 = in_seq1.reshape((len(in_seq1), 1))\n",
    "    in_seq2 = in_seq2.reshape((len(in_seq2), 1))\n",
    "    out_seq = out_seq.reshape((len(out_seq), 1))\n",
    "    # 沿列堆叠数组，相当于列数增加\n",
    "    dataset = np.hstack((in_seq1, in_seq2, out_seq))\n",
    "    # 时间步长\n",
    "    n_steps_in, n_steps_out = 3, 2\n",
    "    # 将输入数据分为训练数据和训练标签\n",
    "    X, y = split_sequences(dataset, n_steps_in, n_steps_out)\n",
    "    # 展平输入数据\n",
    "    n_input = X.shape[1] * X.shape[2]\n",
    "    X = X.reshape((X.shape[0], n_input))\n",
    "    # 展平输出数据\n",
    "    n_output = y.shape[1] * y.shape[2]\n",
    "    y = y.reshape((y.shape[0], n_output))\n",
    "    \n",
    "    print(X.shape, y.shape)\n",
    "    for i in range(len(X)):\n",
    "        print(X[i], y[i])\n",
    "    \n",
    "    model = multi_parallel_output_model(n_input, n_output, X, y, epochs_num)\n",
    "    \n",
    "    x_input = np.array([[60, 65, 125], [70, 75, 145], [80, 85, 165]])\n",
    "    x_input = x_input.reshape((1, n_input))\n",
    "    yhat = model.predict(x_input, verbose=0)\n",
    "    print(yhat)"
   ]
  },
  {
   "cell_type": "markdown",
   "metadata": {},
   "source": [
    "(6, 9) (6, 3)\n",
    "[10 15 25 20 25 45 30 35 65] [40 45 85]\n",
    "[20 25 45 30 35 65 40 45 85] [ 50  55 105]\n",
    "[ 30  35  65  40  45  85  50  55 105] [ 60  65 125]\n",
    "[ 40  45  85  50  55 105  60  65 125] [ 70  75 145]\n",
    "[ 50  55 105  60  65 125  70  75 145] [ 80  85 165]\n",
    "[ 60  65 125  70  75 145  80  85 165] [ 90  95 185]\n",
    "[[ 89.99398  95.03327 185.03163]]"
   ]
  },
  {
   "cell_type": "code",
   "execution_count": null,
   "metadata": {},
   "outputs": [],
   "source": []
  }
 ],
 "metadata": {
  "kernelspec": {
   "display_name": "Python 3",
   "language": "python",
   "name": "python3"
  },
  "language_info": {
   "codemirror_mode": {
    "name": "ipython",
    "version": 3
   },
   "file_extension": ".py",
   "mimetype": "text/x-python",
   "name": "python",
   "nbconvert_exporter": "python",
   "pygments_lexer": "ipython3",
   "version": "3.8.6"
  }
 },
 "nbformat": 4,
 "nbformat_minor": 4
}

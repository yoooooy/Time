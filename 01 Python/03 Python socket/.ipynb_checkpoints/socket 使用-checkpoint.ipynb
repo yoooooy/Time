{
 "cells": [
  {
   "cell_type": "code",
   "execution_count": null,
   "metadata": {},
   "outputs": [],
   "source": [
    "import socket               \n",
    "s = socket.socket()         # 创建 socket 对象\n",
    "host = socket.gethostname() # 获取本地主机名\n",
    "port = 12345                # 设置端口\n",
    "s.bind((host, port))        # 绑定端口\n",
    "s.listen(5)                 # 等待客户端连接\n",
    "while True:\n",
    "    c, addr = s.accept()    # 建立客户端连接。\n",
    "    print('连接地址：', addr)\n",
    "    c.send('你好，孙悟空！')\n",
    "    c.close()               # 关闭连接"
   ]
  },
  {
   "cell_type": "code",
   "execution_count": null,
   "metadata": {},
   "outputs": [],
   "source": [
    "import socket               # 导入 socket 模块\n",
    "s = socket.socket()         # 创建 socket 对象\n",
    "host = socket.gethostname() # 获取本地主机名\n",
    "port = 12345                # 设置端口号\n",
    "s.connect((host, port))\n",
    "print(s.recv(1024)s.close())"
   ]
  },
  {
   "cell_type": "code",
   "execution_count": null,
   "metadata": {},
   "outputs": [],
   "source": []
  },
  {
   "cell_type": "code",
   "execution_count": null,
   "metadata": {},
   "outputs": [],
   "source": []
  }
 ],
 "metadata": {
  "kernelspec": {
   "display_name": "Python 3",
   "language": "python",
   "name": "python3"
  },
  "language_info": {
   "codemirror_mode": {
    "name": "ipython",
    "version": 3
   },
   "file_extension": ".py",
   "mimetype": "text/x-python",
   "name": "python",
   "nbconvert_exporter": "python",
   "pygments_lexer": "ipython3",
   "version": "3.7.6"
  }
 },
 "nbformat": 4,
 "nbformat_minor": 4
}

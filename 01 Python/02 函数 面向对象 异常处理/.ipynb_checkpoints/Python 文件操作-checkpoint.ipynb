{
 "cells": [
  {
   "cell_type": "code",
   "execution_count": 17,
   "metadata": {},
   "outputs": [
    {
     "name": "stdout",
     "output_type": "stream",
     "text": [
      "文本内容为:\n",
      "\n",
      "锄禾日当午\n",
      "汗滴禾下土\n",
      "谁知盘中餐\n",
      "粒粒皆辛苦\n",
      "\n",
      "文本长度为：23\n"
     ]
    }
   ],
   "source": [
    "file_name = r'D:\\AliyunEDU\\Part6-Python\\03 函数 面向对象 异常处理\\demo2.txt'\n",
    "try:\n",
    "    with open(file_name, encoding='utf-8') as file_obj:\n",
    "        #help(file_obj.read)\n",
    "        content = file_obj.read(-1)\n",
    "        print(f'文本内容为:\\n\\n{content}\\n')\n",
    "        print(f'文本长度为：{len(content)}')\n",
    "\n",
    "except FileNotFoundError:\n",
    "    print(f'{file_name}文件不存在！')"
   ]
  },
  {
   "cell_type": "code",
   "execution_count": 22,
   "metadata": {},
   "outputs": [
    {
     "name": "stdout",
     "output_type": "stream",
     "text": [
      "['.ipynb_checkpoints',\n",
      " 'demo2.txt',\n",
      " 'Python 文件操作.ipynb',\n",
      " 'Python函数.ipynb',\n",
      " 'Python封装.ipynb',\n",
      " 'Python模块.ipynb',\n",
      " 'Python类与对象.ipynb',\n",
      " 'Python继承与多态.ipynb',\n",
      " '学习笔记',\n",
      " '配套代码']\n"
     ]
    }
   ],
   "source": [
    "import os,pprint\n",
    "r = os.listdir('.')\n",
    "pprint.pprint(r)"
   ]
  },
  {
   "cell_type": "code",
   "execution_count": null,
   "metadata": {},
   "outputs": [],
   "source": []
  }
 ],
 "metadata": {
  "kernelspec": {
   "display_name": "Python 3",
   "language": "python",
   "name": "python3"
  },
  "language_info": {
   "codemirror_mode": {
    "name": "ipython",
    "version": 3
   },
   "file_extension": ".py",
   "mimetype": "text/x-python",
   "name": "python",
   "nbconvert_exporter": "python",
   "pygments_lexer": "ipython3",
   "version": "3.7.6"
  }
 },
 "nbformat": 4,
 "nbformat_minor": 4
}

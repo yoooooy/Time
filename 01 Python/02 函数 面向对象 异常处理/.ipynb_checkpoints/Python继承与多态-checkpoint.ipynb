{
 "cells": [
  {
   "cell_type": "code",
   "execution_count": 1,
   "metadata": {},
   "outputs": [],
   "source": [
    "# 定义一个类 Animal（动物）\n",
    "# 这个类中需要两个方法：run() sleep() \n",
    "class Animal:\n",
    "    def run(self):\n",
    "        print('动物会跑~~~')\n",
    "\n",
    "    def sleep(self):\n",
    "        print('动物睡觉~~~')"
   ]
  },
  {
   "cell_type": "code",
   "execution_count": 2,
   "metadata": {},
   "outputs": [],
   "source": [
    "# 定义一个类 Dog（狗）\n",
    "#   这个类中需要三个方法：run() sleep() bark()\n",
    "class Dog:\n",
    "    def run(self):\n",
    "        print('狗会跑~~~')\n",
    "\n",
    "    def sleep(self):\n",
    "        print('狗睡觉~~~')\n",
    "\n",
    "    def bark(self):\n",
    "        print('汪汪汪~~~') "
   ]
  },
  {
   "cell_type": "code",
   "execution_count": 10,
   "metadata": {},
   "outputs": [
    {
     "name": "stdout",
     "output_type": "stream",
     "text": [
      "True\n",
      "True\n"
     ]
    }
   ],
   "source": [
    "class Dog(Animal):\n",
    "    def bark(self):\n",
    "        print('汪汪汪~~~') \n",
    "\n",
    "class Hashiqi(Dog):\n",
    "    def fan_sha(self):\n",
    "        print('我是一只傻傻的哈士奇')        \n",
    "\n",
    "d = Dog()\n",
    "h = Hashiqi()        \n",
    "\n",
    "r = isinstance(h, Dog)\n",
    "print(r)\n",
    "r = isinstance(h,Animal)\n",
    "print(r)"
   ]
  },
  {
   "cell_type": "code",
   "execution_count": 16,
   "metadata": {},
   "outputs": [],
   "source": [
    "class Animal:\n",
    "    def __init__(self,name):\n",
    "        self._name = name\n",
    "\n",
    "    def run(self):\n",
    "        print('动物会跑~~~')\n",
    "\n",
    "    def sleep(self):\n",
    "        print('动物睡觉~~~')\n",
    "\n",
    "    @property\n",
    "    def name(self):\n",
    "        return self._name\n",
    "\n",
    "    @name.setter    \n",
    "    def name(self,name):\n",
    "        self._name = name\n",
    "        \n",
    "class Dog(Animal):\n",
    "\n",
    "    def __init__(self,name):\n",
    "        super().__init__(name)\n",
    "\n",
    "    def bark(self):\n",
    "        print('汪汪汪~~~') \n",
    "\n",
    "    def run(self):\n",
    "        print('狗跑~~~~')        \n",
    "\n",
    "# d = Dog() \n",
    "d = Dog('旺财') "
   ]
  },
  {
   "cell_type": "code",
   "execution_count": 19,
   "metadata": {},
   "outputs": [
    {
     "name": "stdout",
     "output_type": "stream",
     "text": [
      "旺财 18\n",
      "蛋挞 18\n"
     ]
    }
   ],
   "source": [
    "class Dog(Animal):\n",
    "\n",
    "    def __init__(self,name,age):\n",
    "        # 希望可以直接调用父类的__init__来初始化父类中定义的属性\n",
    "        # super() 可以用来获取当前类的父类，\n",
    "        #   并且通过super()返回对象调用父类方法时，不需要传递self\n",
    "        super().__init__(name)\n",
    "        self._age = age\n",
    "\n",
    "    def bark(self):\n",
    "        print('汪汪汪~~~') \n",
    "\n",
    "    def run(self):\n",
    "        print('狗跑~~~~')   \n",
    "\n",
    "    @property\n",
    "    def age(self):\n",
    "        return self._age\n",
    "\n",
    "    @age.setter    \n",
    "    def age(self,age):\n",
    "        self._age = name  \n",
    "\n",
    "d = Dog('旺财',18) \n",
    "print(d.name,d.age)       \n",
    "\n",
    "d.name = '蛋挞'\n",
    "print(d.name,d.age)          "
   ]
  },
  {
   "cell_type": "code",
   "execution_count": 24,
   "metadata": {},
   "outputs": [
    {
     "name": "stdout",
     "output_type": "stream",
     "text": [
      "(<class 'object'>,)\n",
      "(<class '__main__.B'>,)\n"
     ]
    }
   ],
   "source": [
    "class A(object):\n",
    "    def test(self):\n",
    "        print('正在调用A中的test()方法~')\n",
    "\n",
    "class B(object):\n",
    "    def test2(self):\n",
    "        print('正在调用正在调用B中的test2()方法~')\n",
    "\n",
    "class C(B):\n",
    "    pass\n",
    "\n",
    "print(B.__bases__)\n",
    "print(C.__bases__)"
   ]
  },
  {
   "cell_type": "code",
   "execution_count": 25,
   "metadata": {},
   "outputs": [
    {
     "name": "stdout",
     "output_type": "stream",
     "text": [
      "正在调用A中的test()方法~\n",
      "正在调用正在调用B中的test2()方法~\n"
     ]
    }
   ],
   "source": [
    "class C(A, B):\n",
    "    pass\n",
    "c = C()\n",
    "c.test()\n",
    "c.test2()"
   ]
  },
  {
   "cell_type": "code",
   "execution_count": 26,
   "metadata": {},
   "outputs": [],
   "source": [
    "# 定义两个类\n",
    "class A:\n",
    "    def __init__(self,name):\n",
    "        self._name = name\n",
    "\n",
    "    @property\n",
    "    def name(self):\n",
    "        return self._name\n",
    "        \n",
    "    @name.setter\n",
    "    def name(self,name):\n",
    "        self._name = name   \n",
    "\n",
    "class B:\n",
    "    def __init__(self,name):\n",
    "        self._name = name\n",
    "\n",
    "    def __len__(self):\n",
    "        return 10\n",
    "\n",
    "    @property\n",
    "    def name(self):\n",
    "        return self._name\n",
    "        \n",
    "    @name.setter\n",
    "    def name(self,name):\n",
    "        self._name = name   \n",
    "\n",
    "class C:\n",
    "    pass\n",
    "\n",
    "\n",
    "a = A('孙悟空')\n",
    "b = B('猪八戒')\n",
    "c = C()"
   ]
  },
  {
   "cell_type": "code",
   "execution_count": 31,
   "metadata": {},
   "outputs": [
    {
     "name": "stdout",
     "output_type": "stream",
     "text": [
      "你好 孙悟空\n",
      "你好 猪八戒\n"
     ]
    }
   ],
   "source": [
    "def say_hello(obj):\n",
    "    print('你好 %s'%obj.name)\n",
    "say_hello(a)\n",
    "say_hello(b)\n",
    "# say_hello(c)"
   ]
  },
  {
   "cell_type": "code",
   "execution_count": 33,
   "metadata": {},
   "outputs": [
    {
     "name": "stdout",
     "output_type": "stream",
     "text": [
      "你好 猪八戒\n"
     ]
    }
   ],
   "source": [
    "def say_hello_2(obj):\n",
    "    # 做类型检查\n",
    "    if isinstance(obj , A):\n",
    "        print('你好 %s'%obj.name)    \n",
    "say_hello(b)    \n",
    "say_hello_2(b)"
   ]
  },
  {
   "cell_type": "code",
   "execution_count": 5,
   "metadata": {},
   "outputs": [
    {
     "name": "stdout",
     "output_type": "stream",
     "text": [
      "10\n"
     ]
    }
   ],
   "source": [
    "class A:\n",
    "    def __init__(self,name):\n",
    "        self._name = name\n",
    "\n",
    "    @property\n",
    "    def name(self):\n",
    "        return self._name\n",
    "        \n",
    "    @name.setter\n",
    "    def name(self,name):\n",
    "        self._name = name   \n",
    "\n",
    "class B:\n",
    "    def __init__(self,name):\n",
    "        self._name = name\n",
    "\n",
    "    def __len__(self):\n",
    "        return 10\n",
    "\n",
    "    @property\n",
    "    def name(self):\n",
    "        return self._name\n",
    "        \n",
    "    @name.setter\n",
    "    def name(self,name):\n",
    "        self._name = name\n",
    "        \n",
    "class C:\n",
    "    pass\n",
    "\n",
    "a = A('孙悟空')\n",
    "b = B('猪八戒')\n",
    "c = C()\n",
    "\n",
    "print(len(b))\n",
    "# print(len(c)) #-->TypeError: object of type 'C' has no len()"
   ]
  },
  {
   "cell_type": "code",
   "execution_count": 8,
   "metadata": {},
   "outputs": [
    {
     "name": "stdout",
     "output_type": "stream",
     "text": [
      "a_count: 10\n",
      "A_count: 100\n",
      "a_name: 孙悟空\n"
     ]
    }
   ],
   "source": [
    "# 定义一个类\n",
    "class A(object):\n",
    "\n",
    "    # 类属性，直接在类中定义的属性是类属性\n",
    "    #   类属性可以通过类或类的实例访问到\n",
    "    #   但是类属性只能通过类对象来修改，无法通过实例对象修改\n",
    "    count = 0\n",
    "\n",
    "    def __init__(self):\n",
    "        # 实例属性，通过实例对象添加的属性属于实例属性\n",
    "        #   实例属性只能通过实例对象来访问和修改，类对象无法访问修改\n",
    "        self.name = '孙悟空'\n",
    "a = A()\n",
    "a.count = 10\n",
    "A.count = 100\n",
    "print('a_count:', a.count)\n",
    "print('A_count:', A.count)\n",
    "print('a_name:', a.name)\n",
    "# print('A_name', A.name) #-->AttributeError: type object 'A' has no attribute 'name'"
   ]
  },
  {
   "cell_type": "code",
   "execution_count": 27,
   "metadata": {},
   "outputs": [
    {
     "name": "stdout",
     "output_type": "stream",
     "text": [
      "这是test方法~~~  <__main__.A object at 0x000001BB04E15EC8>\n",
      "这是test方法~~~  <__main__.A object at 0x000001BB04E15EC8>\n"
     ]
    }
   ],
   "source": [
    "class A(object):\n",
    "    def __init__(self):\n",
    "        self.name = '孙悟空'\n",
    "        \n",
    "    def test(self):\n",
    "        print('这是test方法~~~ ', self)   \n",
    "\n",
    "a = A()\n",
    "a.test()\n",
    "A.test(a)"
   ]
  },
  {
   "cell_type": "code",
   "execution_count": 29,
   "metadata": {},
   "outputs": [],
   "source": [
    "#     object.__add__(self, other)\n",
    "#     object.__sub__(self, other)\n",
    "#     object.__mul__(self, other)\n",
    "#     object.__matmul__(self, other)\n",
    "#     object.__truediv__(self, other)\n",
    "#     object.__floordiv__(self, other)\n",
    "#     object.__mod__(self, other)\n",
    "#     object.__divmod__(self, other)\n",
    "#     object.__pow__(self, other[, modulo])\n",
    "#     object.__lshift__(self, other)\n",
    "#     object.__rshift__(self, other)\n",
    "#     object.__and__(self, other)\n",
    "#     object.__xor__(self, other)\n",
    "#     object.__or__(self, other)\n",
    "\n",
    "#     object.__lt__(self, other) 小于 <\n",
    "#     object.__le__(self, other) 小于等于 <=\n",
    "#     object.__eq__(self, other) 等于 ==\n",
    "#     object.__ne__(self, other) 不等于 !=\n",
    "#     object.__gt__(self, other) 大于 >\n",
    "#     object.__ge__(self, other) 大于等于 >= "
   ]
  },
  {
   "cell_type": "code",
   "execution_count": null,
   "metadata": {},
   "outputs": [],
   "source": []
  }
 ],
 "metadata": {
  "kernelspec": {
   "display_name": "Python 3",
   "language": "python",
   "name": "python3"
  },
  "language_info": {
   "codemirror_mode": {
    "name": "ipython",
    "version": 3
   },
   "file_extension": ".py",
   "mimetype": "text/x-python",
   "name": "python",
   "nbconvert_exporter": "python",
   "pygments_lexer": "ipython3",
   "version": "3.7.6"
  }
 },
 "nbformat": 4,
 "nbformat_minor": 4
}

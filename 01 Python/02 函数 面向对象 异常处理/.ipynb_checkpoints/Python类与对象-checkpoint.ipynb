{
 "cells": [
  {
   "cell_type": "code",
   "execution_count": 1,
   "metadata": {},
   "outputs": [],
   "source": [
    "p = ['P','y','t','h','o','n']"
   ]
  },
  {
   "cell_type": "code",
   "execution_count": 2,
   "metadata": {},
   "outputs": [
    {
     "data": {
      "text/plain": [
       "['P', 'y', 't', 'h', 'o']"
      ]
     },
     "execution_count": 2,
     "metadata": {},
     "output_type": "execute_result"
    }
   ],
   "source": [
    "p[:-1]"
   ]
  },
  {
   "cell_type": "code",
   "execution_count": 3,
   "metadata": {},
   "outputs": [
    {
     "data": {
      "text/plain": [
       "['o']"
      ]
     },
     "execution_count": 3,
     "metadata": {},
     "output_type": "execute_result"
    }
   ],
   "source": [
    "p[-2:-1]"
   ]
  },
  {
   "cell_type": "code",
   "execution_count": 4,
   "metadata": {},
   "outputs": [
    {
     "data": {
      "text/plain": [
       "['P', 'y', 't', 'h', 'o', 'n']"
      ]
     },
     "execution_count": 4,
     "metadata": {},
     "output_type": "execute_result"
    }
   ],
   "source": [
    "p[0:]"
   ]
  },
  {
   "cell_type": "code",
   "execution_count": 5,
   "metadata": {},
   "outputs": [
    {
     "data": {
      "text/plain": [
       "'n'"
      ]
     },
     "execution_count": 5,
     "metadata": {},
     "output_type": "execute_result"
    }
   ],
   "source": [
    "p[-1]"
   ]
  },
  {
   "cell_type": "code",
   "execution_count": 6,
   "metadata": {},
   "outputs": [
    {
     "data": {
      "text/plain": [
       "['P', 'y', 't', 'h']"
      ]
     },
     "execution_count": 6,
     "metadata": {},
     "output_type": "execute_result"
    }
   ],
   "source": [
    "p[:-2]"
   ]
  },
  {
   "cell_type": "code",
   "execution_count": 7,
   "metadata": {},
   "outputs": [
    {
     "data": {
      "text/plain": [
       "['o', 'n']"
      ]
     },
     "execution_count": 7,
     "metadata": {},
     "output_type": "execute_result"
    }
   ],
   "source": [
    "p[-2:]"
   ]
  },
  {
   "cell_type": "code",
   "execution_count": 8,
   "metadata": {},
   "outputs": [
    {
     "data": {
      "text/plain": [
       "['n', 'o', 'h', 't', 'y', 'P']"
      ]
     },
     "execution_count": 8,
     "metadata": {},
     "output_type": "execute_result"
    }
   ],
   "source": [
    "p[::-1]"
   ]
  },
  {
   "cell_type": "code",
   "execution_count": 9,
   "metadata": {},
   "outputs": [
    {
     "data": {
      "text/plain": [
       "['y', 'P']"
      ]
     },
     "execution_count": 9,
     "metadata": {},
     "output_type": "execute_result"
    }
   ],
   "source": [
    "p[1::-1] "
   ]
  },
  {
   "cell_type": "code",
   "execution_count": 11,
   "metadata": {},
   "outputs": [
    {
     "data": {
      "text/plain": [
       "['n', 'o']"
      ]
     },
     "execution_count": 11,
     "metadata": {},
     "output_type": "execute_result"
    }
   ],
   "source": [
    "p[:-3:-1]"
   ]
  },
  {
   "cell_type": "code",
   "execution_count": 12,
   "metadata": {},
   "outputs": [
    {
     "data": {
      "text/plain": [
       "['h', 't', 'y', 'P']"
      ]
     },
     "execution_count": 12,
     "metadata": {},
     "output_type": "execute_result"
    }
   ],
   "source": [
    "p[-3::-1]"
   ]
  },
  {
   "cell_type": "code",
   "execution_count": 2,
   "metadata": {},
   "outputs": [
    {
     "name": "stdout",
     "output_type": "stream",
     "text": [
      "10 <class 'int'>\n",
      "Hello world <class 'str'>\n"
     ]
    }
   ],
   "source": [
    "a = int(10) # 创建一个int类的实例\n",
    "b = str('Hello world') # 创建一个str类的实例\n",
    "\n",
    "print(a , type(a))\n",
    "print(b , type(b))"
   ]
  },
  {
   "cell_type": "code",
   "execution_count": 6,
   "metadata": {},
   "outputs": [
    {
     "name": "stdout",
     "output_type": "stream",
     "text": [
      "<class '__main__.MyClass'>\n",
      "result = True\n",
      "result = False\n"
     ]
    }
   ],
   "source": [
    "class MyClass():\n",
    "    pass\n",
    "\n",
    "print(MyClass) #--> <class '__main__.MyClass'>\n",
    "\n",
    "inst = MyClass()\n",
    "\n",
    "result = isinstance(inst,MyClass)\n",
    "result_2 = isinstance(inst,str)\n",
    "\n",
    "print('result =',result)\n",
    "print('result =',result_2)"
   ]
  },
  {
   "cell_type": "code",
   "execution_count": 7,
   "metadata": {},
   "outputs": [
    {
     "name": "stdout",
     "output_type": "stream",
     "text": [
      "1887555534648 <class 'type'>\n"
     ]
    }
   ],
   "source": [
    "print(id(MyClass) , type(MyClass))"
   ]
  },
  {
   "cell_type": "code",
   "execution_count": 8,
   "metadata": {},
   "outputs": [],
   "source": [
    "inst.name = '孙悟空'"
   ]
  },
  {
   "cell_type": "code",
   "execution_count": 9,
   "metadata": {},
   "outputs": [],
   "source": [
    "inst.value = 10"
   ]
  },
  {
   "cell_type": "code",
   "execution_count": 11,
   "metadata": {},
   "outputs": [
    {
     "name": "stdout",
     "output_type": "stream",
     "text": [
      "10\n"
     ]
    }
   ],
   "source": [
    "print(inst.value)"
   ]
  },
  {
   "cell_type": "code",
   "execution_count": 12,
   "metadata": {},
   "outputs": [
    {
     "name": "stdout",
     "output_type": "stream",
     "text": [
      "孙悟空\n"
     ]
    }
   ],
   "source": [
    "print(inst.name)"
   ]
  },
  {
   "cell_type": "code",
   "execution_count": 16,
   "metadata": {},
   "outputs": [
    {
     "name": "stdout",
     "output_type": "stream",
     "text": [
      "你好！我是 猪八戒\n"
     ]
    }
   ],
   "source": [
    "class Person :\n",
    "    name = '孙悟空'\n",
    "    \n",
    "    def say_hello(self):\n",
    "        print('你好！我是 %s' %self.name)\n",
    "\n",
    "p1 = Person()\n",
    "p1.name = '猪八戒'\n",
    "p1.say_hello()"
   ]
  },
  {
   "cell_type": "code",
   "execution_count": 24,
   "metadata": {},
   "outputs": [
    {
     "name": "stdout",
     "output_type": "stream",
     "text": [
      "大家好，我是孙悟空\n"
     ]
    }
   ],
   "source": [
    "class Person:\n",
    "    '''\n",
    "    在类中可以定义一些特殊方法（魔术方法）;\n",
    "    特殊方法都是以__开头，__结尾的方法;\n",
    "    特殊方法不需要我们自己调用，不要尝试去调用特殊方法;\n",
    "    特殊方法将会在特殊的时刻自动调用;\n",
    "    '''\n",
    "    \n",
    "    def __init__(self):\n",
    "        # 通过self向新建的对象中初始化属性\n",
    "        self.name = '孙悟空'\n",
    "\n",
    "    def say_hello(self):\n",
    "        print('大家好，我是%s'%self.name)\n",
    "\n",
    "p2 = Person()\n",
    "p2.say_hello()"
   ]
  },
  {
   "cell_type": "code",
   "execution_count": 27,
   "metadata": {},
   "outputs": [
    {
     "name": "stdout",
     "output_type": "stream",
     "text": [
      "大家好，我是孙悟空\n"
     ]
    }
   ],
   "source": [
    "class Person:\n",
    "    '''\n",
    "    在类中可以定义一些特殊方法（魔术方法）;\n",
    "    特殊方法都是以__开头，__结尾的方法;\n",
    "    特殊方法不需要我们自己调用，不要尝试去调用特殊方法;\n",
    "    特殊方法将会在特殊的时刻自动调用;\n",
    "    '''\n",
    "    \n",
    "    def __init__(self,name):\n",
    "        # 通过self向新建的对象中初始化属性\n",
    "        self.name = name\n",
    "\n",
    "    def say_hello(self):\n",
    "        print('大家好，我是%s'%self.name)\n",
    "\n",
    "p3 = Person('孙悟空')\n",
    "p3.say_hello()"
   ]
  },
  {
   "cell_type": "code",
   "execution_count": 28,
   "metadata": {},
   "outputs": [
    {
     "name": "stdout",
     "output_type": "stream",
     "text": [
      "大家好，我是沙悟净\n"
     ]
    }
   ],
   "source": [
    "p4 = Person('沙悟净')\n",
    "p4.say_hello()"
   ]
  },
  {
   "cell_type": "code",
   "execution_count": 32,
   "metadata": {},
   "outputs": [
    {
     "name": "stdout",
     "output_type": "stream",
     "text": [
      "旺财 在冲着你叫~~\n"
     ]
    }
   ],
   "source": [
    "class Dog:\n",
    "    '''\n",
    "    表示狗的类\n",
    "    '''\n",
    "    def __init__(self, breed, name, age, gender, height, weight):\n",
    "        self.breed = breed\n",
    "        self.name = name\n",
    "        self.age = age \n",
    "        self.gender = gender\n",
    "        self.height = height\n",
    "        self.weight = weight\n",
    "    \n",
    "    def bark(self):\n",
    "        '''\n",
    "        狗叫的方法\n",
    "        '''\n",
    "        print('%s 在冲着你叫~~'%self.name)\n",
    "    \n",
    "    def bite(self):\n",
    "        '''\n",
    "        狗咬的方法\n",
    "        '''\n",
    "        print('%s 在咬你~~'%self.name)\n",
    "    def lick(self):\n",
    "        '''\n",
    "        狗舔的方法\n",
    "        '''\n",
    "        print('%s 在舔你~~'%self.name)\n",
    "    def run(self):\n",
    "        '''\n",
    "        狗跑的方法\n",
    "        '''\n",
    "        print('%s 在跑向你~~'%self.name)\n",
    "        \n",
    "    def jump(self):\n",
    "        '''\n",
    "        狗跳的方法        \n",
    "        '''\n",
    "        print('%s 在跳~~'%self.name)\n",
    "        \n",
    "your_dog = Dog('中华田园犬', '旺财', 3, 'male', '50cm', '25kg')\n",
    "your_dog.bark()"
   ]
  },
  {
   "cell_type": "code",
   "execution_count": null,
   "metadata": {},
   "outputs": [],
   "source": []
  }
 ],
 "metadata": {
  "kernelspec": {
   "display_name": "Python 3",
   "language": "python",
   "name": "python3"
  },
  "language_info": {
   "codemirror_mode": {
    "name": "ipython",
    "version": 3
   },
   "file_extension": ".py",
   "mimetype": "text/x-python",
   "name": "python",
   "nbconvert_exporter": "python",
   "pygments_lexer": "ipython3",
   "version": "3.7.6"
  }
 },
 "nbformat": 4,
 "nbformat_minor": 4
}

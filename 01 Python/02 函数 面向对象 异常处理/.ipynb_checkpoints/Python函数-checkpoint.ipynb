{
 "cells": [
  {
   "cell_type": "code",
   "execution_count": 2,
   "metadata": {},
   "outputs": [
    {
     "name": "stdout",
     "output_type": "stream",
     "text": [
      "a = () <class 'tuple'>\n"
     ]
    }
   ],
   "source": [
    "def fn(*a):\n",
    "    print(\"a =\",a,type(a))\n",
    "fn()"
   ]
  },
  {
   "cell_type": "code",
   "execution_count": 5,
   "metadata": {},
   "outputs": [
    {
     "name": "stdout",
     "output_type": "stream",
     "text": [
      "a = 1\n",
      "b = 2\n",
      "c = (3, 4, 5, 6)\n"
     ]
    }
   ],
   "source": [
    "def fn2(a,b,*c):\n",
    "    print('a =',a)\n",
    "    print('b =',b)\n",
    "    print('c =',c)\n",
    "fn2(1,2,3,4,5,6)"
   ]
  },
  {
   "cell_type": "code",
   "execution_count": 8,
   "metadata": {},
   "outputs": [
    {
     "name": "stdout",
     "output_type": "stream",
     "text": [
      "a = 1\n",
      "b = (2, 3, 4, 5)\n",
      "c = 6\n"
     ]
    }
   ],
   "source": [
    "def fn3(a,*b,c):\n",
    "    print('a =',a)\n",
    "    print('b =',b)\n",
    "    print('c =',c)\n",
    "fn3(1,2,3,4,5,c=6)"
   ]
  },
  {
   "cell_type": "code",
   "execution_count": 10,
   "metadata": {},
   "outputs": [
    {
     "name": "stdout",
     "output_type": "stream",
     "text": [
      "a = (1, 2, 3, 4)\n",
      "b = 5\n",
      "c = 6\n"
     ]
    }
   ],
   "source": [
    "def fn4(*a,b,c):\n",
    "    print('a =',a)\n",
    "    print('b =',b)\n",
    "    print('c =',c)\n",
    "fn4(1,2,3,4,b=5,c=6)"
   ]
  },
  {
   "cell_type": "code",
   "execution_count": 11,
   "metadata": {},
   "outputs": [
    {
     "name": "stdout",
     "output_type": "stream",
     "text": [
      "a = 4\n",
      "b = 5\n",
      "c = 6\n"
     ]
    }
   ],
   "source": [
    "def fn5(*,a,b,c):\n",
    "    print('a =',a)\n",
    "    print('b =',b)\n",
    "    print('c =',c)\n",
    "fn5(a=4,b=5,c=6)"
   ]
  },
  {
   "cell_type": "code",
   "execution_count": 12,
   "metadata": {},
   "outputs": [
    {
     "name": "stdout",
     "output_type": "stream",
     "text": [
      "a = {'d': 2, 'e': 10, 'f': 20} <class 'dict'>\n",
      "b = 1\n",
      "c = 3\n"
     ]
    }
   ],
   "source": [
    "def fn6(b,c,**a) :\n",
    "    print('a =',a,type(a))\n",
    "    print('b =',b)\n",
    "    print('c =',c)\n",
    "\n",
    "fn6(b=1,d=2,c=3,e=10,f=20)"
   ]
  },
  {
   "cell_type": "code",
   "execution_count": 16,
   "metadata": {},
   "outputs": [
    {
     "name": "stdout",
     "output_type": "stream",
     "text": [
      "a = 10\n",
      "b = 20\n",
      "c = 30\n",
      "a = 10\n",
      "b = 20\n",
      "c = 30\n"
     ]
    }
   ],
   "source": [
    "def fn7(a,b,c):\n",
    "    print('a =',a)\n",
    "    print('b =',b)\n",
    "    print('c =',c)\n",
    "\n",
    "\n",
    "# 创建一个元组\n",
    "t = (10,20,30)\n",
    "fn7(t[0],t[1],t[2])\n",
    "\n",
    "# 创建一个列表\n",
    "t = [10,20,30]\n",
    "fn7(*t)"
   ]
  },
  {
   "cell_type": "code",
   "execution_count": 20,
   "metadata": {},
   "outputs": [
    {
     "name": "stdout",
     "output_type": "stream",
     "text": [
      "a = 100\n",
      "b = 200\n",
      "c = 300\n"
     ]
    }
   ],
   "source": [
    "# 创建一个字典\n",
    "d = {'a':100,'b':200,'c':300}\n",
    "\n",
    "fn7(**d)"
   ]
  },
  {
   "cell_type": "code",
   "execution_count": 21,
   "metadata": {},
   "outputs": [
    {
     "name": "stdout",
     "output_type": "stream",
     "text": [
      "Help on function fn in module __main__:\n",
      "\n",
      "fn(a: int, b: bool, c: str = 'hello') -> int\n",
      "    这是一个文档字符串的示例\n",
      "    \n",
      "    函数的作用：。。。。。\n",
      "    函数的参数：\n",
      "        a，作用，类型，默认值。。。。\n",
      "        b，作用，类型，默认值。。。。\n",
      "        c，作用，类型，默认值。。。。\n",
      "\n"
     ]
    }
   ],
   "source": [
    "def fn(a:int,b:bool,c:str='hello') -> int:\n",
    "    '''\n",
    "    这是一个文档字符串的示例\n",
    "\n",
    "    函数的作用：。。。。。\n",
    "    函数的参数：\n",
    "        a，作用，类型，默认值。。。。\n",
    "        b，作用，类型，默认值。。。。\n",
    "        c，作用，类型，默认值。。。。\n",
    "    '''\n",
    "    return 10\n",
    "\n",
    "help(fn)"
   ]
  },
  {
   "cell_type": "code",
   "execution_count": null,
   "metadata": {},
   "outputs": [],
   "source": [
    "命名空间（namespace）\n",
    "命名空间指的是变量存储的位置，每一个变量都需要存储到指定的命名空间当中\n",
    "每一个作用域都会有一个它对应的命名空间\n",
    "全局命名空间，用来保存全局变量。函数命名空间用来保存函数中的变量\n",
    "命名空间实际上就是一个字典，是一个专门用来存储变量的字典\n",
    "\n",
    "locals()用来获取当前作用域的命名空间\n",
    "如果在全局作用域中调用locals()则获取全局命名空间，如果在函数作用域中调用locals()则获取函数命名空间\n",
    "返回的是一个字典\n",
    "scope = locals() # 当前命名空间"
   ]
  },
  {
   "cell_type": "code",
   "execution_count": 24,
   "metadata": {},
   "outputs": [
    {
     "name": "stdout",
     "output_type": "stream",
     "text": [
      "720\n"
     ]
    }
   ],
   "source": [
    "def factorial(n):\n",
    "    '''\n",
    "        该函数用来求任意数的阶乘\n",
    "        参数：n 要求阶乘的数字\n",
    "    '''\n",
    "    # 基线条件；判断n是否为1，如果为1则此时不能再继续递归\n",
    "    if n == 1 :\n",
    "        # 1的阶乘就是1，直接返回1\n",
    "        return 1\n",
    "\n",
    "    # 递归条件    \n",
    "    return n * factorial(n-1)\n",
    "print(factorial(6))"
   ]
  },
  {
   "cell_type": "code",
   "execution_count": 28,
   "metadata": {},
   "outputs": [
    {
     "name": "stdout",
     "output_type": "stream",
     "text": [
      "['1', 2, 3, '4', 5, '6']\n"
     ]
    }
   ],
   "source": [
    "l = [2,5,'1',3,'6','4']\n",
    "l.sort(key=int)\n",
    "print(l)"
   ]
  },
  {
   "cell_type": "code",
   "execution_count": 29,
   "metadata": {},
   "outputs": [
    {
     "name": "stdout",
     "output_type": "stream",
     "text": [
      "['c', 'bb', 'fff', 'aaaa', 'ddddddddd']\n"
     ]
    }
   ],
   "source": [
    "l = ['bb','aaaa','c','ddddddddd','fff']\n",
    "l.sort(key=len)\n",
    "print(l)"
   ]
  },
  {
   "cell_type": "code",
   "execution_count": 30,
   "metadata": {},
   "outputs": [
    {
     "name": "stdout",
     "output_type": "stream",
     "text": [
      "排序前: [2, 5, '1', 3, '6', '4']\n",
      "['1', 2, 3, '4', 5, '6']\n",
      "排序后: [2, 5, '1', 3, '6', '4']\n"
     ]
    }
   ],
   "source": [
    "l = [2,5,'1',3,'6','4']\n",
    "print('排序前:',l)\n",
    "print(sorted(l,key=int))\n",
    "print('排序后:',l)"
   ]
  },
  {
   "cell_type": "code",
   "execution_count": 1,
   "metadata": {},
   "outputs": [
    {
     "name": "stdout",
     "output_type": "stream",
     "text": [
      "10.0\n"
     ]
    }
   ],
   "source": [
    "def make_averager():\n",
    "    # 创建一个列表，用来保存数值\n",
    "    nums = []\n",
    "\n",
    "    # 创建一个函数，用来计算平均值\n",
    "    def averager(n) :\n",
    "        # 将n添加到列表中\n",
    "        nums.append(n)\n",
    "        # 求平均值\n",
    "        return sum(nums)/len(nums)\n",
    "\n",
    "    return averager\n",
    "\n",
    "averager = make_averager()\n",
    "\n",
    "print(averager(10))"
   ]
  },
  {
   "cell_type": "code",
   "execution_count": 2,
   "metadata": {},
   "outputs": [
    {
     "name": "stdout",
     "output_type": "stream",
     "text": [
      "15.0\n"
     ]
    }
   ],
   "source": [
    "print(averager(20))"
   ]
  },
  {
   "cell_type": "code",
   "execution_count": 6,
   "metadata": {},
   "outputs": [
    {
     "name": "stdout",
     "output_type": "stream",
     "text": [
      "开始执行~~~~\n",
      "我是fn函数....\n",
      "执行结束~~~~\n",
      "第一次输出：\n",
      " None\n",
      "开始执行~~~~\n",
      "执行结束~~~~\n",
      "第二次输出：\n",
      " 579\n",
      "开始执行~~~~\n",
      "执行结束~~~~\n",
      "第三次输出：\n",
      " 56088\n"
     ]
    }
   ],
   "source": [
    "# 创建几个函数\n",
    "def fn():\n",
    "    print('我是fn函数....')\n",
    "    \n",
    "\n",
    "def add(a , b):\n",
    "    '''\n",
    "        求任意两个数的和\n",
    "    '''\n",
    "    r = a + b\n",
    "    return r\n",
    "\n",
    "def mul(a , b):\n",
    "    '''\n",
    "        求任意两个数的积\n",
    "    '''\n",
    "    r = a * b\n",
    "    return r  \n",
    "\n",
    "def begin_end(old):\n",
    "    '''\n",
    "        用来对其他函数进行扩展，使其他函数可以在执行前打印开始执行，执行后打印执行结束\n",
    "\n",
    "        参数：\n",
    "            old 要扩展的函数对象\n",
    "    '''\n",
    "    # 创建一个新函数\n",
    "    def new_function(*args , **kwargs):\n",
    "        print('开始执行~~~~')\n",
    "        # 调用被扩展的函数\n",
    "        result = old(*args , **kwargs)\n",
    "        print('执行结束~~~~')\n",
    "        # 返回函数的执行结果\n",
    "        return result\n",
    "\n",
    "    # 返回新函数        \n",
    "    return new_function\n",
    "\n",
    "f = begin_end(fn)\n",
    "f2 = begin_end(add)\n",
    "f3 = begin_end(mul)\n",
    "\n",
    "r = f()\n",
    "\n",
    "print('第一次输出：\\n',r)\n",
    "r = f2(123,456)\n",
    "print('第二次输出：\\n',r)\n",
    "r = f3(123,456)\n",
    "print('第三次输出：\\n',r)"
   ]
  },
  {
   "cell_type": "code",
   "execution_count": 9,
   "metadata": {},
   "outputs": [
    {
     "name": "stdout",
     "output_type": "stream",
     "text": [
      "大家好~~~\n"
     ]
    }
   ],
   "source": [
    "\n",
    "@begin_end\n",
    "def say_hello():\n",
    "    print('大家好~~~')\n",
    "\n",
    "say_hello()"
   ]
  },
  {
   "cell_type": "code",
   "execution_count": 11,
   "metadata": {},
   "outputs": [
    {
     "name": "stdout",
     "output_type": "stream",
     "text": [
      "fn3装饰~开始执行~~~~\n",
      "开始执行~~~~\n",
      "大家好~~~\n",
      "执行结束~~~~\n",
      "fn3装饰~执行结束~~~~\n"
     ]
    }
   ],
   "source": [
    "def fn3(old):\n",
    "    '''\n",
    "        用来对其他函数进行扩展，使其他函数可以在执行前打印开始执行，执行后打印执行结束\n",
    "\n",
    "        参数：\n",
    "            old 要扩展的函数对象\n",
    "    '''\n",
    "    # 创建一个新函数\n",
    "    def new_function(*args , **kwargs):\n",
    "        print('fn3装饰~开始执行~~~~')\n",
    "        # 调用被扩展的函数\n",
    "        result = old(*args , **kwargs)\n",
    "        print('fn3装饰~执行结束~~~~')\n",
    "        # 返回函数的执行结果\n",
    "        return result\n",
    "\n",
    "    # 返回新函数        \n",
    "    return new_function\n",
    "\n",
    "@fn3\n",
    "@begin_end\n",
    "def say_hello():\n",
    "    print('大家好~~~')\n",
    "    \n",
    "say_hello()"
   ]
  },
  {
   "cell_type": "code",
   "execution_count": 12,
   "metadata": {},
   "outputs": [
    {
     "name": "stdout",
     "output_type": "stream",
     "text": [
      "开始执行~~~~\n",
      "fn3装饰~开始执行~~~~\n",
      "大家好~~~\n",
      "fn3装饰~执行结束~~~~\n",
      "执行结束~~~~\n"
     ]
    }
   ],
   "source": [
    "\n",
    "@begin_end\n",
    "@fn3\n",
    "def say_hello():\n",
    "    print('大家好~~~')\n",
    "    \n",
    "say_hello()"
   ]
  },
  {
   "cell_type": "code",
   "execution_count": null,
   "metadata": {},
   "outputs": [],
   "source": []
  }
 ],
 "metadata": {
  "kernelspec": {
   "display_name": "Python 3",
   "language": "python",
   "name": "python3"
  },
  "language_info": {
   "codemirror_mode": {
    "name": "ipython",
    "version": 3
   },
   "file_extension": ".py",
   "mimetype": "text/x-python",
   "name": "python",
   "nbconvert_exporter": "python",
   "pygments_lexer": "ipython3",
   "version": "3.7.6"
  }
 },
 "nbformat": 4,
 "nbformat_minor": 4
}

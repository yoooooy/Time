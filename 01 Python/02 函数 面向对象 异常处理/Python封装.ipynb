{
 "cells": [
  {
   "cell_type": "code",
   "execution_count": 4,
   "metadata": {},
   "outputs": [
    {
     "name": "stdout",
     "output_type": "stream",
     "text": [
      "你家狗的名字是:旺财\n"
     ]
    }
   ],
   "source": [
    "class Dog:\n",
    "    '''\n",
    "    表示狗的类\n",
    "    '''\n",
    "    def __init__(self, name):\n",
    "        self.hidden_name = name\n",
    "\n",
    "    def say_hello(self):\n",
    "        print('你家狗的名字是:%s'%self.hidden_name) \n",
    "your_dog = Dog('旺财')\n",
    "your_dog.say_hello()"
   ]
  },
  {
   "cell_type": "code",
   "execution_count": 11,
   "metadata": {},
   "outputs": [
    {
     "name": "stdout",
     "output_type": "stream",
     "text": [
      "你家狗的名字是：旺财\n"
     ]
    },
    {
     "data": {
      "text/plain": [
       "'你家狗的新名字为：蛋挞'"
      ]
     },
     "execution_count": 11,
     "metadata": {},
     "output_type": "execute_result"
    }
   ],
   "source": [
    "class Dog:\n",
    "    '''\n",
    "    表示狗的类\n",
    "    '''\n",
    "    def __init__(self, name):\n",
    "        self.hidden_name = name\n",
    "\n",
    "    def say_hello(self):\n",
    "        print('你家狗的名字是：%s'%self.hidden_name) \n",
    "        \n",
    "    def get_name(self):\n",
    "        '''\n",
    "        get_name()用来获取对象的name属性\n",
    "        '''    \n",
    "        return ('你家狗的新名字为：%s'%self.hidden_name)\n",
    "\n",
    "    def set_name(self, name):\n",
    "        self.hidden_name = name\n",
    "\n",
    "your_dog = Dog('旺财')\n",
    "your_dog.say_hello()\n",
    "\n",
    "your_dog.set_name('蛋挞')\n",
    "your_dog.get_name()"
   ]
  },
  {
   "cell_type": "code",
   "execution_count": 13,
   "metadata": {},
   "outputs": [
    {
     "name": "stdout",
     "output_type": "stream",
     "text": [
      "200\n"
     ]
    }
   ],
   "source": [
    "class Rectangle:\n",
    "    '''\n",
    "        表示矩形的类\n",
    "    '''\n",
    "    def __init__(self, width, height):\n",
    "        self.hidden_width = width\n",
    "        self.hidden_height = height\n",
    "\n",
    "    def get_width(self):\n",
    "        return self.hidden_width\n",
    "\n",
    "    def get_height(self):\n",
    "        return self.hidden_height   \n",
    "\n",
    "    def set_width(self , width):\n",
    "        self.hidden_width = width \n",
    "\n",
    "    def set_height(self , height):\n",
    "        self.hidden_height = height \n",
    "\n",
    "    def get_area(self):\n",
    "        return self.hidden_width * self.hidden_height        \n",
    "\n",
    "r = Rectangle(5,2)  \n",
    "r.set_width(10)\n",
    "r.set_height(20)\n",
    "\n",
    "print(r.get_area()) "
   ]
  },
  {
   "cell_type": "code",
   "execution_count": 16,
   "metadata": {},
   "outputs": [
    {
     "name": "stdout",
     "output_type": "stream",
     "text": [
      "孙悟空\n",
      "猪八戒\n"
     ]
    }
   ],
   "source": [
    "class Person:\n",
    "    def __init__(self,name):\n",
    "        self.__name = name\n",
    "\n",
    "    def get_name(self):\n",
    "        return self.__name\n",
    "\n",
    "    def set_name(self , name):\n",
    "        self.__name = name        \n",
    "\n",
    "p = Person('孙悟空')\n",
    "\n",
    "#print(p.__name) __开头的属性是隐藏属性，无法通过对象访问（报错：SyntaxError: invalid character in identifier）\n",
    "p.__name = '猪八戒'\n",
    "print(p._Person__name)\n",
    "# 修改隐藏属性，没有特殊需要不要这么做\n",
    "p._Person__name = '猪八戒'\n",
    "\n",
    "print(p.get_name())"
   ]
  },
  {
   "cell_type": "code",
   "execution_count": 17,
   "metadata": {},
   "outputs": [
    {
     "name": "stdout",
     "output_type": "stream",
     "text": [
      "孙悟空\n"
     ]
    }
   ],
   "source": [
    "class Person:\n",
    "    def __init__(self,name):\n",
    "        self._name = name\n",
    "\n",
    "    def get_name(self):\n",
    "        return self._name\n",
    "\n",
    "    def set_name(self , name):\n",
    "        self._name = name   \n",
    "\n",
    "p = Person('孙悟空')\n",
    "\n",
    "print(p._name)"
   ]
  },
  {
   "cell_type": "code",
   "execution_count": 23,
   "metadata": {},
   "outputs": [
    {
     "name": "stdout",
     "output_type": "stream",
     "text": [
      "get方法执行了~~~\n",
      "孙悟空\n"
     ]
    }
   ],
   "source": [
    "class Person:\n",
    "    \n",
    "    def __init__(self,name):\n",
    "        self._name = name\n",
    "\n",
    "    @property\n",
    "    def name(self):\n",
    "        print('get方法执行了~~~')\n",
    "        return self._name\n",
    "\n",
    "p = Person('孙悟空')\n",
    "#print(p.name())\n",
    "print(p.name)"
   ]
  },
  {
   "cell_type": "code",
   "execution_count": 25,
   "metadata": {},
   "outputs": [
    {
     "name": "stdout",
     "output_type": "stream",
     "text": [
      "get方法执行了~~~\n",
      "修改前：孙悟空\n",
      "setter方法调用了\n",
      "get方法执行了~~~\n",
      "修改后：猪八戒\n"
     ]
    }
   ],
   "source": [
    "class Person:\n",
    "    def __init__(self,name):\n",
    "        self._name = name\n",
    "\n",
    "    # 使用property装饰的方法，必须和属性名是一样的\n",
    "    @property    \n",
    "    def name(self):\n",
    "        print('get方法执行了~~~')\n",
    "        return self._name\n",
    "\n",
    "    # setter方法的装饰器：@属性名.setter\n",
    "    @name.setter    \n",
    "    def name(self, name):\n",
    "        print('setter方法调用了')\n",
    "        self._name = name\n",
    "p = Person('孙悟空')\n",
    "print('修改前：%s'%p.name)\n",
    "p.name = '猪八戒'\n",
    "print('修改后：%s'%p.name)"
   ]
  },
  {
   "cell_type": "code",
   "execution_count": 27,
   "metadata": {},
   "outputs": [
    {
     "name": "stdout",
     "output_type": "stream",
     "text": [
      "get方法执行了~~~\n",
      "修改前：孙悟空 500\n",
      "setter方法调用了\n",
      "get方法执行了~~~\n",
      "修改后：猪八戒 1000\n"
     ]
    }
   ],
   "source": [
    "class Person:\n",
    "    def __init__(self, name, age):\n",
    "        self._name = name\n",
    "        self._age = age\n",
    "\n",
    "    @property    \n",
    "    def name(self):\n",
    "        print('get方法执行了~~~')\n",
    "        return self._name\n",
    "\n",
    "    # setter方法的装饰器：@属性名.setter\n",
    "    @name.setter    \n",
    "    def name(self, name):\n",
    "        print('setter方法调用了')\n",
    "        self._name = name        \n",
    "\n",
    "    @property\n",
    "    def age(self):\n",
    "        return self._age\n",
    "\n",
    "    @age.setter    \n",
    "    def age(self, age):\n",
    "        self._age = age\n",
    "\n",
    "\n",
    "p = Person('孙悟空', 500)\n",
    "print('修改前：%s %s'%(p.name, p.age))\n",
    "\n",
    "p.name = '猪八戒'\n",
    "p.age = 1000\n",
    "print('修改后：%s %s'%(p.name, p.age))"
   ]
  },
  {
   "cell_type": "code",
   "execution_count": null,
   "metadata": {},
   "outputs": [],
   "source": []
  }
 ],
 "metadata": {
  "kernelspec": {
   "display_name": "Python 3",
   "language": "python",
   "name": "python3"
  },
  "language_info": {
   "codemirror_mode": {
    "name": "ipython",
    "version": 3
   },
   "file_extension": ".py",
   "mimetype": "text/x-python",
   "name": "python",
   "nbconvert_exporter": "python",
   "pygments_lexer": "ipython3",
   "version": "3.7.6"
  }
 },
 "nbformat": 4,
 "nbformat_minor": 4
}

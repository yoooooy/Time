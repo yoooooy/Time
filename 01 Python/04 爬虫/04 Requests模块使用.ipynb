{
 "cells": [
  {
   "cell_type": "code",
   "execution_count": 16,
   "metadata": {},
   "outputs": [],
   "source": [
    "import requests, re, random\n",
    "\n",
    "user_agent_pool = [\n",
    "    'Mozilla/5.0 (Windows; U; Windows NT 6.1; en-US) AppleWebKit/532.5 (KHTML, like Gecko) Chrome/4.0.249.0 Safari/532.5',\n",
    "]\n",
    "\n",
    "headers_pool = {'User-Agent':random.choice(user_agent_pool)}\n",
    "\n",
    "# 如果get中设置了该参数，需要打开Fiddler\n",
    "proxies_pool = [\n",
    "    {\n",
    "        'http':'http://127.0.0.1:6666',\n",
    "    },\n",
    "]\n",
    "\n",
    "obj_url = 'https://www.jd.com/'\n",
    "regular_ex = '<title>(.*?)</title>'\n",
    "request_pull = requests.get(obj_url,\n",
    "                            headers=headers_pool,\n",
    "                            proxies=random.choice(proxies_pool))\n",
    "response_title = re.compile(regular_ex,re.S).findall(request_pull.text)\n",
    "\n",
    "#对于带参数的URL，传入一个dict作为params参数：\n",
    "'''\n",
    "比如阿里文学：https://yc.aliwx.com.cn/login?modal=1\n",
    "'''\n",
    "params_pull = {'modal':'1',}\n",
    "response_con = requests.get('https://yc.aliwx.com.cn/login',params=params_pull)"
   ]
  },
  {
   "cell_type": "code",
   "execution_count": 17,
   "metadata": {},
   "outputs": [
    {
     "data": {
      "text/plain": [
       "['京东(JD.COM)-正品低价、品质保障、配送及时、轻松购物！']"
      ]
     },
     "execution_count": 17,
     "metadata": {},
     "output_type": "execute_result"
    }
   ],
   "source": [
    "response_title"
   ]
  },
  {
   "cell_type": "code",
   "execution_count": 7,
   "metadata": {},
   "outputs": [
    {
     "data": {
      "text/plain": [
       "requests.models.Response"
      ]
     },
     "execution_count": 7,
     "metadata": {},
     "output_type": "execute_result"
    }
   ],
   "source": [
    "# 查看数据类型\n",
    "type(response_con)"
   ]
  },
  {
   "cell_type": "code",
   "execution_count": 8,
   "metadata": {},
   "outputs": [
    {
     "data": {
      "text/plain": [
       "'utf-8'"
      ]
     },
     "execution_count": 8,
     "metadata": {},
     "output_type": "execute_result"
    }
   ],
   "source": [
    "# 查看编码\n",
    "response_con.encoding"
   ]
  },
  {
   "cell_type": "code",
   "execution_count": 9,
   "metadata": {},
   "outputs": [
    {
     "data": {
      "text/plain": [
       "<RequestsCookieJar[Cookie(version=0, name='ctoken', value='Yvs1foGyVtn92lOMyFoz6dYj', port=None, port_specified=False, domain='yc.aliwx.com.cn', domain_specified=False, domain_initial_dot=False, path='/', path_specified=True, secure=True, expires=None, discard=True, comment=None, comment_url=None, rest={}, rfc2109=False)]>"
      ]
     },
     "execution_count": 9,
     "metadata": {},
     "output_type": "execute_result"
    }
   ],
   "source": [
    "# 查看cookies\n",
    "response_con.cookies"
   ]
  },
  {
   "cell_type": "code",
   "execution_count": 10,
   "metadata": {},
   "outputs": [
    {
     "data": {
      "text/plain": [
       "'https://yc.aliwx.com.cn/login?modal=1'"
      ]
     },
     "execution_count": 10,
     "metadata": {},
     "output_type": "execute_result"
    }
   ],
   "source": [
    "# 查看url\n",
    "response_con.url"
   ]
  },
  {
   "cell_type": "code",
   "execution_count": 29,
   "metadata": {},
   "outputs": [
    {
     "data": {
      "text/plain": [
       "200"
      ]
     },
     "execution_count": 29,
     "metadata": {},
     "output_type": "execute_result"
    }
   ],
   "source": [
    "# 查看请求状态码\n",
    "response_con.status_code"
   ]
  },
  {
   "cell_type": "code",
   "execution_count": 33,
   "metadata": {},
   "outputs": [],
   "source": [
    "response_con.raise_for_status()"
   ]
  },
  {
   "cell_type": "code",
   "execution_count": 12,
   "metadata": {},
   "outputs": [
    {
     "data": {
      "text/plain": [
       "{'ctoken': 'Yvs1foGyVtn92lOMyFoz6dYj'}"
      ]
     },
     "execution_count": 12,
     "metadata": {},
     "output_type": "execute_result"
    }
   ],
   "source": [
    "# 将cookies转为字典格式\n",
    "requests.utils.dict_from_cookiejar(response_con.cookies)"
   ]
  },
  {
   "cell_type": "code",
   "execution_count": 34,
   "metadata": {},
   "outputs": [],
   "source": [
    "# 使用在线测试工具来测试post\n",
    "'''\n",
    "http://coolaf.com/zh/tool/gp\n",
    "'''\n",
    "post_test_url = 'http://coolaf.com/zh/tool/gp'\n",
    "post_test_data = {\n",
    "    'url':'https://yc.aliwx.com.cn/',\n",
    "    'stylepe':'post',\n",
    "    'parms':6666,\n",
    "}\n",
    "response_post = requests.post(post_test_url, data=post_test_data)"
   ]
  },
  {
   "cell_type": "code",
   "execution_count": 35,
   "metadata": {},
   "outputs": [
    {
     "data": {
      "text/plain": [
       "<Response [200]>"
      ]
     },
     "execution_count": 35,
     "metadata": {},
     "output_type": "execute_result"
    }
   ],
   "source": [
    "response_post"
   ]
  },
  {
   "cell_type": "code",
   "execution_count": 36,
   "metadata": {},
   "outputs": [
    {
     "data": {
      "text/plain": [
       "'\\r\\n<!DOCTYPE html>\\n<html>\\n<head>\\n  <meta charset=\"UTF-8\">\\n  <meta http-equiv=\"X-UA-Compatible\" content=\"IE=edge\">\\n  <meta http-equiv=\"Cache-Control\" content=\"no-cache\">\\n  <meta name=\"viewport\" content=\"width=device-width,initial-scale=1,maximum-scale=1,user-scalable=0\">\\n  <meta name=\"aplus-waiting\" content=\"MAN\">\\n  <meta name=\"data-spm\" content=\"write_aliwx\">\\n  <link rel=\"shortcut icon\" href=\"https://t.shuqi.com/favicon.ico\">\\n  <title>阿里文学创作平台</title>\\n  <script>window.__redux_state__= {\"context\":{\"user\":{\"origin\":[\"aliwx.test\",\"aliwx.com.cn\"]},\"env\":\"prod\"}} </script>\\n</head>\\n<body><script>\\nwith(document)with(body)with(insertBefore(createElement(\"script\"),firstChild))setAttribute(\"exparams\",\"category=&userid=&aplus&yunid=&&trid=0b0fcc3115860429281174727ee61c&asid=AQAAAAAwGIler/jtEgAAAADmg5HJiobTrA==\",id=\"tb-beacon-aplus\",src=(location>\"https\"?\"//g\":\"//g\")+\".alicdn.com/alilog/mlog/aplus_v2.js\")\\n</script>\\n\\n  <div id=\"main-container\"></div>\\n<script type=\"text/javascript\" src=\"/public/yes/yes.02a0b4666d2027c641eb.js\"></script></body>\\n<script src=\"//g.alicdn.com/sd/ctl/ctl.js\" type=\"text/javascript\"></script>\\n<script>\\n  ctl.config(\"PC\");\\n</script>\\n</html>\\n'"
      ]
     },
     "execution_count": 36,
     "metadata": {},
     "output_type": "execute_result"
    }
   ],
   "source": [
    "response_con.text"
   ]
  },
  {
   "cell_type": "code",
   "execution_count": 27,
   "metadata": {},
   "outputs": [
    {
     "name": "stdout",
     "output_type": "stream",
     "text": [
      "------正在爬取第1页------\n",
      "['https://yq.aliyun.com/articles/751147', 'https://yq.aliyun.com/articles/748260', 'https://yq.aliyun.com/articles/751285', 'https://yq.aliyun.com/articles/747369', 'https://yq.aliyun.com/articles/748141', 'https://yq.aliyun.com/articles/748052', 'https://yq.aliyun.com/articles/745952', 'https://yq.aliyun.com/articles/748891', 'https://yq.aliyun.com/articles/726724', 'https://yq.aliyun.com/articles/743343', 'https://yq.aliyun.com/articles/747293', 'https://yq.aliyun.com/articles/746469', 'https://yq.aliyun.com/articles/704974', 'https://yq.aliyun.com/articles/744998', 'https://yq.aliyun.com/articles/75546']\n",
      "\n",
      "All done!\n"
     ]
    }
   ],
   "source": [
    "# 爬取阿里云 云栖社区博文\n",
    "\n",
    "import requests,re,time\n",
    "\n",
    "search_key = 'python爬虫'\n",
    "obj_url = 'https://yq.aliyun.com/search/articles/'\n",
    "page_regular = {'q':search_key}\n",
    "response_data = requests.get(obj_url, params=page_regular).text\n",
    "pat_total_page = '<div class=\"_search-info\">找到(.*?)条关于'\n",
    "total_line = re.compile(pat_total_page,re.S).findall(response_data)[0]\n",
    "total_page = int(total_line)//15 + 1 # 计算总页数，每页15条搜索结果\n",
    "\n",
    "# for i in range(0, int(total_page)):\n",
    "for i in range(0, 1): # 爬取5页\n",
    "    print('------正在爬取第'+str(i+1)+'页------')\n",
    "    index = str(i+1)\n",
    "    getdata = {\n",
    "        'q':search_key,\n",
    "        'p':index,\n",
    "    }\n",
    "    \n",
    "    data = requests.get(obj_url, params=getdata).text\n",
    "    pat_url = '<div class=\"media-body text-overflow\">.*?<a href=\"(.*?)\">'\n",
    "    try:\n",
    "        articles = re.compile(pat_url, re.S).findall(data)\n",
    "        articles_list = []\n",
    "\n",
    "        for j in articles:\n",
    "            single_url = 'https://yq.aliyun.com'+j\n",
    "            articles_list.append(single_url)\n",
    "\n",
    "            single_data = requests.get(single_url).text\n",
    "            pat_title = '<p class=\"hiddenTitle\">(.*?)</p>'\n",
    "            pat_content = '<div class=\"content-detail unsafe markdown-body\">(.*?)<div class=\"copyright-outer-line\">'\n",
    "            title = re.compile(pat_title,re.S).findall(single_data)[0]\n",
    "            content = re.compile(pat_content,re.S).findall(single_data)[0]\n",
    "            file_save = open('D:/Project/05 Python/yq_articles/'+str(i)+'_'+str(time.time())+'.html','w',encoding='utf-8')\n",
    "            file_save.write(title+'<br /><br />'+content)\n",
    "            file_save.close()\n",
    "    except Exception as error:\n",
    "        pass\n",
    "    \n",
    "    print(articles_list)\n",
    "\n",
    "print('\\nAll done!')"
   ]
  },
  {
   "cell_type": "code",
   "execution_count": null,
   "metadata": {},
   "outputs": [],
   "source": []
  }
 ],
 "metadata": {
  "kernelspec": {
   "display_name": "Python 3",
   "language": "python",
   "name": "python3"
  },
  "language_info": {
   "codemirror_mode": {
    "name": "ipython",
    "version": 3
   },
   "file_extension": ".py",
   "mimetype": "text/x-python",
   "name": "python",
   "nbconvert_exporter": "python",
   "pygments_lexer": "ipython3",
   "version": "3.7.6"
  }
 },
 "nbformat": 4,
 "nbformat_minor": 4
}

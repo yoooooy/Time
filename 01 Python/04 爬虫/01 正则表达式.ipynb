{
 "cells": [
  {
   "cell_type": "code",
   "execution_count": 3,
   "metadata": {},
   "outputs": [
    {
     "name": "stdout",
     "output_type": "stream",
     "text": [
      "matchObj.group() :  Cats are smarter than dogs\n",
      "matchObj.group(1) :  Cats\n",
      "matchObj.group(2) :  smarter\n"
     ]
    }
   ],
   "source": [
    "import re\n",
    "\n",
    "line = \"Cats are smarter than dogs\"\n",
    "matchObj = re.match( r'(.*) are (.*?) .*', line, re.M|re.I)\n",
    "\n",
    "if matchObj:\n",
    "    print(\"matchObj.group() : \", matchObj.group())\n",
    "    print(\"matchObj.group(1) : \", matchObj.group(1))\n",
    "    print(\"matchObj.group(2) : \", matchObj.group(2))\n",
    "else:\n",
    "    print(\"No match!!\")"
   ]
  },
  {
   "cell_type": "code",
   "execution_count": 4,
   "metadata": {},
   "outputs": [
    {
     "name": "stdout",
     "output_type": "stream",
     "text": [
      "(0, 4)\n",
      "(5, 9)\n",
      "(10, 13)\n"
     ]
    }
   ],
   "source": [
    "import re\n",
    "print(re.search('blog', 'blog.csdn.net').span())  # 在起始位置匹配\n",
    "print(re.search('csdn', 'blog.csdn.net').span())  # 不在起始位置匹配\n",
    "print(re.search('net', 'blog.csdn.net').span())  # 不在起始位置匹配"
   ]
  },
  {
   "cell_type": "code",
   "execution_count": 5,
   "metadata": {},
   "outputs": [
    {
     "name": "stdout",
     "output_type": "stream",
     "text": [
      "matchObj.group() :  Cats are smarter than dogs\n",
      "matchObj.group(1) :  Cats\n",
      "matchObj.group(2) :  smarter\n"
     ]
    }
   ],
   "source": [
    "line = \"Cats are smarter than dogs\"\n",
    "matchObj = re.search( r'(.*) are (.*?) .*', line, re.M|re.I)\n",
    "\n",
    "if matchObj:\n",
    "    print(\"matchObj.group() : \", matchObj.group())\n",
    "    print(\"matchObj.group(1) : \", matchObj.group(1))\n",
    "    print(\"matchObj.group(2) : \", matchObj.group(2))\n",
    "else:\n",
    "    print(\"No match!!\")"
   ]
  },
  {
   "cell_type": "code",
   "execution_count": 8,
   "metadata": {},
   "outputs": [
    {
     "name": "stdout",
     "output_type": "stream",
     "text": [
      "match --> No match!!\n",
      "search --> matchObj.group():  dogs\n"
     ]
    }
   ],
   "source": [
    "line = \"Cats are smarter than dogs\"\n",
    "\n",
    "matchObj = re.match( r'dogs', line, re.M|re.I)\n",
    "if matchObj:\n",
    "    print(\"match --> matchObj.group() : \", matchObj.group())\n",
    "else:\n",
    "    print(\"match --> No match!!\")\n",
    "    \n",
    "matchObj = re.search( r'dogs', line, re.M|re.I)\n",
    "if matchObj:   \n",
    "    print(\"search --> matchObj.group(): \", matchObj.group())\n",
    "else:\n",
    "    print(\"search --> No match!!\")"
   ]
  },
  {
   "cell_type": "code",
   "execution_count": 9,
   "metadata": {},
   "outputs": [
    {
     "data": {
      "text/plain": [
       "['cs']"
      ]
     },
     "execution_count": 9,
     "metadata": {},
     "output_type": "execute_result"
    }
   ],
   "source": [
    "import re\n",
    "string = \"csdnblog\"\n",
    "pat = \"cs\"\n",
    "re.compile(pat).findall(string)"
   ]
  },
  {
   "cell_type": "code",
   "execution_count": 30,
   "metadata": {},
   "outputs": [
    {
     "name": "stdout",
     "output_type": "stream",
     "text": [
      "您搜索到的奥特曼的快乐老家为：光之国--['M78']--星云\n"
     ]
    }
   ],
   "source": [
    "import re\n",
    "string_2 = \"Ultraman_M78_HappyHometown\"\n",
    "pat_2 = \"\\w\\d\\d\"\n",
    "re_obj = re.compile(pat_2).findall(string_2)\n",
    "print(\"您搜索到的奥特曼的快乐老家为：光之国--%s--星云\" % re_obj)"
   ]
  },
  {
   "cell_type": "code",
   "execution_count": 27,
   "metadata": {},
   "outputs": [
    {
     "name": "stdout",
     "output_type": "stream",
     "text": [
      "您搜索到的雷欧奥特曼的快乐老家为： ['L77']\n",
      "您搜索到的迪迦奥特曼的快乐老家为： ['Earth']\n"
     ]
    }
   ],
   "source": [
    "import re\n",
    "string_3 = \"Ultraman_Earth_M78_L77_U40\"\n",
    "pat_3 = \"[L]\\d\\d\"\n",
    "pat_4 = \"\\w\\w\\w[th][th]\"\n",
    "re_obj_3 = re.compile(pat_3).findall(string_3)\n",
    "re_obj_4 = re.compile(pat_4).findall(string_3)\n",
    "print(\"您搜索到的雷欧奥特曼的快乐老家为：\", re_obj_3)\n",
    "print(\"您搜索到的迪迦奥特曼的快乐老家为：\", re_obj_4)"
   ]
  },
  {
   "cell_type": "code",
   "execution_count": 31,
   "metadata": {},
   "outputs": [
    {
     "data": {
      "text/plain": [
       "['csdnblog']"
      ]
     },
     "execution_count": 31,
     "metadata": {},
     "output_type": "execute_result"
    }
   ],
   "source": [
    "import re\n",
    "string = \"csdnblognet\"\n",
    "pat = \"csdn....\"\n",
    "re.compile(pat).findall(string)"
   ]
  },
  {
   "cell_type": "code",
   "execution_count": 32,
   "metadata": {},
   "outputs": [
    {
     "data": {
      "text/plain": [
       "[]"
      ]
     },
     "execution_count": 32,
     "metadata": {},
     "output_type": "execute_result"
    }
   ],
   "source": [
    "import re\n",
    "string = \"csdnblognet\"\n",
    "pat = \"^bl..\"\n",
    "re.compile(pat).findall(string)"
   ]
  },
  {
   "cell_type": "code",
   "execution_count": 35,
   "metadata": {},
   "outputs": [
    {
     "data": {
      "text/plain": [
       "['csdnblognet']"
      ]
     },
     "execution_count": 35,
     "metadata": {},
     "output_type": "execute_result"
    }
   ],
   "source": [
    "import re\n",
    "string = \"csdnblognet\"\n",
    "pat = \"cs.*\"\n",
    "re.compile(pat).findall(string)"
   ]
  },
  {
   "cell_type": "code",
   "execution_count": 37,
   "metadata": {},
   "outputs": [
    {
     "data": {
      "text/plain": [
       "['csdnnnbbb']"
      ]
     },
     "execution_count": 37,
     "metadata": {},
     "output_type": "execute_result"
    }
   ],
   "source": [
    "import re\n",
    "string = \"csdnnnbbblognet\"\n",
    "pat = \"csdn+b+\"\n",
    "re.compile(pat).findall(string)"
   ]
  },
  {
   "cell_type": "code",
   "execution_count": 42,
   "metadata": {},
   "outputs": [
    {
     "name": "stdout",
     "output_type": "stream",
     "text": [
      "贪婪匹配结果： ['FatherofUltra_MotherofUltra']\n",
      "懒惰匹配结果： ['FatherofUltra']\n"
     ]
    }
   ],
   "source": [
    "import re\n",
    "string = \"Ultraman_FatherofUltra_MotherofUltra\"\n",
    "pat_greedy = \"[MF]a.*a\"\n",
    "pat_lazy = \"[MF]a.*?a\"\n",
    "re_obj_greedy = re.compile(pat_greedy).findall(string)\n",
    "re_obj_lazy = re.compile(pat_lazy).findall(string)\n",
    "print(\"贪婪匹配结果：\", re_obj_greedy)\n",
    "print(\"懒惰匹配结果：\", re_obj_lazy)"
   ]
  },
  {
   "cell_type": "code",
   "execution_count": 52,
   "metadata": {},
   "outputs": [
    {
     "name": "stdout",
     "output_type": "stream",
     "text": [
      "凯蒂猫的英文名为：['Kitty']\n"
     ]
    }
   ],
   "source": [
    "import re\n",
    "string = \"我是该叫你奥特Kitty呢？还是叫你Hello曼？\"\n",
    "pat = \"k...y\"\n",
    "re_obj = re.compile(pat,re.I).findall(string)\n",
    "print(\"凯蒂猫的英文名为：%s\" % re_obj)"
   ]
  },
  {
   "cell_type": "code",
   "execution_count": 70,
   "metadata": {},
   "outputs": [
    {
     "name": "stdout",
     "output_type": "stream",
     "text": [
      "迪迦奥特曼概论：\n",
      "['大家熟知的迪迦奥特曼便是《迪迦奥特曼》里面的那个正义的光之巨人。\\n迪迦奥特曼改邪归正后一直都是为了人类不断奋战。\\n与怪兽战斗的过程中，人类的勇气与光芒都是迪迦的力量来源。\\n而打败最后boss的那份力量就是来自全人类的希望之光']\n"
     ]
    }
   ],
   "source": [
    "import re\n",
    "string = '''\n",
    "迪迦奥特曼是“平成三杰”之首，他开创了多种形态的先河。迪迦奥特曼可以变身成三种不同形态，各种形态有不同的特点。\n",
    "复合型的迪迦奥特曼拥有平衡的力量，力量型全身是红色的，而敏捷型全身是紫色的。\n",
    "他是《迪迦奥特曼》中登场的光之巨人，人间体是真角大古。\n",
    "说起迪迦奥特曼的过去，他可是传说中的黑暗奥特曼。\n",
    "在超远古时期就出现在地球上，后来夺取了好友的力量而可以变成力量形态与敏捷形态。\n",
    "在幽怜的劝说下，他弃暗投明，成为了光之巨人。\n",
    "再后来，大古他们发现了在金字塔里的三个巨人，其中一个就是迪迦奥特曼的石像。\n",
    "在怪兽快要将迪迦奥特曼的石像粉碎时 ，大古与他合二为一了。\n",
    "大古与迪迦奥特曼合二为一后，他们就成为了好搭档，一起保护着地球，维护着人类和平。\n",
    "大家熟知的迪迦奥特曼便是《迪迦奥特曼》里面的那个正义的光之巨人。\n",
    "迪迦奥特曼改邪归正后一直都是为了人类不断奋战。\n",
    "与怪兽战斗的过程中，人类的勇气与光芒都是迪迦的力量来源。\n",
    "而打败最后boss的那份力量就是来自全人类的希望之光。\" #文自百家号：书生漫 2019-08-10\n",
    "'''\n",
    "\n",
    "pat = \"大家熟知的迪迦奥特曼.*?全人类的希望之光\"\n",
    "re_obj = re.compile(pat,re.S).findall(string)\n",
    "print(\"迪迦奥特曼概论：\\n%s\" % re_obj)"
   ]
  },
  {
   "cell_type": "code",
   "execution_count": null,
   "metadata": {},
   "outputs": [],
   "source": []
  }
 ],
 "metadata": {
  "kernelspec": {
   "display_name": "Python 3",
   "language": "python",
   "name": "python3"
  },
  "language_info": {
   "codemirror_mode": {
    "name": "ipython",
    "version": 3
   },
   "file_extension": ".py",
   "mimetype": "text/x-python",
   "name": "python",
   "nbconvert_exporter": "python",
   "pygments_lexer": "ipython3",
   "version": "3.7.6"
  }
 },
 "nbformat": 4,
 "nbformat_minor": 4
}
